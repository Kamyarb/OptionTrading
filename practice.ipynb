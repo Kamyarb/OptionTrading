{
 "cells": [
  {
   "cell_type": "code",
   "execution_count": 11,
   "metadata": {},
   "outputs": [],
   "source": [
    "import datetime\n",
    "import pandas as pd\n",
    "import numpy as np\n",
    "import psycopg2\n",
    "from utils.portfolio import *\n",
    "from utils.base import *\n",
    "from utils.report import *\n",
    "from utils.config import *\n",
    "from utils.instance import *\n",
    "import os\n",
    "import warnings\n",
    "warnings.filterwarnings('ignore')\n",
    "\n"
   ]
  },
  {
   "cell_type": "code",
   "execution_count": 12,
   "metadata": {},
   "outputs": [],
   "source": [
    "options, market = fetch_real_time_last_snapshot()\n",
    "options = extract_call_options_features(options)\n",
    "for i in range(len(options)):\n",
    "    try:\n",
    "      options['interest_rate_ask_price_1'][i]>1\n",
    "    except:\n",
    "        options['interest_rate_ask_price_1'][i] = np.nan"
   ]
  },
  {
   "cell_type": "code",
   "execution_count": 13,
   "metadata": {},
   "outputs": [
    {
     "data": {
      "text/html": [
       "<div>\n",
       "<style scoped>\n",
       "    .dataframe tbody tr th:only-of-type {\n",
       "        vertical-align: middle;\n",
       "    }\n",
       "\n",
       "    .dataframe tbody tr th {\n",
       "        vertical-align: top;\n",
       "    }\n",
       "\n",
       "    .dataframe thead th {\n",
       "        text-align: right;\n",
       "    }\n",
       "</style>\n",
       "<table border=\"1\" class=\"dataframe\">\n",
       "  <thead>\n",
       "    <tr style=\"text-align: right;\">\n",
       "      <th></th>\n",
       "      <th>id_option</th>\n",
       "      <th>isin_option</th>\n",
       "      <th>symbol_option</th>\n",
       "      <th>name</th>\n",
       "      <th>open_price</th>\n",
       "      <th>close_price</th>\n",
       "      <th>last_trade_option</th>\n",
       "      <th>count</th>\n",
       "      <th>volume</th>\n",
       "      <th>value</th>\n",
       "      <th>...</th>\n",
       "      <th>min_allowed_price_base</th>\n",
       "      <th>in_the_money_percentage</th>\n",
       "      <th>ask_price_1_w_o_c</th>\n",
       "      <th>bid_price_1_w_o_c</th>\n",
       "      <th>leverage_ask_price_1</th>\n",
       "      <th>leverage_bid_price_1</th>\n",
       "      <th>leverage_last_trade</th>\n",
       "      <th>interest_rate_last_trade</th>\n",
       "      <th>interest_rate_ask_price_1</th>\n",
       "      <th>interest_rate_bid_price_1</th>\n",
       "    </tr>\n",
       "  </thead>\n",
       "  <tbody>\n",
       "    <tr>\n",
       "      <th>0</th>\n",
       "      <td>20037653197111739</td>\n",
       "      <td>IRO9AGAH0121</td>\n",
       "      <td>ضترو4000</td>\n",
       "      <td>اختيارخ ص آگاه-7000-02/04/14</td>\n",
       "      <td>0.0</td>\n",
       "      <td>7200.0</td>\n",
       "      <td>7200.0</td>\n",
       "      <td>0</td>\n",
       "      <td>0.0</td>\n",
       "      <td>0.0</td>\n",
       "      <td>...</td>\n",
       "      <td>NaN</td>\n",
       "      <td>NaN</td>\n",
       "      <td>7000.0</td>\n",
       "      <td>3009.0</td>\n",
       "      <td>NaN</td>\n",
       "      <td>NaN</td>\n",
       "      <td>NaN</td>\n",
       "      <td>NaN</td>\n",
       "      <td>NaN</td>\n",
       "      <td>NaN</td>\n",
       "    </tr>\n",
       "    <tr>\n",
       "      <th>1</th>\n",
       "      <td>8116142932215303</td>\n",
       "      <td>IRO9AGAH0141</td>\n",
       "      <td>ضترو4002</td>\n",
       "      <td>اختيارخ ص آگاه-8000-02/04/14</td>\n",
       "      <td>0.0</td>\n",
       "      <td>6108.0</td>\n",
       "      <td>6050.0</td>\n",
       "      <td>0</td>\n",
       "      <td>0.0</td>\n",
       "      <td>0.0</td>\n",
       "      <td>...</td>\n",
       "      <td>NaN</td>\n",
       "      <td>NaN</td>\n",
       "      <td>6800.0</td>\n",
       "      <td>5501.0</td>\n",
       "      <td>NaN</td>\n",
       "      <td>NaN</td>\n",
       "      <td>NaN</td>\n",
       "      <td>NaN</td>\n",
       "      <td>NaN</td>\n",
       "      <td>NaN</td>\n",
       "    </tr>\n",
       "    <tr>\n",
       "      <th>2</th>\n",
       "      <td>12833810923774304</td>\n",
       "      <td>IRO9AGAH0161</td>\n",
       "      <td>ضترو4004</td>\n",
       "      <td>اختيارخ ص آگاه-10000-02/04/14</td>\n",
       "      <td>4750.0</td>\n",
       "      <td>4599.0</td>\n",
       "      <td>4680.0</td>\n",
       "      <td>9</td>\n",
       "      <td>120.0</td>\n",
       "      <td>551824000.0</td>\n",
       "      <td>...</td>\n",
       "      <td>NaN</td>\n",
       "      <td>NaN</td>\n",
       "      <td>4687.0</td>\n",
       "      <td>4402.0</td>\n",
       "      <td>NaN</td>\n",
       "      <td>NaN</td>\n",
       "      <td>NaN</td>\n",
       "      <td>NaN</td>\n",
       "      <td>NaN</td>\n",
       "      <td>NaN</td>\n",
       "    </tr>\n",
       "    <tr>\n",
       "      <th>3</th>\n",
       "      <td>54179059222245165</td>\n",
       "      <td>IRO9AGAH0181</td>\n",
       "      <td>ضترو4006</td>\n",
       "      <td>اختيارخ ص آگاه-12000-02/04/14</td>\n",
       "      <td>3100.0</td>\n",
       "      <td>2899.0</td>\n",
       "      <td>3098.0</td>\n",
       "      <td>5</td>\n",
       "      <td>33.0</td>\n",
       "      <td>95668000.0</td>\n",
       "      <td>...</td>\n",
       "      <td>NaN</td>\n",
       "      <td>NaN</td>\n",
       "      <td>3099.0</td>\n",
       "      <td>1701.0</td>\n",
       "      <td>NaN</td>\n",
       "      <td>NaN</td>\n",
       "      <td>NaN</td>\n",
       "      <td>NaN</td>\n",
       "      <td>NaN</td>\n",
       "      <td>NaN</td>\n",
       "    </tr>\n",
       "    <tr>\n",
       "      <th>4</th>\n",
       "      <td>9181823518983931</td>\n",
       "      <td>IRO9AGAH0191</td>\n",
       "      <td>ضترو4007</td>\n",
       "      <td>اختيارخ ص آگاه-13000-02/04/14</td>\n",
       "      <td>2300.0</td>\n",
       "      <td>2566.0</td>\n",
       "      <td>2719.0</td>\n",
       "      <td>25</td>\n",
       "      <td>250.0</td>\n",
       "      <td>641463000.0</td>\n",
       "      <td>...</td>\n",
       "      <td>NaN</td>\n",
       "      <td>NaN</td>\n",
       "      <td>2719.0</td>\n",
       "      <td>2301.0</td>\n",
       "      <td>NaN</td>\n",
       "      <td>NaN</td>\n",
       "      <td>NaN</td>\n",
       "      <td>NaN</td>\n",
       "      <td>NaN</td>\n",
       "      <td>NaN</td>\n",
       "    </tr>\n",
       "    <tr>\n",
       "      <th>5</th>\n",
       "      <td>54936847147016069</td>\n",
       "      <td>IRO9AGAH0211</td>\n",
       "      <td>ضترو4009</td>\n",
       "      <td>اختيارخ ص آگاه-15000-02/04/14</td>\n",
       "      <td>900.0</td>\n",
       "      <td>929.0</td>\n",
       "      <td>950.0</td>\n",
       "      <td>4</td>\n",
       "      <td>350.0</td>\n",
       "      <td>325000000.0</td>\n",
       "      <td>...</td>\n",
       "      <td>NaN</td>\n",
       "      <td>NaN</td>\n",
       "      <td>1300.0</td>\n",
       "      <td>952.0</td>\n",
       "      <td>NaN</td>\n",
       "      <td>NaN</td>\n",
       "      <td>NaN</td>\n",
       "      <td>NaN</td>\n",
       "      <td>NaN</td>\n",
       "      <td>NaN</td>\n",
       "    </tr>\n",
       "    <tr>\n",
       "      <th>6</th>\n",
       "      <td>6656725773350069</td>\n",
       "      <td>IRO9AGAH0221</td>\n",
       "      <td>ضترو4010</td>\n",
       "      <td>اختيارخ ص آگاه-16000-02/04/14</td>\n",
       "      <td>610.0</td>\n",
       "      <td>610.0</td>\n",
       "      <td>610.0</td>\n",
       "      <td>3</td>\n",
       "      <td>40.0</td>\n",
       "      <td>24400000.0</td>\n",
       "      <td>...</td>\n",
       "      <td>NaN</td>\n",
       "      <td>NaN</td>\n",
       "      <td>890.0</td>\n",
       "      <td>530.0</td>\n",
       "      <td>NaN</td>\n",
       "      <td>NaN</td>\n",
       "      <td>NaN</td>\n",
       "      <td>NaN</td>\n",
       "      <td>NaN</td>\n",
       "      <td>NaN</td>\n",
       "    </tr>\n",
       "    <tr>\n",
       "      <th>7</th>\n",
       "      <td>816070469779688</td>\n",
       "      <td>IRO9AHRM6261</td>\n",
       "      <td>ضهرم7000</td>\n",
       "      <td>اختيارخ اهرم-6500-1402/07/23</td>\n",
       "      <td>24200.0</td>\n",
       "      <td>24292.0</td>\n",
       "      <td>24600.0</td>\n",
       "      <td>5</td>\n",
       "      <td>707.0</td>\n",
       "      <td>17174710000.0</td>\n",
       "      <td>...</td>\n",
       "      <td>25440.0</td>\n",
       "      <td>0.779586</td>\n",
       "      <td>25390.0</td>\n",
       "      <td>23101.0</td>\n",
       "      <td>1.162678</td>\n",
       "      <td>1.275255</td>\n",
       "      <td>1.198780</td>\n",
       "      <td>0.876832</td>\n",
       "      <td>1.732739</td>\n",
       "      <td>0.047447</td>\n",
       "    </tr>\n",
       "    <tr>\n",
       "      <th>8</th>\n",
       "      <td>29567585335146943</td>\n",
       "      <td>IRO9AHRM6291</td>\n",
       "      <td>ضهرم7003</td>\n",
       "      <td>اختيارخ اهرم-8000-1402/07/23</td>\n",
       "      <td>0.0</td>\n",
       "      <td>21076.0</td>\n",
       "      <td>21500.0</td>\n",
       "      <td>0</td>\n",
       "      <td>0.0</td>\n",
       "      <td>0.0</td>\n",
       "      <td>...</td>\n",
       "      <td>25440.0</td>\n",
       "      <td>0.728722</td>\n",
       "      <td>22890.0</td>\n",
       "      <td>13002.0</td>\n",
       "      <td>1.289664</td>\n",
       "      <td>2.265779</td>\n",
       "      <td>1.371628</td>\n",
       "      <td>0.002771</td>\n",
       "      <td>0.518401</td>\n",
       "      <td>-0.797694</td>\n",
       "    </tr>\n",
       "    <tr>\n",
       "      <th>9</th>\n",
       "      <td>51752770340789810</td>\n",
       "      <td>IRO9AHRM6301</td>\n",
       "      <td>ضهرم7004</td>\n",
       "      <td>اختيارخ اهرم-9000-1402/07/23</td>\n",
       "      <td>0.0</td>\n",
       "      <td>20650.0</td>\n",
       "      <td>20800.0</td>\n",
       "      <td>0</td>\n",
       "      <td>0.0</td>\n",
       "      <td>0.0</td>\n",
       "      <td>...</td>\n",
       "      <td>25440.0</td>\n",
       "      <td>0.694812</td>\n",
       "      <td>22099.0</td>\n",
       "      <td>18983.0</td>\n",
       "      <td>1.335825</td>\n",
       "      <td>1.551897</td>\n",
       "      <td>1.417788</td>\n",
       "      <td>0.080623</td>\n",
       "      <td>0.535562</td>\n",
       "      <td>-0.287055</td>\n",
       "    </tr>\n",
       "  </tbody>\n",
       "</table>\n",
       "<p>10 rows × 73 columns</p>\n",
       "</div>"
      ],
      "text/plain": [
       "           id_option   isin_option symbol_option  \\\n",
       "0  20037653197111739  IRO9AGAH0121      ضترو4000   \n",
       "1   8116142932215303  IRO9AGAH0141      ضترو4002   \n",
       "2  12833810923774304  IRO9AGAH0161      ضترو4004   \n",
       "3  54179059222245165  IRO9AGAH0181      ضترو4006   \n",
       "4   9181823518983931  IRO9AGAH0191      ضترو4007   \n",
       "5  54936847147016069  IRO9AGAH0211      ضترو4009   \n",
       "6   6656725773350069  IRO9AGAH0221      ضترو4010   \n",
       "7    816070469779688  IRO9AHRM6261      ضهرم7000   \n",
       "8  29567585335146943  IRO9AHRM6291      ضهرم7003   \n",
       "9  51752770340789810  IRO9AHRM6301      ضهرم7004   \n",
       "\n",
       "                            name open_price close_price last_trade_option  \\\n",
       "0   اختيارخ ص آگاه-7000-02/04/14        0.0      7200.0            7200.0   \n",
       "1   اختيارخ ص آگاه-8000-02/04/14        0.0      6108.0            6050.0   \n",
       "2  اختيارخ ص آگاه-10000-02/04/14     4750.0      4599.0            4680.0   \n",
       "3  اختيارخ ص آگاه-12000-02/04/14     3100.0      2899.0            3098.0   \n",
       "4  اختيارخ ص آگاه-13000-02/04/14     2300.0      2566.0            2719.0   \n",
       "5  اختيارخ ص آگاه-15000-02/04/14      900.0       929.0             950.0   \n",
       "6  اختيارخ ص آگاه-16000-02/04/14      610.0       610.0             610.0   \n",
       "7   اختيارخ اهرم-6500-1402/07/23    24200.0     24292.0           24600.0   \n",
       "8   اختيارخ اهرم-8000-1402/07/23        0.0     21076.0           21500.0   \n",
       "9   اختيارخ اهرم-9000-1402/07/23        0.0     20650.0           20800.0   \n",
       "\n",
       "  count volume          value  ... min_allowed_price_base  \\\n",
       "0     0    0.0            0.0  ...                    NaN   \n",
       "1     0    0.0            0.0  ...                    NaN   \n",
       "2     9  120.0    551824000.0  ...                    NaN   \n",
       "3     5   33.0     95668000.0  ...                    NaN   \n",
       "4    25  250.0    641463000.0  ...                    NaN   \n",
       "5     4  350.0    325000000.0  ...                    NaN   \n",
       "6     3   40.0     24400000.0  ...                    NaN   \n",
       "7     5  707.0  17174710000.0  ...                25440.0   \n",
       "8     0    0.0            0.0  ...                25440.0   \n",
       "9     0    0.0            0.0  ...                25440.0   \n",
       "\n",
       "  in_the_money_percentage ask_price_1_w_o_c bid_price_1_w_o_c  \\\n",
       "0                     NaN            7000.0            3009.0   \n",
       "1                     NaN            6800.0            5501.0   \n",
       "2                     NaN            4687.0            4402.0   \n",
       "3                     NaN            3099.0            1701.0   \n",
       "4                     NaN            2719.0            2301.0   \n",
       "5                     NaN            1300.0             952.0   \n",
       "6                     NaN             890.0             530.0   \n",
       "7                0.779586           25390.0           23101.0   \n",
       "8                0.728722           22890.0           13002.0   \n",
       "9                0.694812           22099.0           18983.0   \n",
       "\n",
       "  leverage_ask_price_1 leverage_bid_price_1 leverage_last_trade  \\\n",
       "0                  NaN                  NaN                 NaN   \n",
       "1                  NaN                  NaN                 NaN   \n",
       "2                  NaN                  NaN                 NaN   \n",
       "3                  NaN                  NaN                 NaN   \n",
       "4                  NaN                  NaN                 NaN   \n",
       "5                  NaN                  NaN                 NaN   \n",
       "6                  NaN                  NaN                 NaN   \n",
       "7             1.162678             1.275255            1.198780   \n",
       "8             1.289664             2.265779            1.371628   \n",
       "9             1.335825             1.551897            1.417788   \n",
       "\n",
       "  interest_rate_last_trade interest_rate_ask_price_1 interest_rate_bid_price_1  \n",
       "0                      NaN                       NaN                       NaN  \n",
       "1                      NaN                       NaN                       NaN  \n",
       "2                      NaN                       NaN                       NaN  \n",
       "3                      NaN                       NaN                       NaN  \n",
       "4                      NaN                       NaN                       NaN  \n",
       "5                      NaN                       NaN                       NaN  \n",
       "6                      NaN                       NaN                       NaN  \n",
       "7                 0.876832                  1.732739                  0.047447  \n",
       "8                 0.002771                  0.518401                 -0.797694  \n",
       "9                 0.080623                  0.535562                 -0.287055  \n",
       "\n",
       "[10 rows x 73 columns]"
      ]
     },
     "execution_count": 13,
     "metadata": {},
     "output_type": "execute_result"
    }
   ],
   "source": [
    "options.head(10)"
   ]
  },
  {
   "cell_type": "code",
   "execution_count": 14,
   "metadata": {},
   "outputs": [
    {
     "data": {
      "text/plain": [
       "Index(['id_option', 'isin_option', 'symbol_option', 'name', 'open_price',\n",
       "       'close_price', 'last_trade_option', 'count', 'volume', 'value',\n",
       "       'low_price', 'high_price', 'yesterday_price', 'table_id', 'group_id',\n",
       "       'max_allowed_price', 'min_allowed_price_option', 'last_ret',\n",
       "       'close_ret', 'number_of_shares', 'market_cap', 'bid_price_4',\n",
       "       'bid_vol_4', 'ask_price_4', 'ask_vol_4', 'bid_price_3', 'bid_vol_3',\n",
       "       'ask_price_3', 'ask_vol_3', 'bid_price_5', 'bid_vol_5', 'ask_price_5',\n",
       "       'ask_vol_5', 'bid_price_1', 'bid_vol_1', 'ask_price_1', 'ask_vol_1',\n",
       "       'bid_price_2', 'bid_vol_2', 'ask_price_2', 'ask_vol_2', 'ask_value_1',\n",
       "       'ask_value_2', 'ask_value_3', 'ask_value_4', 'ask_value_5',\n",
       "       'bid_value_1', 'bid_value_2', 'bid_value_3', 'bid_value_4',\n",
       "       'bid_value_5', 'time', 'date', 'jalali_date', 'base_symbol',\n",
       "       'jalali_due_date', 'days_until_due', 'miladi_due_date',\n",
       "       'due_date_price', 'last_trade_base', 'symbol_base', 'id_base',\n",
       "       'isin_base', 'min_allowed_price_base', 'in_the_money_percentage',\n",
       "       'ask_price_1_w_o_c', 'bid_price_1_w_o_c', 'leverage_ask_price_1',\n",
       "       'leverage_bid_price_1', 'leverage_last_trade',\n",
       "       'interest_rate_last_trade', 'interest_rate_ask_price_1',\n",
       "       'interest_rate_bid_price_1'],\n",
       "      dtype='object')"
      ]
     },
     "execution_count": 14,
     "metadata": {},
     "output_type": "execute_result"
    }
   ],
   "source": [
    "options.columns\n"
   ]
  },
  {
   "cell_type": "code",
   "execution_count": 15,
   "metadata": {},
   "outputs": [],
   "source": [
    "options['spread_pct'] = 100* (options['ask_price_1'] / options['bid_price_1']  - 1)"
   ]
  },
  {
   "cell_type": "code",
   "execution_count": 16,
   "metadata": {},
   "outputs": [
    {
     "data": {
      "text/html": [
       "<div>\n",
       "<style scoped>\n",
       "    .dataframe tbody tr th:only-of-type {\n",
       "        vertical-align: middle;\n",
       "    }\n",
       "\n",
       "    .dataframe tbody tr th {\n",
       "        vertical-align: top;\n",
       "    }\n",
       "\n",
       "    .dataframe thead th {\n",
       "        text-align: right;\n",
       "    }\n",
       "</style>\n",
       "<table border=\"1\" class=\"dataframe\">\n",
       "  <thead>\n",
       "    <tr style=\"text-align: right;\">\n",
       "      <th></th>\n",
       "      <th>id_option</th>\n",
       "      <th>isin_option</th>\n",
       "      <th>symbol_option</th>\n",
       "      <th>name</th>\n",
       "      <th>open_price</th>\n",
       "      <th>close_price</th>\n",
       "      <th>last_trade_option</th>\n",
       "      <th>count</th>\n",
       "      <th>volume</th>\n",
       "      <th>value</th>\n",
       "      <th>...</th>\n",
       "      <th>in_the_money_percentage</th>\n",
       "      <th>ask_price_1_w_o_c</th>\n",
       "      <th>bid_price_1_w_o_c</th>\n",
       "      <th>leverage_ask_price_1</th>\n",
       "      <th>leverage_bid_price_1</th>\n",
       "      <th>leverage_last_trade</th>\n",
       "      <th>interest_rate_last_trade</th>\n",
       "      <th>interest_rate_ask_price_1</th>\n",
       "      <th>interest_rate_bid_price_1</th>\n",
       "      <th>spread_pct</th>\n",
       "    </tr>\n",
       "  </thead>\n",
       "  <tbody>\n",
       "    <tr>\n",
       "      <th>326</th>\n",
       "      <td>52625011044902880</td>\n",
       "      <td>IROABDYZ2031</td>\n",
       "      <td>ضدی203</td>\n",
       "      <td>اختيارخ دي-600-14020217</td>\n",
       "      <td>1115.0</td>\n",
       "      <td>1226.0</td>\n",
       "      <td>1250.0</td>\n",
       "      <td>43</td>\n",
       "      <td>4138.0</td>\n",
       "      <td>5072446000.0</td>\n",
       "      <td>...</td>\n",
       "      <td>0.664242</td>\n",
       "      <td>1252.0</td>\n",
       "      <td>1110.0</td>\n",
       "      <td>1.428788</td>\n",
       "      <td>1.608253</td>\n",
       "      <td>1.429600</td>\n",
       "      <td>24896.057793</td>\n",
       "      <td>28092.871126</td>\n",
       "      <td>-0.999981</td>\n",
       "      <td>12.560679</td>\n",
       "    </tr>\n",
       "    <tr>\n",
       "      <th>353</th>\n",
       "      <td>50226428962234019</td>\n",
       "      <td>IROAPKOD2091</td>\n",
       "      <td>ضخپارس300</td>\n",
       "      <td>اختيارخ خپارس-1200-14020321</td>\n",
       "      <td>1290.0</td>\n",
       "      <td>1284.0</td>\n",
       "      <td>1391.0</td>\n",
       "      <td>35</td>\n",
       "      <td>1893.0</td>\n",
       "      <td>2431114000.0</td>\n",
       "      <td>...</td>\n",
       "      <td>0.451052</td>\n",
       "      <td>1400.0</td>\n",
       "      <td>1262.0</td>\n",
       "      <td>1.563039</td>\n",
       "      <td>1.730389</td>\n",
       "      <td>1.571531</td>\n",
       "      <td>46.154302</td>\n",
       "      <td>50.564123</td>\n",
       "      <td>10.696482</td>\n",
       "      <td>10.706733</td>\n",
       "    </tr>\n",
       "    <tr>\n",
       "      <th>357</th>\n",
       "      <td>55508390569984906</td>\n",
       "      <td>IROAPKOD2181</td>\n",
       "      <td>ضخپارس600</td>\n",
       "      <td>اختيارخ خپارس-1200-14020621</td>\n",
       "      <td>1314.0</td>\n",
       "      <td>1337.0</td>\n",
       "      <td>1600.0</td>\n",
       "      <td>40</td>\n",
       "      <td>2509.0</td>\n",
       "      <td>3355704000.0</td>\n",
       "      <td>...</td>\n",
       "      <td>0.451052</td>\n",
       "      <td>1600.0</td>\n",
       "      <td>1360.0</td>\n",
       "      <td>1.367659</td>\n",
       "      <td>1.605699</td>\n",
       "      <td>1.366250</td>\n",
       "      <td>6.257073</td>\n",
       "      <td>6.200936</td>\n",
       "      <td>1.822001</td>\n",
       "      <td>17.404955</td>\n",
       "    </tr>\n",
       "  </tbody>\n",
       "</table>\n",
       "<p>3 rows × 74 columns</p>\n",
       "</div>"
      ],
      "text/plain": [
       "             id_option   isin_option symbol_option  \\\n",
       "326  52625011044902880  IROABDYZ2031        ضدی203   \n",
       "353  50226428962234019  IROAPKOD2091     ضخپارس300   \n",
       "357  55508390569984906  IROAPKOD2181     ضخپارس600   \n",
       "\n",
       "                            name open_price close_price last_trade_option  \\\n",
       "326      اختيارخ دي-600-14020217     1115.0      1226.0            1250.0   \n",
       "353  اختيارخ خپارس-1200-14020321     1290.0      1284.0            1391.0   \n",
       "357  اختيارخ خپارس-1200-14020621     1314.0      1337.0            1600.0   \n",
       "\n",
       "    count  volume         value  ... in_the_money_percentage  \\\n",
       "326    43  4138.0  5072446000.0  ...                0.664242   \n",
       "353    35  1893.0  2431114000.0  ...                0.451052   \n",
       "357    40  2509.0  3355704000.0  ...                0.451052   \n",
       "\n",
       "    ask_price_1_w_o_c bid_price_1_w_o_c leverage_ask_price_1  \\\n",
       "326            1252.0            1110.0             1.428788   \n",
       "353            1400.0            1262.0             1.563039   \n",
       "357            1600.0            1360.0             1.367659   \n",
       "\n",
       "    leverage_bid_price_1 leverage_last_trade interest_rate_last_trade  \\\n",
       "326             1.608253            1.429600             24896.057793   \n",
       "353             1.730389            1.571531                46.154302   \n",
       "357             1.605699            1.366250                 6.257073   \n",
       "\n",
       "    interest_rate_ask_price_1 interest_rate_bid_price_1 spread_pct  \n",
       "326              28092.871126                 -0.999981  12.560679  \n",
       "353                 50.564123                 10.696482  10.706733  \n",
       "357                  6.200936                  1.822001  17.404955  \n",
       "\n",
       "[3 rows x 74 columns]"
      ]
     },
     "execution_count": 16,
     "metadata": {},
     "output_type": "execute_result"
    }
   ],
   "source": [
    "options[(options['value']>200e7 )& (options['spread_pct'] > 10) & \\\n",
    "        (options['last_trade_option'] /options['ask_price_1'] > 0.95 )&\\\n",
    "        (options['interest_rate_ask_price_1'] > 0.7)& (options['in_the_money_percentage'] > 0.2)]"
   ]
  },
  {
   "cell_type": "code",
   "execution_count": 17,
   "metadata": {},
   "outputs": [],
   "source": [
    "pd.options.display.max_rows = 10\n",
    "options_selected = options[options['value']>500e7].sort_values('value', ascending=False)"
   ]
  },
  {
   "cell_type": "code",
   "execution_count": 18,
   "metadata": {},
   "outputs": [],
   "source": [
    "options_selected['IV'] = 0\n",
    "options_selected['call_bs'] = 0"
   ]
  },
  {
   "cell_type": "code",
   "execution_count": 19,
   "metadata": {},
   "outputs": [
    {
     "name": "stdout",
     "output_type": "stream",
     "text": [
      "found on 21th iteration\n",
      "difference is equal to -9.222386302099039e-05\n",
      "done!\n",
      "found on 12th iteration\n",
      "difference is equal to -2.827608886946109e-05\n",
      "done!\n",
      "found on 8th iteration\n",
      "difference is equal to -1.4379461163116503e-05\n",
      "done!\n",
      "found on 15th iteration\n",
      "difference is equal to -3.6137372717348626e-05\n",
      "done!\n",
      "found on 5th iteration\n",
      "difference is equal to -3.052876263609505e-05\n",
      "done!\n",
      "found on 29th iteration\n",
      "difference is equal to -9.848214585872483e-05\n",
      "done!\n",
      "found on 27th iteration\n",
      "difference is equal to -9.707667982183921e-05\n",
      "done!\n",
      "found on 7th iteration\n",
      "difference is equal to -5.8248141840522294e-05\n",
      "done!\n",
      "done!\n",
      "found on 15th iteration\n",
      "difference is equal to -8.979166341305245e-05\n",
      "done!\n",
      "done!\n",
      "found on 7th iteration\n",
      "difference is equal to -3.1687436376159894e-05\n",
      "done!\n",
      "found on 33th iteration\n",
      "difference is equal to -7.94166671767016e-05\n",
      "done!\n",
      "found on 16th iteration\n",
      "difference is equal to -5.261966725811362e-05\n",
      "done!\n",
      "found on 25th iteration\n",
      "difference is equal to -5.600852739462425e-05\n",
      "done!\n",
      "done!\n",
      "found on 8th iteration\n",
      "difference is equal to -2.1130988329787215e-05\n",
      "done!\n",
      "found on 16th iteration\n",
      "difference is equal to -4.86443423142191e-05\n",
      "done!\n",
      "found on 20th iteration\n",
      "difference is equal to -4.977206845069304e-05\n",
      "done!\n",
      "found on 23th iteration\n",
      "difference is equal to 9.931532554219302e-05\n",
      "done!\n",
      "found on 8th iteration\n",
      "difference is equal to -3.961759830417577e-05\n",
      "done!\n",
      "found on 9th iteration\n",
      "difference is equal to -1.6257788502116455e-05\n",
      "done!\n",
      "found on 6th iteration\n",
      "difference is equal to -3.688107540256169e-05\n",
      "done!\n",
      "done!\n",
      "found on 4th iteration\n",
      "difference is equal to -2.4351109459530562e-05\n",
      "done!\n",
      "found on 21th iteration\n",
      "difference is equal to -6.815549113525776e-05\n",
      "done!\n",
      "done!\n",
      "found on 35th iteration\n",
      "difference is equal to 6.668929927400313e-05\n",
      "done!\n",
      "done!\n",
      "found on 16th iteration\n",
      "difference is equal to -4.267442659511289e-05\n",
      "done!\n",
      "found on 15th iteration\n",
      "difference is equal to -5.022821608235972e-05\n",
      "done!\n",
      "done!\n",
      "found on 5th iteration\n",
      "difference is equal to -5.1720735427807085e-06\n",
      "done!\n",
      "found on 20th iteration\n",
      "difference is equal to -5.9364467233535834e-05\n",
      "done!\n",
      "found on 13th iteration\n",
      "difference is equal to -9.184558803099208e-05\n",
      "done!\n",
      "found on 32th iteration\n",
      "difference is equal to -6.390157886926318e-05\n",
      "done!\n",
      "found on 6th iteration\n",
      "difference is equal to -6.171195309434552e-06\n",
      "done!\n",
      "done!\n",
      "found on 17th iteration\n",
      "difference is equal to -7.733751999694505e-05\n",
      "done!\n",
      "found on 10th iteration\n",
      "difference is equal to -5.263312777969986e-05\n",
      "done!\n",
      "done!\n",
      "found on 21th iteration\n",
      "difference is equal to -7.950787357913214e-05\n",
      "done!\n",
      "found on 18th iteration\n",
      "difference is equal to -7.459806738552288e-05\n",
      "done!\n",
      "done!\n",
      "done!\n",
      "found on 57th iteration\n",
      "difference is equal to -9.042221790878102e-05\n",
      "done!\n",
      "found on 12th iteration\n",
      "difference is equal to -2.6339188025303883e-05\n",
      "done!\n",
      "done!\n",
      "done!\n",
      "done!\n",
      "found on 21th iteration\n",
      "difference is equal to -8.245383401117579e-05\n",
      "done!\n",
      "found on 22th iteration\n",
      "difference is equal to -6.16871443526179e-05\n",
      "done!\n",
      "done!\n",
      "found on 9th iteration\n",
      "difference is equal to -5.6852185366551566e-05\n",
      "done!\n",
      "found on 0th iteration\n",
      "difference is equal to 0.0\n",
      "done!\n",
      "done!\n",
      "done!\n",
      "found on 51th iteration\n",
      "difference is equal to -7.497070964745944e-05\n",
      "done!\n"
     ]
    }
   ],
   "source": [
    "for i in range(options_selected.shape[0]):\n",
    "    options_selected['IV'].iloc[i] = implied_volatility_call(options_selected['last_trade_option'].iloc[i],\n",
    "                   options_selected['last_trade_base'].iloc[i],\n",
    "                   options_selected['due_date_price'].iloc[i],\n",
    "                   options_selected['days_until_due'].iloc[i]/365,\n",
    "                   0.3,)\n",
    "    if options_selected['IV'].iloc[i] > 0 :\n",
    "        options_selected['call_bs'].iloc[i] = black_scholes_call(options_selected['last_trade_base'].iloc[i],\n",
    "                                                            options_selected['due_date_price'].iloc[i],\n",
    "                                                            options_selected['days_until_due'].iloc[i]/365,\n",
    "                                                            0.4, options_selected['IV'].iloc[i])\n",
    "    else:\n",
    "                options_selected['call_bs'].iloc[i] = black_scholes_call(options_selected['last_trade_base'].iloc[i],\n",
    "                                                            options_selected['due_date_price'].iloc[i],\n",
    "                                                            options_selected['days_until_due'].iloc[i]/365,\n",
    "                                                            0.6, 0.4)\n",
    "\n",
    "\n",
    "    print('done!')"
   ]
  },
  {
   "cell_type": "code",
   "execution_count": 20,
   "metadata": {},
   "outputs": [
    {
     "data": {
      "application/vnd.plotly.v1+json": {
       "config": {
        "plotlyServerURL": "https://plot.ly"
       },
       "data": [
        {
         "hovertemplate": "symbol_option=%{x}<br>IV=%{y}<extra></extra>",
         "legendgroup": "",
         "line": {
          "color": "#636efa",
          "dash": "solid"
         },
         "marker": {
          "symbol": "circle"
         },
         "mode": "lines",
         "name": "",
         "orientation": "v",
         "showlegend": false,
         "type": "scatter",
         "x": [
          "ضسپا6005",
          "ضخود3072",
          "ضستا6010",
          "ضخود5017",
          "ضخود3074",
          "ضسپا3025",
          "ضسپا6004",
          "ضسپا3030",
          "ضستا2013",
          "ضجار2029",
          "ضستا2014",
          "ضخود5021",
          "ضخود3068",
          "ضسرو1021",
          "ضستا6004",
          "ضستا2015",
          "ضستا4011",
          "ضصاد3027",
          "ضملت3024",
          "ضدی500",
          "ضکاریس505",
          "ضسپا6011",
          "ضجار2030",
          "ضستا2016",
          "ضستا4007",
          "ضجار6000",
          "ضهرم7000",
          "ضهرم7008",
          "ضستا2019",
          "ضدی215",
          "ضستا6007",
          "ضشنا2025",
          "ضسپا3033",
          "ضخود3070",
          "ضسپا6008",
          "ضملت3020",
          "ضخود3075",
          "ضجار2027",
          "ضخپارس601",
          "ضروز4010",
          "ضجار2026",
          "ضکرمان602",
          "ضهای3006",
          "ضجار2025",
          "ضجار2022",
          "ضروز4005",
          "ضسپا3029",
          "ضهای3000",
          "ضجار2020",
          "ضجار2028",
          "ضصاد3025",
          "ضسپا3026",
          "ضستا2018",
          "ضستا6009",
          "ضستا2017",
          "ضخود2034",
          "ضخود2036",
          "ضدی203"
         ],
         "xaxis": "x",
         "y": [
          1.3559709206450983,
          1.1799995721008456,
          0.8964700127586543,
          1.3159265362545016,
          0.8957804714436013,
          1.3147780987195872,
          1.1488607355268852,
          1.0537297634098863,
          null,
          0.9334049294913122,
          null,
          1.1281255531205434,
          1.6639212246533346,
          0.5006379305979337,
          1.1896671840262218,
          null,
          0.7347868301013392,
          1.3008215367964446,
          1.1717609287004356,
          4.338605962269748,
          0.550094468062886,
          1.198832167985024,
          0.7601295351327909,
          null,
          0.8049550217932695,
          1.474935815614375,
          null,
          1.2219159013633814,
          null,
          3.0191712932504307,
          0.8825234585173924,
          null,
          0.8925843052518473,
          1.5235772256239821,
          1.3106064594757059,
          1.7549355785339005,
          0.8411445682340379,
          0.16725432425487513,
          2.3629628446799895,
          0.5613796417118295,
          null,
          1.8503524988835163,
          1.1086689947712958,
          5.627279405913908,
          -290.9847446798801,
          0.8511828744331957,
          0.8705224840851572,
          null,
          null,
          0.2655242054249018,
          1.668962575051997,
          1.2869117005901491,
          null,
          1.03178749837974,
          0.3,
          null,
          null,
          9.30776421265214
         ],
         "yaxis": "y"
        }
       ],
       "layout": {
        "legend": {
         "tracegroupgap": 0
        },
        "margin": {
         "t": 60
        },
        "template": {
         "data": {
          "bar": [
           {
            "error_x": {
             "color": "#2a3f5f"
            },
            "error_y": {
             "color": "#2a3f5f"
            },
            "marker": {
             "line": {
              "color": "#E5ECF6",
              "width": 0.5
             },
             "pattern": {
              "fillmode": "overlay",
              "size": 10,
              "solidity": 0.2
             }
            },
            "type": "bar"
           }
          ],
          "barpolar": [
           {
            "marker": {
             "line": {
              "color": "#E5ECF6",
              "width": 0.5
             },
             "pattern": {
              "fillmode": "overlay",
              "size": 10,
              "solidity": 0.2
             }
            },
            "type": "barpolar"
           }
          ],
          "carpet": [
           {
            "aaxis": {
             "endlinecolor": "#2a3f5f",
             "gridcolor": "white",
             "linecolor": "white",
             "minorgridcolor": "white",
             "startlinecolor": "#2a3f5f"
            },
            "baxis": {
             "endlinecolor": "#2a3f5f",
             "gridcolor": "white",
             "linecolor": "white",
             "minorgridcolor": "white",
             "startlinecolor": "#2a3f5f"
            },
            "type": "carpet"
           }
          ],
          "choropleth": [
           {
            "colorbar": {
             "outlinewidth": 0,
             "ticks": ""
            },
            "type": "choropleth"
           }
          ],
          "contour": [
           {
            "colorbar": {
             "outlinewidth": 0,
             "ticks": ""
            },
            "colorscale": [
             [
              0,
              "#0d0887"
             ],
             [
              0.1111111111111111,
              "#46039f"
             ],
             [
              0.2222222222222222,
              "#7201a8"
             ],
             [
              0.3333333333333333,
              "#9c179e"
             ],
             [
              0.4444444444444444,
              "#bd3786"
             ],
             [
              0.5555555555555556,
              "#d8576b"
             ],
             [
              0.6666666666666666,
              "#ed7953"
             ],
             [
              0.7777777777777778,
              "#fb9f3a"
             ],
             [
              0.8888888888888888,
              "#fdca26"
             ],
             [
              1,
              "#f0f921"
             ]
            ],
            "type": "contour"
           }
          ],
          "contourcarpet": [
           {
            "colorbar": {
             "outlinewidth": 0,
             "ticks": ""
            },
            "type": "contourcarpet"
           }
          ],
          "heatmap": [
           {
            "colorbar": {
             "outlinewidth": 0,
             "ticks": ""
            },
            "colorscale": [
             [
              0,
              "#0d0887"
             ],
             [
              0.1111111111111111,
              "#46039f"
             ],
             [
              0.2222222222222222,
              "#7201a8"
             ],
             [
              0.3333333333333333,
              "#9c179e"
             ],
             [
              0.4444444444444444,
              "#bd3786"
             ],
             [
              0.5555555555555556,
              "#d8576b"
             ],
             [
              0.6666666666666666,
              "#ed7953"
             ],
             [
              0.7777777777777778,
              "#fb9f3a"
             ],
             [
              0.8888888888888888,
              "#fdca26"
             ],
             [
              1,
              "#f0f921"
             ]
            ],
            "type": "heatmap"
           }
          ],
          "heatmapgl": [
           {
            "colorbar": {
             "outlinewidth": 0,
             "ticks": ""
            },
            "colorscale": [
             [
              0,
              "#0d0887"
             ],
             [
              0.1111111111111111,
              "#46039f"
             ],
             [
              0.2222222222222222,
              "#7201a8"
             ],
             [
              0.3333333333333333,
              "#9c179e"
             ],
             [
              0.4444444444444444,
              "#bd3786"
             ],
             [
              0.5555555555555556,
              "#d8576b"
             ],
             [
              0.6666666666666666,
              "#ed7953"
             ],
             [
              0.7777777777777778,
              "#fb9f3a"
             ],
             [
              0.8888888888888888,
              "#fdca26"
             ],
             [
              1,
              "#f0f921"
             ]
            ],
            "type": "heatmapgl"
           }
          ],
          "histogram": [
           {
            "marker": {
             "pattern": {
              "fillmode": "overlay",
              "size": 10,
              "solidity": 0.2
             }
            },
            "type": "histogram"
           }
          ],
          "histogram2d": [
           {
            "colorbar": {
             "outlinewidth": 0,
             "ticks": ""
            },
            "colorscale": [
             [
              0,
              "#0d0887"
             ],
             [
              0.1111111111111111,
              "#46039f"
             ],
             [
              0.2222222222222222,
              "#7201a8"
             ],
             [
              0.3333333333333333,
              "#9c179e"
             ],
             [
              0.4444444444444444,
              "#bd3786"
             ],
             [
              0.5555555555555556,
              "#d8576b"
             ],
             [
              0.6666666666666666,
              "#ed7953"
             ],
             [
              0.7777777777777778,
              "#fb9f3a"
             ],
             [
              0.8888888888888888,
              "#fdca26"
             ],
             [
              1,
              "#f0f921"
             ]
            ],
            "type": "histogram2d"
           }
          ],
          "histogram2dcontour": [
           {
            "colorbar": {
             "outlinewidth": 0,
             "ticks": ""
            },
            "colorscale": [
             [
              0,
              "#0d0887"
             ],
             [
              0.1111111111111111,
              "#46039f"
             ],
             [
              0.2222222222222222,
              "#7201a8"
             ],
             [
              0.3333333333333333,
              "#9c179e"
             ],
             [
              0.4444444444444444,
              "#bd3786"
             ],
             [
              0.5555555555555556,
              "#d8576b"
             ],
             [
              0.6666666666666666,
              "#ed7953"
             ],
             [
              0.7777777777777778,
              "#fb9f3a"
             ],
             [
              0.8888888888888888,
              "#fdca26"
             ],
             [
              1,
              "#f0f921"
             ]
            ],
            "type": "histogram2dcontour"
           }
          ],
          "mesh3d": [
           {
            "colorbar": {
             "outlinewidth": 0,
             "ticks": ""
            },
            "type": "mesh3d"
           }
          ],
          "parcoords": [
           {
            "line": {
             "colorbar": {
              "outlinewidth": 0,
              "ticks": ""
             }
            },
            "type": "parcoords"
           }
          ],
          "pie": [
           {
            "automargin": true,
            "type": "pie"
           }
          ],
          "scatter": [
           {
            "fillpattern": {
             "fillmode": "overlay",
             "size": 10,
             "solidity": 0.2
            },
            "type": "scatter"
           }
          ],
          "scatter3d": [
           {
            "line": {
             "colorbar": {
              "outlinewidth": 0,
              "ticks": ""
             }
            },
            "marker": {
             "colorbar": {
              "outlinewidth": 0,
              "ticks": ""
             }
            },
            "type": "scatter3d"
           }
          ],
          "scattercarpet": [
           {
            "marker": {
             "colorbar": {
              "outlinewidth": 0,
              "ticks": ""
             }
            },
            "type": "scattercarpet"
           }
          ],
          "scattergeo": [
           {
            "marker": {
             "colorbar": {
              "outlinewidth": 0,
              "ticks": ""
             }
            },
            "type": "scattergeo"
           }
          ],
          "scattergl": [
           {
            "marker": {
             "colorbar": {
              "outlinewidth": 0,
              "ticks": ""
             }
            },
            "type": "scattergl"
           }
          ],
          "scattermapbox": [
           {
            "marker": {
             "colorbar": {
              "outlinewidth": 0,
              "ticks": ""
             }
            },
            "type": "scattermapbox"
           }
          ],
          "scatterpolar": [
           {
            "marker": {
             "colorbar": {
              "outlinewidth": 0,
              "ticks": ""
             }
            },
            "type": "scatterpolar"
           }
          ],
          "scatterpolargl": [
           {
            "marker": {
             "colorbar": {
              "outlinewidth": 0,
              "ticks": ""
             }
            },
            "type": "scatterpolargl"
           }
          ],
          "scatterternary": [
           {
            "marker": {
             "colorbar": {
              "outlinewidth": 0,
              "ticks": ""
             }
            },
            "type": "scatterternary"
           }
          ],
          "surface": [
           {
            "colorbar": {
             "outlinewidth": 0,
             "ticks": ""
            },
            "colorscale": [
             [
              0,
              "#0d0887"
             ],
             [
              0.1111111111111111,
              "#46039f"
             ],
             [
              0.2222222222222222,
              "#7201a8"
             ],
             [
              0.3333333333333333,
              "#9c179e"
             ],
             [
              0.4444444444444444,
              "#bd3786"
             ],
             [
              0.5555555555555556,
              "#d8576b"
             ],
             [
              0.6666666666666666,
              "#ed7953"
             ],
             [
              0.7777777777777778,
              "#fb9f3a"
             ],
             [
              0.8888888888888888,
              "#fdca26"
             ],
             [
              1,
              "#f0f921"
             ]
            ],
            "type": "surface"
           }
          ],
          "table": [
           {
            "cells": {
             "fill": {
              "color": "#EBF0F8"
             },
             "line": {
              "color": "white"
             }
            },
            "header": {
             "fill": {
              "color": "#C8D4E3"
             },
             "line": {
              "color": "white"
             }
            },
            "type": "table"
           }
          ]
         },
         "layout": {
          "annotationdefaults": {
           "arrowcolor": "#2a3f5f",
           "arrowhead": 0,
           "arrowwidth": 1
          },
          "autotypenumbers": "strict",
          "coloraxis": {
           "colorbar": {
            "outlinewidth": 0,
            "ticks": ""
           }
          },
          "colorscale": {
           "diverging": [
            [
             0,
             "#8e0152"
            ],
            [
             0.1,
             "#c51b7d"
            ],
            [
             0.2,
             "#de77ae"
            ],
            [
             0.3,
             "#f1b6da"
            ],
            [
             0.4,
             "#fde0ef"
            ],
            [
             0.5,
             "#f7f7f7"
            ],
            [
             0.6,
             "#e6f5d0"
            ],
            [
             0.7,
             "#b8e186"
            ],
            [
             0.8,
             "#7fbc41"
            ],
            [
             0.9,
             "#4d9221"
            ],
            [
             1,
             "#276419"
            ]
           ],
           "sequential": [
            [
             0,
             "#0d0887"
            ],
            [
             0.1111111111111111,
             "#46039f"
            ],
            [
             0.2222222222222222,
             "#7201a8"
            ],
            [
             0.3333333333333333,
             "#9c179e"
            ],
            [
             0.4444444444444444,
             "#bd3786"
            ],
            [
             0.5555555555555556,
             "#d8576b"
            ],
            [
             0.6666666666666666,
             "#ed7953"
            ],
            [
             0.7777777777777778,
             "#fb9f3a"
            ],
            [
             0.8888888888888888,
             "#fdca26"
            ],
            [
             1,
             "#f0f921"
            ]
           ],
           "sequentialminus": [
            [
             0,
             "#0d0887"
            ],
            [
             0.1111111111111111,
             "#46039f"
            ],
            [
             0.2222222222222222,
             "#7201a8"
            ],
            [
             0.3333333333333333,
             "#9c179e"
            ],
            [
             0.4444444444444444,
             "#bd3786"
            ],
            [
             0.5555555555555556,
             "#d8576b"
            ],
            [
             0.6666666666666666,
             "#ed7953"
            ],
            [
             0.7777777777777778,
             "#fb9f3a"
            ],
            [
             0.8888888888888888,
             "#fdca26"
            ],
            [
             1,
             "#f0f921"
            ]
           ]
          },
          "colorway": [
           "#636efa",
           "#EF553B",
           "#00cc96",
           "#ab63fa",
           "#FFA15A",
           "#19d3f3",
           "#FF6692",
           "#B6E880",
           "#FF97FF",
           "#FECB52"
          ],
          "font": {
           "color": "#2a3f5f"
          },
          "geo": {
           "bgcolor": "white",
           "lakecolor": "white",
           "landcolor": "#E5ECF6",
           "showlakes": true,
           "showland": true,
           "subunitcolor": "white"
          },
          "hoverlabel": {
           "align": "left"
          },
          "hovermode": "closest",
          "mapbox": {
           "style": "light"
          },
          "paper_bgcolor": "white",
          "plot_bgcolor": "#E5ECF6",
          "polar": {
           "angularaxis": {
            "gridcolor": "white",
            "linecolor": "white",
            "ticks": ""
           },
           "bgcolor": "#E5ECF6",
           "radialaxis": {
            "gridcolor": "white",
            "linecolor": "white",
            "ticks": ""
           }
          },
          "scene": {
           "xaxis": {
            "backgroundcolor": "#E5ECF6",
            "gridcolor": "white",
            "gridwidth": 2,
            "linecolor": "white",
            "showbackground": true,
            "ticks": "",
            "zerolinecolor": "white"
           },
           "yaxis": {
            "backgroundcolor": "#E5ECF6",
            "gridcolor": "white",
            "gridwidth": 2,
            "linecolor": "white",
            "showbackground": true,
            "ticks": "",
            "zerolinecolor": "white"
           },
           "zaxis": {
            "backgroundcolor": "#E5ECF6",
            "gridcolor": "white",
            "gridwidth": 2,
            "linecolor": "white",
            "showbackground": true,
            "ticks": "",
            "zerolinecolor": "white"
           }
          },
          "shapedefaults": {
           "line": {
            "color": "#2a3f5f"
           }
          },
          "ternary": {
           "aaxis": {
            "gridcolor": "white",
            "linecolor": "white",
            "ticks": ""
           },
           "baxis": {
            "gridcolor": "white",
            "linecolor": "white",
            "ticks": ""
           },
           "bgcolor": "#E5ECF6",
           "caxis": {
            "gridcolor": "white",
            "linecolor": "white",
            "ticks": ""
           }
          },
          "title": {
           "x": 0.05
          },
          "xaxis": {
           "automargin": true,
           "gridcolor": "white",
           "linecolor": "white",
           "ticks": "",
           "title": {
            "standoff": 15
           },
           "zerolinecolor": "white",
           "zerolinewidth": 2
          },
          "yaxis": {
           "automargin": true,
           "gridcolor": "white",
           "linecolor": "white",
           "ticks": "",
           "title": {
            "standoff": 15
           },
           "zerolinecolor": "white",
           "zerolinewidth": 2
          }
         }
        },
        "xaxis": {
         "anchor": "y",
         "domain": [
          0,
          1
         ],
         "title": {
          "text": "symbol_option"
         }
        },
        "yaxis": {
         "anchor": "x",
         "domain": [
          0,
          1
         ],
         "title": {
          "text": "IV"
         }
        }
       }
      }
     },
     "metadata": {},
     "output_type": "display_data"
    }
   ],
   "source": [
    "import plotly.express as px\n",
    "options_selected = options_selected.reset_index(drop=True)\n",
    "px.line(options_selected , x='symbol_option' , y='IV')"
   ]
  },
  {
   "cell_type": "code",
   "execution_count": 21,
   "metadata": {},
   "outputs": [],
   "source": [
    "options_selected['diff'] = options_selected['last_trade_option'] - options_selected['call_bs']"
   ]
  },
  {
   "cell_type": "code",
   "execution_count": 22,
   "metadata": {},
   "outputs": [
    {
     "data": {
      "application/vnd.plotly.v1+json": {
       "config": {
        "plotlyServerURL": "https://plot.ly"
       },
       "data": [
        {
         "hovertemplate": "symbol_option=%{x}<br>diff=%{y}<extra></extra>",
         "legendgroup": "",
         "line": {
          "color": "#636efa",
          "dash": "solid"
         },
         "marker": {
          "symbol": "circle"
         },
         "mode": "lines",
         "name": "",
         "orientation": "v",
         "showlegend": false,
         "type": "scatter",
         "x": [
          "ضسپا6005",
          "ضخود3072",
          "ضستا6010",
          "ضخود5017",
          "ضخود3074",
          "ضسپا3025",
          "ضسپا6004",
          "ضسپا3030",
          "ضستا2013",
          "ضجار2029",
          "ضستا2014",
          "ضخود5021",
          "ضخود3068",
          "ضسرو1021",
          "ضستا6004",
          "ضستا2015",
          "ضستا4011",
          "ضصاد3027",
          "ضملت3024",
          "ضدی500",
          "ضکاریس505",
          "ضسپا6011",
          "ضجار2030",
          "ضستا2016",
          "ضستا4007",
          "ضجار6000",
          "ضهرم7000",
          "ضهرم7008",
          "ضستا2019",
          "ضدی215",
          "ضستا6007",
          "ضشنا2025",
          "ضسپا3033",
          "ضخود3070",
          "ضسپا6008",
          "ضملت3020",
          "ضخود3075",
          "ضجار2027",
          "ضخپارس601",
          "ضروز4010",
          "ضجار2026",
          "ضکرمان602",
          "ضهای3006",
          "ضجار2025",
          "ضجار2022",
          "ضروز4005",
          "ضسپا3029",
          "ضهای3000",
          "ضجار2020",
          "ضجار2028",
          "ضصاد3025",
          "ضسپا3026",
          "ضستا2018",
          "ضستا6009",
          "ضستا2017",
          "ضخود2034",
          "ضخود2036",
          "ضدی203"
         ],
         "xaxis": "x",
         "y": [
          -40.94522655689025,
          -13.445921133620232,
          -22.48611302105178,
          -41.62444594386102,
          -11.982485340605308,
          -19.79401725219077,
          -44.47113580983023,
          -19.70444902559393,
          -14,
          -3.6713277443993775,
          -12,
          -42.36008986650518,
          -12.262428275149887,
          -4971.789812350195,
          -18.92365084085361,
          -4,
          -6.862196113373557,
          -14.505701970549126,
          -26.898862148783792,
          -4.581345490991453,
          -337.0985422820704,
          -46.05280612458364,
          -3.0852993542348486,
          -24,
          -12.033998539501226,
          -29.551476783358794,
          65.85298948194395,
          -392.2751932574756,
          5,
          -1.1224647805522636,
          -23.82435266597895,
          -250.99146305733575,
          -13.920110463695437,
          -12.895312358351475,
          -44.24126519976812,
          -20.70463519795885,
          -7.948127665506263,
          -41.283768129857435,
          -16.531726982165083,
          -325.95976046445867,
          -85.73770758431897,
          -16.724877857921,
          -13.231400472254336,
          -391.0931618212808,
          -106.1613480920355,
          -295.38671756467375,
          -22.779839441481045,
          -54.603638237481846,
          -98.8731683464307,
          -10.81214508877747,
          -12.879638705876232,
          -20.29248031480961,
          3,
          -21.561786105458623,
          0,
          -30,
          20,
          -0.4832449154173446
         ],
         "yaxis": "y"
        }
       ],
       "layout": {
        "legend": {
         "tracegroupgap": 0
        },
        "margin": {
         "t": 60
        },
        "template": {
         "data": {
          "bar": [
           {
            "error_x": {
             "color": "#2a3f5f"
            },
            "error_y": {
             "color": "#2a3f5f"
            },
            "marker": {
             "line": {
              "color": "#E5ECF6",
              "width": 0.5
             },
             "pattern": {
              "fillmode": "overlay",
              "size": 10,
              "solidity": 0.2
             }
            },
            "type": "bar"
           }
          ],
          "barpolar": [
           {
            "marker": {
             "line": {
              "color": "#E5ECF6",
              "width": 0.5
             },
             "pattern": {
              "fillmode": "overlay",
              "size": 10,
              "solidity": 0.2
             }
            },
            "type": "barpolar"
           }
          ],
          "carpet": [
           {
            "aaxis": {
             "endlinecolor": "#2a3f5f",
             "gridcolor": "white",
             "linecolor": "white",
             "minorgridcolor": "white",
             "startlinecolor": "#2a3f5f"
            },
            "baxis": {
             "endlinecolor": "#2a3f5f",
             "gridcolor": "white",
             "linecolor": "white",
             "minorgridcolor": "white",
             "startlinecolor": "#2a3f5f"
            },
            "type": "carpet"
           }
          ],
          "choropleth": [
           {
            "colorbar": {
             "outlinewidth": 0,
             "ticks": ""
            },
            "type": "choropleth"
           }
          ],
          "contour": [
           {
            "colorbar": {
             "outlinewidth": 0,
             "ticks": ""
            },
            "colorscale": [
             [
              0,
              "#0d0887"
             ],
             [
              0.1111111111111111,
              "#46039f"
             ],
             [
              0.2222222222222222,
              "#7201a8"
             ],
             [
              0.3333333333333333,
              "#9c179e"
             ],
             [
              0.4444444444444444,
              "#bd3786"
             ],
             [
              0.5555555555555556,
              "#d8576b"
             ],
             [
              0.6666666666666666,
              "#ed7953"
             ],
             [
              0.7777777777777778,
              "#fb9f3a"
             ],
             [
              0.8888888888888888,
              "#fdca26"
             ],
             [
              1,
              "#f0f921"
             ]
            ],
            "type": "contour"
           }
          ],
          "contourcarpet": [
           {
            "colorbar": {
             "outlinewidth": 0,
             "ticks": ""
            },
            "type": "contourcarpet"
           }
          ],
          "heatmap": [
           {
            "colorbar": {
             "outlinewidth": 0,
             "ticks": ""
            },
            "colorscale": [
             [
              0,
              "#0d0887"
             ],
             [
              0.1111111111111111,
              "#46039f"
             ],
             [
              0.2222222222222222,
              "#7201a8"
             ],
             [
              0.3333333333333333,
              "#9c179e"
             ],
             [
              0.4444444444444444,
              "#bd3786"
             ],
             [
              0.5555555555555556,
              "#d8576b"
             ],
             [
              0.6666666666666666,
              "#ed7953"
             ],
             [
              0.7777777777777778,
              "#fb9f3a"
             ],
             [
              0.8888888888888888,
              "#fdca26"
             ],
             [
              1,
              "#f0f921"
             ]
            ],
            "type": "heatmap"
           }
          ],
          "heatmapgl": [
           {
            "colorbar": {
             "outlinewidth": 0,
             "ticks": ""
            },
            "colorscale": [
             [
              0,
              "#0d0887"
             ],
             [
              0.1111111111111111,
              "#46039f"
             ],
             [
              0.2222222222222222,
              "#7201a8"
             ],
             [
              0.3333333333333333,
              "#9c179e"
             ],
             [
              0.4444444444444444,
              "#bd3786"
             ],
             [
              0.5555555555555556,
              "#d8576b"
             ],
             [
              0.6666666666666666,
              "#ed7953"
             ],
             [
              0.7777777777777778,
              "#fb9f3a"
             ],
             [
              0.8888888888888888,
              "#fdca26"
             ],
             [
              1,
              "#f0f921"
             ]
            ],
            "type": "heatmapgl"
           }
          ],
          "histogram": [
           {
            "marker": {
             "pattern": {
              "fillmode": "overlay",
              "size": 10,
              "solidity": 0.2
             }
            },
            "type": "histogram"
           }
          ],
          "histogram2d": [
           {
            "colorbar": {
             "outlinewidth": 0,
             "ticks": ""
            },
            "colorscale": [
             [
              0,
              "#0d0887"
             ],
             [
              0.1111111111111111,
              "#46039f"
             ],
             [
              0.2222222222222222,
              "#7201a8"
             ],
             [
              0.3333333333333333,
              "#9c179e"
             ],
             [
              0.4444444444444444,
              "#bd3786"
             ],
             [
              0.5555555555555556,
              "#d8576b"
             ],
             [
              0.6666666666666666,
              "#ed7953"
             ],
             [
              0.7777777777777778,
              "#fb9f3a"
             ],
             [
              0.8888888888888888,
              "#fdca26"
             ],
             [
              1,
              "#f0f921"
             ]
            ],
            "type": "histogram2d"
           }
          ],
          "histogram2dcontour": [
           {
            "colorbar": {
             "outlinewidth": 0,
             "ticks": ""
            },
            "colorscale": [
             [
              0,
              "#0d0887"
             ],
             [
              0.1111111111111111,
              "#46039f"
             ],
             [
              0.2222222222222222,
              "#7201a8"
             ],
             [
              0.3333333333333333,
              "#9c179e"
             ],
             [
              0.4444444444444444,
              "#bd3786"
             ],
             [
              0.5555555555555556,
              "#d8576b"
             ],
             [
              0.6666666666666666,
              "#ed7953"
             ],
             [
              0.7777777777777778,
              "#fb9f3a"
             ],
             [
              0.8888888888888888,
              "#fdca26"
             ],
             [
              1,
              "#f0f921"
             ]
            ],
            "type": "histogram2dcontour"
           }
          ],
          "mesh3d": [
           {
            "colorbar": {
             "outlinewidth": 0,
             "ticks": ""
            },
            "type": "mesh3d"
           }
          ],
          "parcoords": [
           {
            "line": {
             "colorbar": {
              "outlinewidth": 0,
              "ticks": ""
             }
            },
            "type": "parcoords"
           }
          ],
          "pie": [
           {
            "automargin": true,
            "type": "pie"
           }
          ],
          "scatter": [
           {
            "fillpattern": {
             "fillmode": "overlay",
             "size": 10,
             "solidity": 0.2
            },
            "type": "scatter"
           }
          ],
          "scatter3d": [
           {
            "line": {
             "colorbar": {
              "outlinewidth": 0,
              "ticks": ""
             }
            },
            "marker": {
             "colorbar": {
              "outlinewidth": 0,
              "ticks": ""
             }
            },
            "type": "scatter3d"
           }
          ],
          "scattercarpet": [
           {
            "marker": {
             "colorbar": {
              "outlinewidth": 0,
              "ticks": ""
             }
            },
            "type": "scattercarpet"
           }
          ],
          "scattergeo": [
           {
            "marker": {
             "colorbar": {
              "outlinewidth": 0,
              "ticks": ""
             }
            },
            "type": "scattergeo"
           }
          ],
          "scattergl": [
           {
            "marker": {
             "colorbar": {
              "outlinewidth": 0,
              "ticks": ""
             }
            },
            "type": "scattergl"
           }
          ],
          "scattermapbox": [
           {
            "marker": {
             "colorbar": {
              "outlinewidth": 0,
              "ticks": ""
             }
            },
            "type": "scattermapbox"
           }
          ],
          "scatterpolar": [
           {
            "marker": {
             "colorbar": {
              "outlinewidth": 0,
              "ticks": ""
             }
            },
            "type": "scatterpolar"
           }
          ],
          "scatterpolargl": [
           {
            "marker": {
             "colorbar": {
              "outlinewidth": 0,
              "ticks": ""
             }
            },
            "type": "scatterpolargl"
           }
          ],
          "scatterternary": [
           {
            "marker": {
             "colorbar": {
              "outlinewidth": 0,
              "ticks": ""
             }
            },
            "type": "scatterternary"
           }
          ],
          "surface": [
           {
            "colorbar": {
             "outlinewidth": 0,
             "ticks": ""
            },
            "colorscale": [
             [
              0,
              "#0d0887"
             ],
             [
              0.1111111111111111,
              "#46039f"
             ],
             [
              0.2222222222222222,
              "#7201a8"
             ],
             [
              0.3333333333333333,
              "#9c179e"
             ],
             [
              0.4444444444444444,
              "#bd3786"
             ],
             [
              0.5555555555555556,
              "#d8576b"
             ],
             [
              0.6666666666666666,
              "#ed7953"
             ],
             [
              0.7777777777777778,
              "#fb9f3a"
             ],
             [
              0.8888888888888888,
              "#fdca26"
             ],
             [
              1,
              "#f0f921"
             ]
            ],
            "type": "surface"
           }
          ],
          "table": [
           {
            "cells": {
             "fill": {
              "color": "#EBF0F8"
             },
             "line": {
              "color": "white"
             }
            },
            "header": {
             "fill": {
              "color": "#C8D4E3"
             },
             "line": {
              "color": "white"
             }
            },
            "type": "table"
           }
          ]
         },
         "layout": {
          "annotationdefaults": {
           "arrowcolor": "#2a3f5f",
           "arrowhead": 0,
           "arrowwidth": 1
          },
          "autotypenumbers": "strict",
          "coloraxis": {
           "colorbar": {
            "outlinewidth": 0,
            "ticks": ""
           }
          },
          "colorscale": {
           "diverging": [
            [
             0,
             "#8e0152"
            ],
            [
             0.1,
             "#c51b7d"
            ],
            [
             0.2,
             "#de77ae"
            ],
            [
             0.3,
             "#f1b6da"
            ],
            [
             0.4,
             "#fde0ef"
            ],
            [
             0.5,
             "#f7f7f7"
            ],
            [
             0.6,
             "#e6f5d0"
            ],
            [
             0.7,
             "#b8e186"
            ],
            [
             0.8,
             "#7fbc41"
            ],
            [
             0.9,
             "#4d9221"
            ],
            [
             1,
             "#276419"
            ]
           ],
           "sequential": [
            [
             0,
             "#0d0887"
            ],
            [
             0.1111111111111111,
             "#46039f"
            ],
            [
             0.2222222222222222,
             "#7201a8"
            ],
            [
             0.3333333333333333,
             "#9c179e"
            ],
            [
             0.4444444444444444,
             "#bd3786"
            ],
            [
             0.5555555555555556,
             "#d8576b"
            ],
            [
             0.6666666666666666,
             "#ed7953"
            ],
            [
             0.7777777777777778,
             "#fb9f3a"
            ],
            [
             0.8888888888888888,
             "#fdca26"
            ],
            [
             1,
             "#f0f921"
            ]
           ],
           "sequentialminus": [
            [
             0,
             "#0d0887"
            ],
            [
             0.1111111111111111,
             "#46039f"
            ],
            [
             0.2222222222222222,
             "#7201a8"
            ],
            [
             0.3333333333333333,
             "#9c179e"
            ],
            [
             0.4444444444444444,
             "#bd3786"
            ],
            [
             0.5555555555555556,
             "#d8576b"
            ],
            [
             0.6666666666666666,
             "#ed7953"
            ],
            [
             0.7777777777777778,
             "#fb9f3a"
            ],
            [
             0.8888888888888888,
             "#fdca26"
            ],
            [
             1,
             "#f0f921"
            ]
           ]
          },
          "colorway": [
           "#636efa",
           "#EF553B",
           "#00cc96",
           "#ab63fa",
           "#FFA15A",
           "#19d3f3",
           "#FF6692",
           "#B6E880",
           "#FF97FF",
           "#FECB52"
          ],
          "font": {
           "color": "#2a3f5f"
          },
          "geo": {
           "bgcolor": "white",
           "lakecolor": "white",
           "landcolor": "#E5ECF6",
           "showlakes": true,
           "showland": true,
           "subunitcolor": "white"
          },
          "hoverlabel": {
           "align": "left"
          },
          "hovermode": "closest",
          "mapbox": {
           "style": "light"
          },
          "paper_bgcolor": "white",
          "plot_bgcolor": "#E5ECF6",
          "polar": {
           "angularaxis": {
            "gridcolor": "white",
            "linecolor": "white",
            "ticks": ""
           },
           "bgcolor": "#E5ECF6",
           "radialaxis": {
            "gridcolor": "white",
            "linecolor": "white",
            "ticks": ""
           }
          },
          "scene": {
           "xaxis": {
            "backgroundcolor": "#E5ECF6",
            "gridcolor": "white",
            "gridwidth": 2,
            "linecolor": "white",
            "showbackground": true,
            "ticks": "",
            "zerolinecolor": "white"
           },
           "yaxis": {
            "backgroundcolor": "#E5ECF6",
            "gridcolor": "white",
            "gridwidth": 2,
            "linecolor": "white",
            "showbackground": true,
            "ticks": "",
            "zerolinecolor": "white"
           },
           "zaxis": {
            "backgroundcolor": "#E5ECF6",
            "gridcolor": "white",
            "gridwidth": 2,
            "linecolor": "white",
            "showbackground": true,
            "ticks": "",
            "zerolinecolor": "white"
           }
          },
          "shapedefaults": {
           "line": {
            "color": "#2a3f5f"
           }
          },
          "ternary": {
           "aaxis": {
            "gridcolor": "white",
            "linecolor": "white",
            "ticks": ""
           },
           "baxis": {
            "gridcolor": "white",
            "linecolor": "white",
            "ticks": ""
           },
           "bgcolor": "#E5ECF6",
           "caxis": {
            "gridcolor": "white",
            "linecolor": "white",
            "ticks": ""
           }
          },
          "title": {
           "x": 0.05
          },
          "xaxis": {
           "automargin": true,
           "gridcolor": "white",
           "linecolor": "white",
           "ticks": "",
           "title": {
            "standoff": 15
           },
           "zerolinecolor": "white",
           "zerolinewidth": 2
          },
          "yaxis": {
           "automargin": true,
           "gridcolor": "white",
           "linecolor": "white",
           "ticks": "",
           "title": {
            "standoff": 15
           },
           "zerolinecolor": "white",
           "zerolinewidth": 2
          }
         }
        },
        "xaxis": {
         "anchor": "y",
         "domain": [
          0,
          1
         ],
         "title": {
          "text": "symbol_option"
         }
        },
        "yaxis": {
         "anchor": "x",
         "domain": [
          0,
          1
         ],
         "title": {
          "text": "diff"
         }
        }
       }
      }
     },
     "metadata": {},
     "output_type": "display_data"
    }
   ],
   "source": [
    "px.line(options_selected , x='symbol_option' , y='diff')"
   ]
  },
  {
   "cell_type": "code",
   "execution_count": 23,
   "metadata": {},
   "outputs": [
    {
     "data": {
      "text/html": [
       "<div>\n",
       "<style scoped>\n",
       "    .dataframe tbody tr th:only-of-type {\n",
       "        vertical-align: middle;\n",
       "    }\n",
       "\n",
       "    .dataframe tbody tr th {\n",
       "        vertical-align: top;\n",
       "    }\n",
       "\n",
       "    .dataframe thead th {\n",
       "        text-align: right;\n",
       "    }\n",
       "</style>\n",
       "<table border=\"1\" class=\"dataframe\">\n",
       "  <thead>\n",
       "    <tr style=\"text-align: right;\">\n",
       "      <th></th>\n",
       "      <th>25</th>\n",
       "    </tr>\n",
       "  </thead>\n",
       "  <tbody>\n",
       "    <tr>\n",
       "      <th>id_option</th>\n",
       "      <td>52157458348940396</td>\n",
       "    </tr>\n",
       "    <tr>\n",
       "      <th>isin_option</th>\n",
       "      <td>IRO9BTEJ4551</td>\n",
       "    </tr>\n",
       "    <tr>\n",
       "      <th>symbol_option</th>\n",
       "      <td>ضجار6000</td>\n",
       "    </tr>\n",
       "    <tr>\n",
       "      <th>name</th>\n",
       "      <td>اختيارخ وتجارت-1500-1402/06/14</td>\n",
       "    </tr>\n",
       "    <tr>\n",
       "      <th>open_price</th>\n",
       "      <td>1431.0</td>\n",
       "    </tr>\n",
       "    <tr>\n",
       "      <th>close_price</th>\n",
       "      <td>1482.0</td>\n",
       "    </tr>\n",
       "    <tr>\n",
       "      <th>last_trade_option</th>\n",
       "      <td>1520.0</td>\n",
       "    </tr>\n",
       "    <tr>\n",
       "      <th>count</th>\n",
       "      <td>179</td>\n",
       "    </tr>\n",
       "    <tr>\n",
       "      <th>volume</th>\n",
       "      <td>11628.0</td>\n",
       "    </tr>\n",
       "    <tr>\n",
       "      <th>value</th>\n",
       "      <td>17237346000.0</td>\n",
       "    </tr>\n",
       "    <tr>\n",
       "      <th>low_price</th>\n",
       "      <td>1431.0</td>\n",
       "    </tr>\n",
       "    <tr>\n",
       "      <th>high_price</th>\n",
       "      <td>1569.0</td>\n",
       "    </tr>\n",
       "    <tr>\n",
       "      <th>yesterday_price</th>\n",
       "      <td>1460</td>\n",
       "    </tr>\n",
       "    <tr>\n",
       "      <th>table_id</th>\n",
       "      <td>3</td>\n",
       "    </tr>\n",
       "    <tr>\n",
       "      <th>group_id</th>\n",
       "      <td>57</td>\n",
       "    </tr>\n",
       "    <tr>\n",
       "      <th>max_allowed_price</th>\n",
       "      <td>100000.0</td>\n",
       "    </tr>\n",
       "    <tr>\n",
       "      <th>min_allowed_price_option</th>\n",
       "      <td>1.0</td>\n",
       "    </tr>\n",
       "    <tr>\n",
       "      <th>last_ret</th>\n",
       "      <td>0.041096</td>\n",
       "    </tr>\n",
       "    <tr>\n",
       "      <th>close_ret</th>\n",
       "      <td>0.015068</td>\n",
       "    </tr>\n",
       "    <tr>\n",
       "      <th>number_of_shares</th>\n",
       "      <td>1000.0</td>\n",
       "    </tr>\n",
       "    <tr>\n",
       "      <th>market_cap</th>\n",
       "      <td>1482000</td>\n",
       "    </tr>\n",
       "    <tr>\n",
       "      <th>bid_price_4</th>\n",
       "      <td>1436.0</td>\n",
       "    </tr>\n",
       "    <tr>\n",
       "      <th>bid_vol_4</th>\n",
       "      <td>100.0</td>\n",
       "    </tr>\n",
       "    <tr>\n",
       "      <th>ask_price_4</th>\n",
       "      <td>1588.0</td>\n",
       "    </tr>\n",
       "    <tr>\n",
       "      <th>ask_vol_4</th>\n",
       "      <td>9.0</td>\n",
       "    </tr>\n",
       "    <tr>\n",
       "      <th>bid_price_3</th>\n",
       "      <td>1437.0</td>\n",
       "    </tr>\n",
       "    <tr>\n",
       "      <th>bid_vol_3</th>\n",
       "      <td>50.0</td>\n",
       "    </tr>\n",
       "    <tr>\n",
       "      <th>ask_price_3</th>\n",
       "      <td>1575.0</td>\n",
       "    </tr>\n",
       "    <tr>\n",
       "      <th>ask_vol_3</th>\n",
       "      <td>10.0</td>\n",
       "    </tr>\n",
       "    <tr>\n",
       "      <th>bid_price_5</th>\n",
       "      <td>1434.0</td>\n",
       "    </tr>\n",
       "    <tr>\n",
       "      <th>bid_vol_5</th>\n",
       "      <td>100.0</td>\n",
       "    </tr>\n",
       "    <tr>\n",
       "      <th>ask_price_5</th>\n",
       "      <td>1660.0</td>\n",
       "    </tr>\n",
       "    <tr>\n",
       "      <th>ask_vol_5</th>\n",
       "      <td>10.0</td>\n",
       "    </tr>\n",
       "    <tr>\n",
       "      <th>bid_price_1</th>\n",
       "      <td>1454.49659</td>\n",
       "    </tr>\n",
       "    <tr>\n",
       "      <th>bid_vol_1</th>\n",
       "      <td>10.0</td>\n",
       "    </tr>\n",
       "    <tr>\n",
       "      <th>ask_price_1</th>\n",
       "      <td>1542.40968</td>\n",
       "    </tr>\n",
       "    <tr>\n",
       "      <th>ask_vol_1</th>\n",
       "      <td>11.0</td>\n",
       "    </tr>\n",
       "    <tr>\n",
       "      <th>bid_price_2</th>\n",
       "      <td>1438.0</td>\n",
       "    </tr>\n",
       "    <tr>\n",
       "      <th>bid_vol_2</th>\n",
       "      <td>10.0</td>\n",
       "    </tr>\n",
       "    <tr>\n",
       "      <th>ask_price_2</th>\n",
       "      <td>1566.0</td>\n",
       "    </tr>\n",
       "    <tr>\n",
       "      <th>ask_vol_2</th>\n",
       "      <td>8.0</td>\n",
       "    </tr>\n",
       "    <tr>\n",
       "      <th>ask_value_1</th>\n",
       "      <td>16984.0</td>\n",
       "    </tr>\n",
       "    <tr>\n",
       "      <th>ask_value_2</th>\n",
       "      <td>12528.0</td>\n",
       "    </tr>\n",
       "    <tr>\n",
       "      <th>ask_value_3</th>\n",
       "      <td>15750.0</td>\n",
       "    </tr>\n",
       "    <tr>\n",
       "      <th>ask_value_4</th>\n",
       "      <td>14292.0</td>\n",
       "    </tr>\n",
       "    <tr>\n",
       "      <th>ask_value_5</th>\n",
       "      <td>16600.0</td>\n",
       "    </tr>\n",
       "    <tr>\n",
       "      <th>bid_value_1</th>\n",
       "      <td>14530.0</td>\n",
       "    </tr>\n",
       "    <tr>\n",
       "      <th>bid_value_2</th>\n",
       "      <td>14380.0</td>\n",
       "    </tr>\n",
       "    <tr>\n",
       "      <th>bid_value_3</th>\n",
       "      <td>71850.0</td>\n",
       "    </tr>\n",
       "    <tr>\n",
       "      <th>bid_value_4</th>\n",
       "      <td>143600.0</td>\n",
       "    </tr>\n",
       "    <tr>\n",
       "      <th>bid_value_5</th>\n",
       "      <td>143400.0</td>\n",
       "    </tr>\n",
       "    <tr>\n",
       "      <th>time</th>\n",
       "      <td>2023-05-02 19:45:58.034061</td>\n",
       "    </tr>\n",
       "    <tr>\n",
       "      <th>date</th>\n",
       "      <td>2023-05-02</td>\n",
       "    </tr>\n",
       "    <tr>\n",
       "      <th>jalali_date</th>\n",
       "      <td>1402-02-12</td>\n",
       "    </tr>\n",
       "    <tr>\n",
       "      <th>base_symbol</th>\n",
       "      <td>وتجارت</td>\n",
       "    </tr>\n",
       "    <tr>\n",
       "      <th>jalali_due_date</th>\n",
       "      <td>1402-06-14 00:00:00</td>\n",
       "    </tr>\n",
       "    <tr>\n",
       "      <th>days_until_due</th>\n",
       "      <td>125</td>\n",
       "    </tr>\n",
       "    <tr>\n",
       "      <th>miladi_due_date</th>\n",
       "      <td>2023-09-05 00:00:00</td>\n",
       "    </tr>\n",
       "    <tr>\n",
       "      <th>due_date_price</th>\n",
       "      <td>1500</td>\n",
       "    </tr>\n",
       "    <tr>\n",
       "      <th>last_trade_base</th>\n",
       "      <td>2684.0</td>\n",
       "    </tr>\n",
       "    <tr>\n",
       "      <th>symbol_base</th>\n",
       "      <td>وتجارت</td>\n",
       "    </tr>\n",
       "    <tr>\n",
       "      <th>id_base</th>\n",
       "      <td>63917421733088077</td>\n",
       "    </tr>\n",
       "    <tr>\n",
       "      <th>isin_base</th>\n",
       "      <td>IRO1BTEJ0001</td>\n",
       "    </tr>\n",
       "    <tr>\n",
       "      <th>min_allowed_price_base</th>\n",
       "      <td>2400.0</td>\n",
       "    </tr>\n",
       "    <tr>\n",
       "      <th>in_the_money_percentage</th>\n",
       "      <td>0.441133</td>\n",
       "    </tr>\n",
       "    <tr>\n",
       "      <th>ask_price_1_w_o_c</th>\n",
       "      <td>1544.0</td>\n",
       "    </tr>\n",
       "    <tr>\n",
       "      <th>bid_price_1_w_o_c</th>\n",
       "      <td>1453.0</td>\n",
       "    </tr>\n",
       "    <tr>\n",
       "      <th>leverage_ask_price_1</th>\n",
       "      <td>1.740134</td>\n",
       "    </tr>\n",
       "    <tr>\n",
       "      <th>leverage_bid_price_1</th>\n",
       "      <td>1.845312</td>\n",
       "    </tr>\n",
       "    <tr>\n",
       "      <th>leverage_last_trade</th>\n",
       "      <td>1.765789</td>\n",
       "    </tr>\n",
       "    <tr>\n",
       "      <th>interest_rate_last_trade</th>\n",
       "      <td>1.097026</td>\n",
       "    </tr>\n",
       "    <tr>\n",
       "      <th>interest_rate_ask_price_1</th>\n",
       "      <td>1.219507</td>\n",
       "    </tr>\n",
       "    <tr>\n",
       "      <th>interest_rate_bid_price_1</th>\n",
       "      <td>0.78721</td>\n",
       "    </tr>\n",
       "    <tr>\n",
       "      <th>spread_pct</th>\n",
       "      <td>6.044228</td>\n",
       "    </tr>\n",
       "    <tr>\n",
       "      <th>IV</th>\n",
       "      <td>1.474936</td>\n",
       "    </tr>\n",
       "    <tr>\n",
       "      <th>call_bs</th>\n",
       "      <td>1549.551477</td>\n",
       "    </tr>\n",
       "    <tr>\n",
       "      <th>diff</th>\n",
       "      <td>-29.551477</td>\n",
       "    </tr>\n",
       "  </tbody>\n",
       "</table>\n",
       "</div>"
      ],
      "text/plain": [
       "                                                       25\n",
       "id_option                               52157458348940396\n",
       "isin_option                                  IRO9BTEJ4551\n",
       "symbol_option                                    ضجار6000\n",
       "name                       اختيارخ وتجارت-1500-1402/06/14\n",
       "open_price                                         1431.0\n",
       "close_price                                        1482.0\n",
       "last_trade_option                                  1520.0\n",
       "count                                                 179\n",
       "volume                                            11628.0\n",
       "value                                       17237346000.0\n",
       "low_price                                          1431.0\n",
       "high_price                                         1569.0\n",
       "yesterday_price                                      1460\n",
       "table_id                                                3\n",
       "group_id                                               57\n",
       "max_allowed_price                                100000.0\n",
       "min_allowed_price_option                              1.0\n",
       "last_ret                                         0.041096\n",
       "close_ret                                        0.015068\n",
       "number_of_shares                                   1000.0\n",
       "market_cap                                        1482000\n",
       "bid_price_4                                        1436.0\n",
       "bid_vol_4                                           100.0\n",
       "ask_price_4                                        1588.0\n",
       "ask_vol_4                                             9.0\n",
       "bid_price_3                                        1437.0\n",
       "bid_vol_3                                            50.0\n",
       "ask_price_3                                        1575.0\n",
       "ask_vol_3                                            10.0\n",
       "bid_price_5                                        1434.0\n",
       "bid_vol_5                                           100.0\n",
       "ask_price_5                                        1660.0\n",
       "ask_vol_5                                            10.0\n",
       "bid_price_1                                    1454.49659\n",
       "bid_vol_1                                            10.0\n",
       "ask_price_1                                    1542.40968\n",
       "ask_vol_1                                            11.0\n",
       "bid_price_2                                        1438.0\n",
       "bid_vol_2                                            10.0\n",
       "ask_price_2                                        1566.0\n",
       "ask_vol_2                                             8.0\n",
       "ask_value_1                                       16984.0\n",
       "ask_value_2                                       12528.0\n",
       "ask_value_3                                       15750.0\n",
       "ask_value_4                                       14292.0\n",
       "ask_value_5                                       16600.0\n",
       "bid_value_1                                       14530.0\n",
       "bid_value_2                                       14380.0\n",
       "bid_value_3                                       71850.0\n",
       "bid_value_4                                      143600.0\n",
       "bid_value_5                                      143400.0\n",
       "time                           2023-05-02 19:45:58.034061\n",
       "date                                           2023-05-02\n",
       "jalali_date                                    1402-02-12\n",
       "base_symbol                                        وتجارت\n",
       "jalali_due_date                       1402-06-14 00:00:00\n",
       "days_until_due                                        125\n",
       "miladi_due_date                       2023-09-05 00:00:00\n",
       "due_date_price                                       1500\n",
       "last_trade_base                                    2684.0\n",
       "symbol_base                                        وتجارت\n",
       "id_base                                 63917421733088077\n",
       "isin_base                                    IRO1BTEJ0001\n",
       "min_allowed_price_base                             2400.0\n",
       "in_the_money_percentage                          0.441133\n",
       "ask_price_1_w_o_c                                  1544.0\n",
       "bid_price_1_w_o_c                                  1453.0\n",
       "leverage_ask_price_1                             1.740134\n",
       "leverage_bid_price_1                             1.845312\n",
       "leverage_last_trade                              1.765789\n",
       "interest_rate_last_trade                         1.097026\n",
       "interest_rate_ask_price_1                        1.219507\n",
       "interest_rate_bid_price_1                         0.78721\n",
       "spread_pct                                       6.044228\n",
       "IV                                               1.474936\n",
       "call_bs                                       1549.551477\n",
       "diff                                           -29.551477"
      ]
     },
     "execution_count": 23,
     "metadata": {},
     "output_type": "execute_result"
    }
   ],
   "source": [
    "pd.options.display.max_rows = 100\n",
    "\n",
    "options_selected[options_selected['symbol_option']=='ضجار6000'].T"
   ]
  },
  {
   "cell_type": "code",
   "execution_count": 24,
   "metadata": {},
   "outputs": [
    {
     "data": {
      "application/vnd.plotly.v1+json": {
       "config": {
        "plotlyServerURL": "https://plot.ly"
       },
       "data": [
        {
         "customdata": [
          [
           "ضسپا6005",
           -40.94522655689025
          ],
          [
           "ضخود3072",
           -13.445921133620232
          ],
          [
           "ضستا6010",
           -22.48611302105178
          ],
          [
           "ضخود5017",
           -41.62444594386102
          ],
          [
           "ضخود3074",
           -11.982485340605308
          ],
          [
           "ضسپا3025",
           -19.79401725219077
          ],
          [
           "ضسپا6004",
           -44.47113580983023
          ],
          [
           "ضسپا3030",
           -19.70444902559393
          ],
          [
           "ضستا2013",
           -14
          ],
          [
           "ضجار2029",
           -3.6713277443993775
          ],
          [
           "ضستا2014",
           -12
          ],
          [
           "ضخود5021",
           -42.36008986650518
          ],
          [
           "ضخود3068",
           -12.262428275149887
          ],
          [
           "ضسرو1021",
           -4971.789812350195
          ],
          [
           "ضستا6004",
           -18.92365084085361
          ],
          [
           "ضستا2015",
           -4
          ],
          [
           "ضستا4011",
           -6.862196113373557
          ],
          [
           "ضصاد3027",
           -14.505701970549126
          ],
          [
           "ضملت3024",
           -26.898862148783792
          ],
          [
           "ضدی500",
           -4.581345490991453
          ],
          [
           "ضکاریس505",
           -337.0985422820704
          ],
          [
           "ضسپا6011",
           -46.05280612458364
          ],
          [
           "ضجار2030",
           -3.0852993542348486
          ],
          [
           "ضستا2016",
           -24
          ],
          [
           "ضستا4007",
           -12.033998539501226
          ],
          [
           "ضجار6000",
           -29.551476783358794
          ],
          [
           "ضهرم7000",
           65.85298948194395
          ],
          [
           "ضهرم7008",
           -392.2751932574756
          ],
          [
           "ضستا2019",
           5
          ],
          [
           "ضدی215",
           -1.1224647805522636
          ],
          [
           "ضستا6007",
           -23.82435266597895
          ],
          [
           "ضشنا2025",
           -250.99146305733575
          ],
          [
           "ضسپا3033",
           -13.920110463695437
          ],
          [
           "ضخود3070",
           -12.895312358351475
          ],
          [
           "ضسپا6008",
           -44.24126519976812
          ],
          [
           "ضملت3020",
           -20.70463519795885
          ],
          [
           "ضخود3075",
           -7.948127665506263
          ],
          [
           "ضجار2027",
           -41.283768129857435
          ],
          [
           "ضخپارس601",
           -16.531726982165083
          ],
          [
           "ضروز4010",
           -325.95976046445867
          ],
          [
           "ضجار2026",
           -85.73770758431897
          ],
          [
           "ضکرمان602",
           -16.724877857921
          ],
          [
           "ضهای3006",
           -13.231400472254336
          ],
          [
           "ضجار2025",
           -391.0931618212808
          ],
          [
           "ضجار2022",
           -106.1613480920355
          ],
          [
           "ضروز4005",
           -295.38671756467375
          ],
          [
           "ضسپا3029",
           -22.779839441481045
          ],
          [
           "ضهای3000",
           -54.603638237481846
          ],
          [
           "ضجار2020",
           -98.8731683464307
          ],
          [
           "ضجار2028",
           -10.81214508877747
          ],
          [
           "ضصاد3025",
           -12.879638705876232
          ],
          [
           "ضسپا3026",
           -20.29248031480961
          ],
          [
           "ضستا2018",
           3
          ],
          [
           "ضستا6009",
           -21.561786105458623
          ],
          [
           "ضستا2017",
           0
          ],
          [
           "ضخود2034",
           -30
          ],
          [
           "ضخود2036",
           20
          ],
          [
           "ضدی203",
           -0.4832449154173446
          ]
         ],
         "hovertemplate": "ITM=1<br>days_until_due=%{x}<br>interest_rate_last_trade=%{y}<br>in_the_money_percentage=%{z}<br>symbol_option=%{customdata[0]}<br>diff=%{customdata[1]}<extra></extra>",
         "legendgroup": "1",
         "marker": {
          "color": "#636efa",
          "symbol": "circle"
         },
         "mode": "markers",
         "name": "1",
         "scene": "scene",
         "showlegend": true,
         "type": "scatter3d",
         "x": [
          125,
          21,
          119,
          91,
          21,
          42,
          125,
          42,
          0,
          7,
          0,
          91,
          21,
          238,
          119,
          0,
          63,
          35,
          46,
          98,
          84,
          125,
          7,
          0,
          63,
          125,
          165,
          165,
          0,
          4,
          119,
          11,
          42,
          21,
          125,
          46,
          21,
          7,
          132,
          63,
          7,
          117,
          21,
          7,
          7,
          63,
          42,
          21,
          7,
          7,
          35,
          42,
          0,
          119,
          0,
          0,
          0,
          4
         ],
         "y": [
          0.9648208642337184,
          2.3827376670450207,
          1.193552340086943,
          1.4069274223756962,
          3.7278744993429687,
          0.8949166876407333,
          0.6668607013705017,
          2.4326733057698915,
          -1,
          1.743151351317536,
          -1,
          2.087128996816438,
          1.2734588438940806,
          0.4455296544644929,
          0.725939922911806,
          -1,
          5.023256185684719,
          1.6052154226742252,
          1.0632063541810943,
          44.517408951731845,
          0.8206082555202949,
          1.7409611979153605,
          4.428756544094029,
          -1,
          1.9433184731292545,
          1.0970258011708296,
          0.8768324727943166,
          0.6072988434492415,
          null,
          80.98111229856167,
          0.73191608511213,
          -0.5581216809216236,
          5.91573442400089,
          1.9313304311200397,
          1.36212939197741,
          1.2826403338691632,
          11.976820185909107,
          -0.4900738881325627,
          3.8947455075312387,
          0.7906856088870589,
          -0.8222645403471361,
          1.6578897302882907,
          1.2821926423385377,
          -0.8382609942146085,
          -0.9504862690872314,
          0.46243093473892927,
          1.164063409879455,
          0.07845410984614287,
          -0.9617974993800222,
          0.15304028765883504,
          1.8063731629830233,
          1.113352409090227,
          null,
          1.2557886452413478,
          0,
          -1,
          null,
          24896.057792798223
         ],
         "z": [
          0.42462600690448793,
          0.1421568627450981,
          0.05116580310880825,
          0.2647058823529411,
          0.019607843137254943,
          0.36708860759493667,
          0.4533947065592635,
          0.0650172612197929,
          0.3523316062176166,
          0.10581222056631889,
          0.28756476683937826,
          0.019607843137254943,
          0.36274509803921573,
          0.17452018986035633,
          0.43976683937823835,
          0.2227979274611399,
          -0.2953367875647668,
          0.2379632836854867,
          0.2772638753651412,
          0.5523223279238948,
          0.02807371687039739,
          0.0650172612197929,
          0.03129657228017879,
          0.15803108808290156,
          -0.03626943005181338,
          0.4411326378539493,
          0.7795863004408274,
          0.5591726008816549,
          -0.03626943005181338,
          0.21656407386681586,
          0.2454663212435233,
          0.3966014418125644,
          -0.15074798619102414,
          0.2647058823529411,
          0.25201380897583425,
          0.4578870496592016,
          -0.10294117647058831,
          0.2548435171385991,
          0.40530649588289114,
          0.06629318394024275,
          0.2921013412816692,
          0.4821336095287416,
          0.19989324793167873,
          0.3293591654247392,
          0.4411326378539493,
          0.3775287892934952,
          0.13693901035673184,
          0.5076060848678943,
          0.5156482861400894,
          0.180327868852459,
          0.34187738136473844,
          0.3095512082853855,
          0.02849740932642486,
          0.1159326424870466,
          0.09326424870466321,
          0.1421568627450981,
          0.019607843137254943,
          0.6642417459429211
         ]
        }
       ],
       "layout": {
        "legend": {
         "title": {
          "text": "ITM"
         },
         "tracegroupgap": 0
        },
        "margin": {
         "t": 60
        },
        "scene": {
         "domain": {
          "x": [
           0,
           1
          ],
          "y": [
           0,
           1
          ]
         },
         "xaxis": {
          "title": {
           "text": "days_until_due"
          }
         },
         "yaxis": {
          "title": {
           "text": "interest_rate_last_trade"
          }
         },
         "zaxis": {
          "title": {
           "text": "in_the_money_percentage"
          }
         }
        },
        "template": {
         "data": {
          "bar": [
           {
            "error_x": {
             "color": "#2a3f5f"
            },
            "error_y": {
             "color": "#2a3f5f"
            },
            "marker": {
             "line": {
              "color": "#E5ECF6",
              "width": 0.5
             },
             "pattern": {
              "fillmode": "overlay",
              "size": 10,
              "solidity": 0.2
             }
            },
            "type": "bar"
           }
          ],
          "barpolar": [
           {
            "marker": {
             "line": {
              "color": "#E5ECF6",
              "width": 0.5
             },
             "pattern": {
              "fillmode": "overlay",
              "size": 10,
              "solidity": 0.2
             }
            },
            "type": "barpolar"
           }
          ],
          "carpet": [
           {
            "aaxis": {
             "endlinecolor": "#2a3f5f",
             "gridcolor": "white",
             "linecolor": "white",
             "minorgridcolor": "white",
             "startlinecolor": "#2a3f5f"
            },
            "baxis": {
             "endlinecolor": "#2a3f5f",
             "gridcolor": "white",
             "linecolor": "white",
             "minorgridcolor": "white",
             "startlinecolor": "#2a3f5f"
            },
            "type": "carpet"
           }
          ],
          "choropleth": [
           {
            "colorbar": {
             "outlinewidth": 0,
             "ticks": ""
            },
            "type": "choropleth"
           }
          ],
          "contour": [
           {
            "colorbar": {
             "outlinewidth": 0,
             "ticks": ""
            },
            "colorscale": [
             [
              0,
              "#0d0887"
             ],
             [
              0.1111111111111111,
              "#46039f"
             ],
             [
              0.2222222222222222,
              "#7201a8"
             ],
             [
              0.3333333333333333,
              "#9c179e"
             ],
             [
              0.4444444444444444,
              "#bd3786"
             ],
             [
              0.5555555555555556,
              "#d8576b"
             ],
             [
              0.6666666666666666,
              "#ed7953"
             ],
             [
              0.7777777777777778,
              "#fb9f3a"
             ],
             [
              0.8888888888888888,
              "#fdca26"
             ],
             [
              1,
              "#f0f921"
             ]
            ],
            "type": "contour"
           }
          ],
          "contourcarpet": [
           {
            "colorbar": {
             "outlinewidth": 0,
             "ticks": ""
            },
            "type": "contourcarpet"
           }
          ],
          "heatmap": [
           {
            "colorbar": {
             "outlinewidth": 0,
             "ticks": ""
            },
            "colorscale": [
             [
              0,
              "#0d0887"
             ],
             [
              0.1111111111111111,
              "#46039f"
             ],
             [
              0.2222222222222222,
              "#7201a8"
             ],
             [
              0.3333333333333333,
              "#9c179e"
             ],
             [
              0.4444444444444444,
              "#bd3786"
             ],
             [
              0.5555555555555556,
              "#d8576b"
             ],
             [
              0.6666666666666666,
              "#ed7953"
             ],
             [
              0.7777777777777778,
              "#fb9f3a"
             ],
             [
              0.8888888888888888,
              "#fdca26"
             ],
             [
              1,
              "#f0f921"
             ]
            ],
            "type": "heatmap"
           }
          ],
          "heatmapgl": [
           {
            "colorbar": {
             "outlinewidth": 0,
             "ticks": ""
            },
            "colorscale": [
             [
              0,
              "#0d0887"
             ],
             [
              0.1111111111111111,
              "#46039f"
             ],
             [
              0.2222222222222222,
              "#7201a8"
             ],
             [
              0.3333333333333333,
              "#9c179e"
             ],
             [
              0.4444444444444444,
              "#bd3786"
             ],
             [
              0.5555555555555556,
              "#d8576b"
             ],
             [
              0.6666666666666666,
              "#ed7953"
             ],
             [
              0.7777777777777778,
              "#fb9f3a"
             ],
             [
              0.8888888888888888,
              "#fdca26"
             ],
             [
              1,
              "#f0f921"
             ]
            ],
            "type": "heatmapgl"
           }
          ],
          "histogram": [
           {
            "marker": {
             "pattern": {
              "fillmode": "overlay",
              "size": 10,
              "solidity": 0.2
             }
            },
            "type": "histogram"
           }
          ],
          "histogram2d": [
           {
            "colorbar": {
             "outlinewidth": 0,
             "ticks": ""
            },
            "colorscale": [
             [
              0,
              "#0d0887"
             ],
             [
              0.1111111111111111,
              "#46039f"
             ],
             [
              0.2222222222222222,
              "#7201a8"
             ],
             [
              0.3333333333333333,
              "#9c179e"
             ],
             [
              0.4444444444444444,
              "#bd3786"
             ],
             [
              0.5555555555555556,
              "#d8576b"
             ],
             [
              0.6666666666666666,
              "#ed7953"
             ],
             [
              0.7777777777777778,
              "#fb9f3a"
             ],
             [
              0.8888888888888888,
              "#fdca26"
             ],
             [
              1,
              "#f0f921"
             ]
            ],
            "type": "histogram2d"
           }
          ],
          "histogram2dcontour": [
           {
            "colorbar": {
             "outlinewidth": 0,
             "ticks": ""
            },
            "colorscale": [
             [
              0,
              "#0d0887"
             ],
             [
              0.1111111111111111,
              "#46039f"
             ],
             [
              0.2222222222222222,
              "#7201a8"
             ],
             [
              0.3333333333333333,
              "#9c179e"
             ],
             [
              0.4444444444444444,
              "#bd3786"
             ],
             [
              0.5555555555555556,
              "#d8576b"
             ],
             [
              0.6666666666666666,
              "#ed7953"
             ],
             [
              0.7777777777777778,
              "#fb9f3a"
             ],
             [
              0.8888888888888888,
              "#fdca26"
             ],
             [
              1,
              "#f0f921"
             ]
            ],
            "type": "histogram2dcontour"
           }
          ],
          "mesh3d": [
           {
            "colorbar": {
             "outlinewidth": 0,
             "ticks": ""
            },
            "type": "mesh3d"
           }
          ],
          "parcoords": [
           {
            "line": {
             "colorbar": {
              "outlinewidth": 0,
              "ticks": ""
             }
            },
            "type": "parcoords"
           }
          ],
          "pie": [
           {
            "automargin": true,
            "type": "pie"
           }
          ],
          "scatter": [
           {
            "fillpattern": {
             "fillmode": "overlay",
             "size": 10,
             "solidity": 0.2
            },
            "type": "scatter"
           }
          ],
          "scatter3d": [
           {
            "line": {
             "colorbar": {
              "outlinewidth": 0,
              "ticks": ""
             }
            },
            "marker": {
             "colorbar": {
              "outlinewidth": 0,
              "ticks": ""
             }
            },
            "type": "scatter3d"
           }
          ],
          "scattercarpet": [
           {
            "marker": {
             "colorbar": {
              "outlinewidth": 0,
              "ticks": ""
             }
            },
            "type": "scattercarpet"
           }
          ],
          "scattergeo": [
           {
            "marker": {
             "colorbar": {
              "outlinewidth": 0,
              "ticks": ""
             }
            },
            "type": "scattergeo"
           }
          ],
          "scattergl": [
           {
            "marker": {
             "colorbar": {
              "outlinewidth": 0,
              "ticks": ""
             }
            },
            "type": "scattergl"
           }
          ],
          "scattermapbox": [
           {
            "marker": {
             "colorbar": {
              "outlinewidth": 0,
              "ticks": ""
             }
            },
            "type": "scattermapbox"
           }
          ],
          "scatterpolar": [
           {
            "marker": {
             "colorbar": {
              "outlinewidth": 0,
              "ticks": ""
             }
            },
            "type": "scatterpolar"
           }
          ],
          "scatterpolargl": [
           {
            "marker": {
             "colorbar": {
              "outlinewidth": 0,
              "ticks": ""
             }
            },
            "type": "scatterpolargl"
           }
          ],
          "scatterternary": [
           {
            "marker": {
             "colorbar": {
              "outlinewidth": 0,
              "ticks": ""
             }
            },
            "type": "scatterternary"
           }
          ],
          "surface": [
           {
            "colorbar": {
             "outlinewidth": 0,
             "ticks": ""
            },
            "colorscale": [
             [
              0,
              "#0d0887"
             ],
             [
              0.1111111111111111,
              "#46039f"
             ],
             [
              0.2222222222222222,
              "#7201a8"
             ],
             [
              0.3333333333333333,
              "#9c179e"
             ],
             [
              0.4444444444444444,
              "#bd3786"
             ],
             [
              0.5555555555555556,
              "#d8576b"
             ],
             [
              0.6666666666666666,
              "#ed7953"
             ],
             [
              0.7777777777777778,
              "#fb9f3a"
             ],
             [
              0.8888888888888888,
              "#fdca26"
             ],
             [
              1,
              "#f0f921"
             ]
            ],
            "type": "surface"
           }
          ],
          "table": [
           {
            "cells": {
             "fill": {
              "color": "#EBF0F8"
             },
             "line": {
              "color": "white"
             }
            },
            "header": {
             "fill": {
              "color": "#C8D4E3"
             },
             "line": {
              "color": "white"
             }
            },
            "type": "table"
           }
          ]
         },
         "layout": {
          "annotationdefaults": {
           "arrowcolor": "#2a3f5f",
           "arrowhead": 0,
           "arrowwidth": 1
          },
          "autotypenumbers": "strict",
          "coloraxis": {
           "colorbar": {
            "outlinewidth": 0,
            "ticks": ""
           }
          },
          "colorscale": {
           "diverging": [
            [
             0,
             "#8e0152"
            ],
            [
             0.1,
             "#c51b7d"
            ],
            [
             0.2,
             "#de77ae"
            ],
            [
             0.3,
             "#f1b6da"
            ],
            [
             0.4,
             "#fde0ef"
            ],
            [
             0.5,
             "#f7f7f7"
            ],
            [
             0.6,
             "#e6f5d0"
            ],
            [
             0.7,
             "#b8e186"
            ],
            [
             0.8,
             "#7fbc41"
            ],
            [
             0.9,
             "#4d9221"
            ],
            [
             1,
             "#276419"
            ]
           ],
           "sequential": [
            [
             0,
             "#0d0887"
            ],
            [
             0.1111111111111111,
             "#46039f"
            ],
            [
             0.2222222222222222,
             "#7201a8"
            ],
            [
             0.3333333333333333,
             "#9c179e"
            ],
            [
             0.4444444444444444,
             "#bd3786"
            ],
            [
             0.5555555555555556,
             "#d8576b"
            ],
            [
             0.6666666666666666,
             "#ed7953"
            ],
            [
             0.7777777777777778,
             "#fb9f3a"
            ],
            [
             0.8888888888888888,
             "#fdca26"
            ],
            [
             1,
             "#f0f921"
            ]
           ],
           "sequentialminus": [
            [
             0,
             "#0d0887"
            ],
            [
             0.1111111111111111,
             "#46039f"
            ],
            [
             0.2222222222222222,
             "#7201a8"
            ],
            [
             0.3333333333333333,
             "#9c179e"
            ],
            [
             0.4444444444444444,
             "#bd3786"
            ],
            [
             0.5555555555555556,
             "#d8576b"
            ],
            [
             0.6666666666666666,
             "#ed7953"
            ],
            [
             0.7777777777777778,
             "#fb9f3a"
            ],
            [
             0.8888888888888888,
             "#fdca26"
            ],
            [
             1,
             "#f0f921"
            ]
           ]
          },
          "colorway": [
           "#636efa",
           "#EF553B",
           "#00cc96",
           "#ab63fa",
           "#FFA15A",
           "#19d3f3",
           "#FF6692",
           "#B6E880",
           "#FF97FF",
           "#FECB52"
          ],
          "font": {
           "color": "#2a3f5f"
          },
          "geo": {
           "bgcolor": "white",
           "lakecolor": "white",
           "landcolor": "#E5ECF6",
           "showlakes": true,
           "showland": true,
           "subunitcolor": "white"
          },
          "hoverlabel": {
           "align": "left"
          },
          "hovermode": "closest",
          "mapbox": {
           "style": "light"
          },
          "paper_bgcolor": "white",
          "plot_bgcolor": "#E5ECF6",
          "polar": {
           "angularaxis": {
            "gridcolor": "white",
            "linecolor": "white",
            "ticks": ""
           },
           "bgcolor": "#E5ECF6",
           "radialaxis": {
            "gridcolor": "white",
            "linecolor": "white",
            "ticks": ""
           }
          },
          "scene": {
           "xaxis": {
            "backgroundcolor": "#E5ECF6",
            "gridcolor": "white",
            "gridwidth": 2,
            "linecolor": "white",
            "showbackground": true,
            "ticks": "",
            "zerolinecolor": "white"
           },
           "yaxis": {
            "backgroundcolor": "#E5ECF6",
            "gridcolor": "white",
            "gridwidth": 2,
            "linecolor": "white",
            "showbackground": true,
            "ticks": "",
            "zerolinecolor": "white"
           },
           "zaxis": {
            "backgroundcolor": "#E5ECF6",
            "gridcolor": "white",
            "gridwidth": 2,
            "linecolor": "white",
            "showbackground": true,
            "ticks": "",
            "zerolinecolor": "white"
           }
          },
          "shapedefaults": {
           "line": {
            "color": "#2a3f5f"
           }
          },
          "ternary": {
           "aaxis": {
            "gridcolor": "white",
            "linecolor": "white",
            "ticks": ""
           },
           "baxis": {
            "gridcolor": "white",
            "linecolor": "white",
            "ticks": ""
           },
           "bgcolor": "#E5ECF6",
           "caxis": {
            "gridcolor": "white",
            "linecolor": "white",
            "ticks": ""
           }
          },
          "title": {
           "x": 0.05
          },
          "xaxis": {
           "automargin": true,
           "gridcolor": "white",
           "linecolor": "white",
           "ticks": "",
           "title": {
            "standoff": 15
           },
           "zerolinecolor": "white",
           "zerolinewidth": 2
          },
          "yaxis": {
           "automargin": true,
           "gridcolor": "white",
           "linecolor": "white",
           "ticks": "",
           "title": {
            "standoff": 15
           },
           "zerolinecolor": "white",
           "zerolinewidth": 2
          }
         }
        }
       }
      }
     },
     "metadata": {},
     "output_type": "display_data"
    }
   ],
   "source": [
    "options_selected['ITM'] = 1\n",
    "options_selected['ITM'] = options_selected['ITM'].astype(str)\n",
    "px.scatter_3d(options_selected , x='days_until_due' , y='interest_rate_last_trade',z='in_the_money_percentage',\n",
    "           hover_data=['symbol_option','diff'] ,color='ITM')"
   ]
  },
  {
   "cell_type": "code",
   "execution_count": null,
   "metadata": {},
   "outputs": [],
   "source": []
  },
  {
   "cell_type": "code",
   "execution_count": 27,
   "metadata": {},
   "outputs": [
    {
     "data": {
      "text/plain": [
       "3.046115164546379"
      ]
     },
     "execution_count": 27,
     "metadata": {},
     "output_type": "execute_result"
    }
   ],
   "source": [
    "options_selected['interest_rate_last_trade'][(options_selected['ITM']==0 )& (options_selected['interest_rate_last_trade']<np.inf)].mean()"
   ]
  },
  {
   "cell_type": "code",
   "execution_count": 28,
   "metadata": {},
   "outputs": [],
   "source": [
    "S = 44 # Stock price\n",
    "K = 45 # Strike price\n",
    "T = 2/12 # Time till expiration (in years)\n",
    "r = 0.06 # Risk-free interest rate\n",
    "sigma = np.sqrt(0.2) # Volatility (standard deviation)"
   ]
  },
  {
   "cell_type": "code",
   "execution_count": 29,
   "metadata": {},
   "outputs": [
    {
     "data": {
      "text/plain": [
       "2.9518170207100383"
      ]
     },
     "execution_count": 29,
     "metadata": {},
     "output_type": "execute_result"
    }
   ],
   "source": [
    "BlackScholes().call_price(S, K, T, r, sigma)"
   ]
  },
  {
   "cell_type": "code",
   "execution_count": 30,
   "metadata": {},
   "outputs": [
    {
     "data": {
      "text/plain": [
       "3.5040595394226024"
      ]
     },
     "execution_count": 30,
     "metadata": {},
     "output_type": "execute_result"
    }
   ],
   "source": [
    "BlackScholes().put_price(S, K, T, r, sigma)"
   ]
  },
  {
   "attachments": {},
   "cell_type": "markdown",
   "metadata": {},
   "source": [
    "We have talked a lot about the Black-Scholes model, but not so much about the mathematical justification that led to the formula. It is not crucial that you know the mathematics in order to use Black-Scholes, but it does allow you to think about the formula in a general way and to adapt it to other financial situations. Feel free to skip this part if you are only interested in the code and computing the formula.\n",
    "\n",
    "As early as 1900, the French Mathematician [Louis Bachelier](https://mathshistory.st-andrews.ac.uk/Biographies/Bachelier/) modeled stock movement according to \"[Brownian motion](https://en.wikipedia.org/wiki/Brownian_motion)\", which basically means random. The insight that a stock price can be described by [Geometric Brownian Motion (GBM)](https://en.wikipedia.org/wiki/Geometric_Brownian_motion) as a [Wiener process](https://en.wikipedia.org/wiki/Wiener_process) is the first building block of the Black-Scholes formula. It allows us to set up the following Stochastic Differential equation (SDE):\n",
    "\n",
    "$dS_t = \\mu S_tdt + \\sigma S_t d W_t$, where $W_t \\sim \\mathcal{N}(0, t)$ is the Wiener process.\n",
    "\n",
    "The next important component for the Black-Scholes formula was discovered around 1950 and is called [Ito's lemma](https://en.wikipedia.org/wiki/It%C3%B4%27s_lemma), which allows us to solve an SDE for an Ito process, which is the case for Black-Scholes:\n",
    "\n",
    "For an Ito process $dX_t = \\mu S_tdt + \\sigma S_t d W_t$\n",
    "\n",
    "Through Ito's lemma, for any twice differentiable function $F(x, t)$, we get\n",
    "\n",
    "$dF(x,t) = (\\mu \\frac{\\partial F}{\\partial x} + \\frac{\\partial F}{\\partial t} + \\frac{1}{2} \\sigma_t^2 \\frac{\\partial^2 F}{\\partial x^2})dt + \\sigma_t \\frac{\\partial F}{\\partial x} d W_t$.\n",
    "\n",
    "The basic Black-Scholes model makes an additional set of assumptions:\n",
    "\n",
    "1. There are no transaction costs\n",
    "2. No dividends are involved\n",
    "3. One can easily borrow and lend cash at the risk-free interest rate $r_f$.\n",
    "4. One can buy fractions of assets.\n",
    "5. There are no restrictions on short selling (like share borrowing costs).\n",
    "\n",
    "We now have enough tools to derive SDE's involving Wiener processes. Let's take an example to show the full derivation of some Wiener Process using Ito's Lemma."
   ]
  },
  {
   "cell_type": "code",
   "execution_count": 117,
   "metadata": {},
   "outputs": [],
   "source": [
    "import time\n",
    "url = 'http://cdn.tsetmc.com/api/ClosingPrice/GetClosingPriceInfo/28260550997390455'\n",
    "url2= 'http://cdn.tsetmc.com/api/MarketData/GetMarketOverview/1'\n",
    "url3 = 'http://cdn.tsetmc.com/api/BestLimits/28260550997390455'\n",
    "url4= 'http://cdn.tsetmc.com/api/Trade/GetTrade/28260550997390455'\n",
    "url5='http://cdn.tsetmc.com/api/Instrument/GetInstrumentInfo/28260550997390455'\n",
    "url6 ='http://cdn.tsetmc.com/api/ClosingPrice/GetClosingPriceDailyList/28260550997390455/9'\n",
    "headers = {'User-Agent': 'Mozilla/5.0 (Macintosh; Intel Mac OS X 10_10_1) AppleWebKit/537.36 (KHTML, like Gecko) Chrome/39.0.2171.95 Safari/537.36'}\n",
    "# headers = {'User-Agent': 'Mozilla/5.0 (Windows NT 10.0; Win64; x64) AppleWebKit/537.36 (KHTML, like Gecko) Chrome/112.0.0.0 Safari/537.36'}\n",
    "i = 0\n",
    "status=0\n",
    "\n",
    "data = requests.get(url6,headers=headers, timeout=3)\n",
    "content = data.content.decode('utf-8')\n",
    "\n",
    " \n"
   ]
  },
  {
   "cell_type": "code",
   "execution_count": 118,
   "metadata": {},
   "outputs": [
    {
     "data": {
      "text/plain": [
       "{'closingPriceDaily': [{'priceChange': 45.0,\n",
       "   'priceMin': 380.0,\n",
       "   'priceMax': 413.0,\n",
       "   'priceYesterday': 365.0,\n",
       "   'priceFirst': 380.0,\n",
       "   'last': False,\n",
       "   'id': 0,\n",
       "   'insCode': '28260550997390455',\n",
       "   'dEven': 20230502,\n",
       "   'hEven': 122958,\n",
       "   'pClosing': 400.0,\n",
       "   'iClose': False,\n",
       "   'yClose': True,\n",
       "   'pDrCotVal': 410.0,\n",
       "   'zTotTran': 1562.0,\n",
       "   'qTotTran5J': 335337.0,\n",
       "   'qTotCap': 134292337000.0},\n",
       "  {'priceChange': 27.0,\n",
       "   'priceMin': 343.0,\n",
       "   'priceMax': 389.0,\n",
       "   'priceYesterday': 361.0,\n",
       "   'priceFirst': 387.0,\n",
       "   'last': False,\n",
       "   'id': 0,\n",
       "   'insCode': '28260550997390455',\n",
       "   'dEven': 20230501,\n",
       "   'hEven': 122945,\n",
       "   'pClosing': 365.0,\n",
       "   'iClose': False,\n",
       "   'yClose': True,\n",
       "   'pDrCotVal': 388.0,\n",
       "   'zTotTran': 1983.0,\n",
       "   'qTotTran5J': 436240.0,\n",
       "   'qTotCap': 159311646000.0},\n",
       "  {'priceChange': 26.0,\n",
       "   'priceMin': 345.0,\n",
       "   'priceMax': 376.0,\n",
       "   'priceYesterday': 335.0,\n",
       "   'priceFirst': 372.0,\n",
       "   'last': False,\n",
       "   'id': 0,\n",
       "   'insCode': '28260550997390455',\n",
       "   'dEven': 20230430,\n",
       "   'hEven': 122958,\n",
       "   'pClosing': 361.0,\n",
       "   'iClose': False,\n",
       "   'yClose': True,\n",
       "   'pDrCotVal': 361.0,\n",
       "   'zTotTran': 1567.0,\n",
       "   'qTotTran5J': 326321.0,\n",
       "   'qTotCap': 117689358000.0},\n",
       "  {'priceChange': 54.0,\n",
       "   'priceMin': 296.0,\n",
       "   'priceMax': 352.0,\n",
       "   'priceYesterday': 298.0,\n",
       "   'priceFirst': 296.0,\n",
       "   'last': False,\n",
       "   'id': 0,\n",
       "   'insCode': '28260550997390455',\n",
       "   'dEven': 20230429,\n",
       "   'hEven': 122957,\n",
       "   'pClosing': 335.0,\n",
       "   'iClose': False,\n",
       "   'yClose': True,\n",
       "   'pDrCotVal': 352.0,\n",
       "   'zTotTran': 2236.0,\n",
       "   'qTotTran5J': 584993.0,\n",
       "   'qTotCap': 196074174000.0},\n",
       "  {'priceChange': 0.0,\n",
       "   'priceMin': 280.0,\n",
       "   'priceMax': 313.0,\n",
       "   'priceYesterday': 302.0,\n",
       "   'priceFirst': 290.0,\n",
       "   'last': False,\n",
       "   'id': 0,\n",
       "   'insCode': '28260550997390455',\n",
       "   'dEven': 20230426,\n",
       "   'hEven': 140237,\n",
       "   'pClosing': 298.0,\n",
       "   'iClose': False,\n",
       "   'yClose': True,\n",
       "   'pDrCotVal': 302.0,\n",
       "   'zTotTran': 1579.0,\n",
       "   'qTotTran5J': 380391.0,\n",
       "   'qTotCap': 113501841000.0},\n",
       "  {'priceChange': -10.0,\n",
       "   'priceMin': 280.0,\n",
       "   'priceMax': 318.0,\n",
       "   'priceYesterday': 296.0,\n",
       "   'priceFirst': 303.0,\n",
       "   'last': False,\n",
       "   'id': 0,\n",
       "   'insCode': '28260550997390455',\n",
       "   'dEven': 20230425,\n",
       "   'hEven': 125629,\n",
       "   'pClosing': 302.0,\n",
       "   'iClose': False,\n",
       "   'yClose': True,\n",
       "   'pDrCotVal': 286.0,\n",
       "   'zTotTran': 2491.0,\n",
       "   'qTotTran5J': 595369.0,\n",
       "   'qTotCap': 179885604000.0},\n",
       "  {'priceChange': -3.0,\n",
       "   'priceMin': 285.0,\n",
       "   'priceMax': 303.0,\n",
       "   'priceYesterday': 301.0,\n",
       "   'priceFirst': 293.0,\n",
       "   'last': False,\n",
       "   'id': 0,\n",
       "   'insCode': '28260550997390455',\n",
       "   'dEven': 20230424,\n",
       "   'hEven': 122959,\n",
       "   'pClosing': 296.0,\n",
       "   'iClose': False,\n",
       "   'yClose': True,\n",
       "   'pDrCotVal': 298.0,\n",
       "   'zTotTran': 1477.0,\n",
       "   'qTotTran5J': 383007.0,\n",
       "   'qTotCap': 113202448000.0},\n",
       "  {'priceChange': -7.0,\n",
       "   'priceMin': 290.0,\n",
       "   'priceMax': 315.0,\n",
       "   'priceYesterday': 307.0,\n",
       "   'priceFirst': 301.0,\n",
       "   'last': False,\n",
       "   'id': 0,\n",
       "   'insCode': '28260550997390455',\n",
       "   'dEven': 20230419,\n",
       "   'hEven': 123002,\n",
       "   'pClosing': 301.0,\n",
       "   'iClose': False,\n",
       "   'yClose': True,\n",
       "   'pDrCotVal': 300.0,\n",
       "   'zTotTran': 1724.0,\n",
       "   'qTotTran5J': 385080.0,\n",
       "   'qTotCap': 115740896000.0},\n",
       "  {'priceChange': 12.0,\n",
       "   'priceMin': 286.0,\n",
       "   'priceMax': 328.0,\n",
       "   'priceYesterday': 289.0,\n",
       "   'priceFirst': 286.0,\n",
       "   'last': False,\n",
       "   'id': 0,\n",
       "   'insCode': '28260550997390455',\n",
       "   'dEven': 20230418,\n",
       "   'hEven': 125411,\n",
       "   'pClosing': 307.0,\n",
       "   'iClose': False,\n",
       "   'yClose': True,\n",
       "   'pDrCotVal': 301.0,\n",
       "   'zTotTran': 2463.0,\n",
       "   'qTotTran5J': 495411.0,\n",
       "   'qTotCap': 152131456000.0}]}"
      ]
     },
     "execution_count": 118,
     "metadata": {},
     "output_type": "execute_result"
    }
   ],
   "source": [
    "json.loads(content)"
   ]
  },
  {
   "cell_type": "code",
   "execution_count": null,
   "metadata": {},
   "outputs": [],
   "source": []
  }
 ],
 "metadata": {
  "kernelspec": {
   "display_name": "mynewEnv",
   "language": "python",
   "name": "python3"
  },
  "language_info": {
   "codemirror_mode": {
    "name": "ipython",
    "version": 3
   },
   "file_extension": ".py",
   "mimetype": "text/x-python",
   "name": "python",
   "nbconvert_exporter": "python",
   "pygments_lexer": "ipython3",
   "version": "3.8.16"
  },
  "orig_nbformat": 4
 },
 "nbformat": 4,
 "nbformat_minor": 2
}
