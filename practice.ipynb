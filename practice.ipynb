{
 "cells": [
  {
   "cell_type": "code",
   "execution_count": 1,
   "metadata": {},
   "outputs": [],
   "source": [
    "#%%\n",
    "import datetime\n",
    "import pandas as pd\n",
    "import numpy as np\n",
    "import psycopg2\n",
    "from utils.portfolio import *\n",
    "from utils.base import *\n",
    "from utils.report import *\n",
    "from utils.config import *\n",
    "from utils.instance import *\n",
    "import os\n",
    "import warnings\n",
    "warnings.filterwarnings('ignore')\n",
    "\n"
   ]
  },
  {
   "cell_type": "code",
   "execution_count": 2,
   "metadata": {},
   "outputs": [],
   "source": [
    "options, market = fetch_real_time_last_snapshot()\n",
    "options = extract_call_options_features(options)\n",
    "for i in range(len(options)):\n",
    "    try:\n",
    "      options['interest_rate_ask_price_1'][i]>1\n",
    "    except:\n",
    "        options['interest_rate_ask_price_1'][i] = np.nan"
   ]
  },
  {
   "cell_type": "code",
   "execution_count": 3,
   "metadata": {},
   "outputs": [
    {
     "data": {
      "text/html": [
       "<div>\n",
       "<style scoped>\n",
       "    .dataframe tbody tr th:only-of-type {\n",
       "        vertical-align: middle;\n",
       "    }\n",
       "\n",
       "    .dataframe tbody tr th {\n",
       "        vertical-align: top;\n",
       "    }\n",
       "\n",
       "    .dataframe thead th {\n",
       "        text-align: right;\n",
       "    }\n",
       "</style>\n",
       "<table border=\"1\" class=\"dataframe\">\n",
       "  <thead>\n",
       "    <tr style=\"text-align: right;\">\n",
       "      <th></th>\n",
       "      <th>id_option</th>\n",
       "      <th>isin_option</th>\n",
       "      <th>symbol_option</th>\n",
       "      <th>name</th>\n",
       "      <th>open_price</th>\n",
       "      <th>close_price</th>\n",
       "      <th>last_trade_option</th>\n",
       "      <th>count</th>\n",
       "      <th>volume</th>\n",
       "      <th>value</th>\n",
       "      <th>...</th>\n",
       "      <th>min_allowed_price_base</th>\n",
       "      <th>in_the_money_percentage</th>\n",
       "      <th>ask_price_1_w_o_c</th>\n",
       "      <th>bid_price_1_w_o_c</th>\n",
       "      <th>leverage_ask_price_1</th>\n",
       "      <th>leverage_bid_price_1</th>\n",
       "      <th>leverage_last_trade</th>\n",
       "      <th>interest_rate_last_trade</th>\n",
       "      <th>interest_rate_ask_price_1</th>\n",
       "      <th>interest_rate_bid_price_1</th>\n",
       "    </tr>\n",
       "  </thead>\n",
       "  <tbody>\n",
       "    <tr>\n",
       "      <th>0</th>\n",
       "      <td>31031620898020885</td>\n",
       "      <td>IRO9AGAH0151</td>\n",
       "      <td>ضترو4003</td>\n",
       "      <td>اختيارخ ص آگاه-9000-02/04/14</td>\n",
       "      <td>0.0</td>\n",
       "      <td>5213.0</td>\n",
       "      <td>5300.0</td>\n",
       "      <td>0</td>\n",
       "      <td>0.0</td>\n",
       "      <td>0.0</td>\n",
       "      <td>...</td>\n",
       "      <td>NaN</td>\n",
       "      <td>NaN</td>\n",
       "      <td>5520.0</td>\n",
       "      <td>4990.0</td>\n",
       "      <td>NaN</td>\n",
       "      <td>NaN</td>\n",
       "      <td>NaN</td>\n",
       "      <td>NaN</td>\n",
       "      <td>NaN</td>\n",
       "      <td>NaN</td>\n",
       "    </tr>\n",
       "    <tr>\n",
       "      <th>1</th>\n",
       "      <td>12833810923774304</td>\n",
       "      <td>IRO9AGAH0161</td>\n",
       "      <td>ضترو4004</td>\n",
       "      <td>اختيارخ ص آگاه-10000-02/04/14</td>\n",
       "      <td>4650.0</td>\n",
       "      <td>4650.0</td>\n",
       "      <td>4650.0</td>\n",
       "      <td>1</td>\n",
       "      <td>1.0</td>\n",
       "      <td>4650000.0</td>\n",
       "      <td>...</td>\n",
       "      <td>NaN</td>\n",
       "      <td>NaN</td>\n",
       "      <td>4650.0</td>\n",
       "      <td>4250.0</td>\n",
       "      <td>NaN</td>\n",
       "      <td>NaN</td>\n",
       "      <td>NaN</td>\n",
       "      <td>NaN</td>\n",
       "      <td>NaN</td>\n",
       "      <td>NaN</td>\n",
       "    </tr>\n",
       "    <tr>\n",
       "      <th>2</th>\n",
       "      <td>54559335299470096</td>\n",
       "      <td>IRO9AGAH0171</td>\n",
       "      <td>ضترو4005</td>\n",
       "      <td>اختيارخ ص آگاه-11000-02/04/14</td>\n",
       "      <td>0.0</td>\n",
       "      <td>3500.0</td>\n",
       "      <td>3500.0</td>\n",
       "      <td>0</td>\n",
       "      <td>0.0</td>\n",
       "      <td>0.0</td>\n",
       "      <td>...</td>\n",
       "      <td>NaN</td>\n",
       "      <td>NaN</td>\n",
       "      <td>4120.0</td>\n",
       "      <td>3300.0</td>\n",
       "      <td>NaN</td>\n",
       "      <td>NaN</td>\n",
       "      <td>NaN</td>\n",
       "      <td>NaN</td>\n",
       "      <td>NaN</td>\n",
       "      <td>NaN</td>\n",
       "    </tr>\n",
       "    <tr>\n",
       "      <th>3</th>\n",
       "      <td>54179059222245165</td>\n",
       "      <td>IRO9AGAH0181</td>\n",
       "      <td>ضترو4006</td>\n",
       "      <td>اختيارخ ص آگاه-12000-02/04/14</td>\n",
       "      <td>0.0</td>\n",
       "      <td>2824.0</td>\n",
       "      <td>2800.0</td>\n",
       "      <td>0</td>\n",
       "      <td>0.0</td>\n",
       "      <td>0.0</td>\n",
       "      <td>...</td>\n",
       "      <td>NaN</td>\n",
       "      <td>NaN</td>\n",
       "      <td>3280.0</td>\n",
       "      <td>2750.0</td>\n",
       "      <td>NaN</td>\n",
       "      <td>NaN</td>\n",
       "      <td>NaN</td>\n",
       "      <td>NaN</td>\n",
       "      <td>NaN</td>\n",
       "      <td>NaN</td>\n",
       "    </tr>\n",
       "    <tr>\n",
       "      <th>4</th>\n",
       "      <td>9181823518983931</td>\n",
       "      <td>IRO9AGAH0191</td>\n",
       "      <td>ضترو4007</td>\n",
       "      <td>اختيارخ ص آگاه-13000-02/04/14</td>\n",
       "      <td>2140.0</td>\n",
       "      <td>2232.0</td>\n",
       "      <td>2390.0</td>\n",
       "      <td>27</td>\n",
       "      <td>514.0</td>\n",
       "      <td>1147065000.0</td>\n",
       "      <td>...</td>\n",
       "      <td>NaN</td>\n",
       "      <td>NaN</td>\n",
       "      <td>2400.0</td>\n",
       "      <td>2300.0</td>\n",
       "      <td>NaN</td>\n",
       "      <td>NaN</td>\n",
       "      <td>NaN</td>\n",
       "      <td>NaN</td>\n",
       "      <td>NaN</td>\n",
       "      <td>NaN</td>\n",
       "    </tr>\n",
       "    <tr>\n",
       "      <th>5</th>\n",
       "      <td>63421907578271281</td>\n",
       "      <td>IRO9AGAH0201</td>\n",
       "      <td>ضترو4008</td>\n",
       "      <td>اختيارخ ص آگاه-14000-02/04/14</td>\n",
       "      <td>1440.0</td>\n",
       "      <td>1457.0</td>\n",
       "      <td>1700.0</td>\n",
       "      <td>8</td>\n",
       "      <td>51.0</td>\n",
       "      <td>74320000.0</td>\n",
       "      <td>...</td>\n",
       "      <td>NaN</td>\n",
       "      <td>NaN</td>\n",
       "      <td>1700.0</td>\n",
       "      <td>1422.0</td>\n",
       "      <td>NaN</td>\n",
       "      <td>NaN</td>\n",
       "      <td>NaN</td>\n",
       "      <td>NaN</td>\n",
       "      <td>NaN</td>\n",
       "      <td>NaN</td>\n",
       "    </tr>\n",
       "    <tr>\n",
       "      <th>6</th>\n",
       "      <td>6656725773350069</td>\n",
       "      <td>IRO9AGAH0221</td>\n",
       "      <td>ضترو4010</td>\n",
       "      <td>اختيارخ ص آگاه-16000-02/04/14</td>\n",
       "      <td>535.0</td>\n",
       "      <td>548.0</td>\n",
       "      <td>595.0</td>\n",
       "      <td>11</td>\n",
       "      <td>310.0</td>\n",
       "      <td>169900000.0</td>\n",
       "      <td>...</td>\n",
       "      <td>NaN</td>\n",
       "      <td>NaN</td>\n",
       "      <td>689.0</td>\n",
       "      <td>500.0</td>\n",
       "      <td>NaN</td>\n",
       "      <td>NaN</td>\n",
       "      <td>NaN</td>\n",
       "      <td>NaN</td>\n",
       "      <td>NaN</td>\n",
       "      <td>NaN</td>\n",
       "    </tr>\n",
       "    <tr>\n",
       "      <th>7</th>\n",
       "      <td>59572243465235420</td>\n",
       "      <td>IRO9AGAH0231</td>\n",
       "      <td>ضترو4011</td>\n",
       "      <td>اختيارخ ص آگاه-18000-02/04/14</td>\n",
       "      <td>0.0</td>\n",
       "      <td>1.0</td>\n",
       "      <td>1.0</td>\n",
       "      <td>0</td>\n",
       "      <td>0.0</td>\n",
       "      <td>0.0</td>\n",
       "      <td>...</td>\n",
       "      <td>NaN</td>\n",
       "      <td>NaN</td>\n",
       "      <td>500.0</td>\n",
       "      <td>111.0</td>\n",
       "      <td>NaN</td>\n",
       "      <td>NaN</td>\n",
       "      <td>NaN</td>\n",
       "      <td>NaN</td>\n",
       "      <td>NaN</td>\n",
       "      <td>NaN</td>\n",
       "    </tr>\n",
       "    <tr>\n",
       "      <th>8</th>\n",
       "      <td>63758535312557533</td>\n",
       "      <td>IRO9AGAH0241</td>\n",
       "      <td>ضترو4012</td>\n",
       "      <td>اختيارخ ص آگاه-20000-02/04/14</td>\n",
       "      <td>0.0</td>\n",
       "      <td>1.0</td>\n",
       "      <td>1.0</td>\n",
       "      <td>0</td>\n",
       "      <td>0.0</td>\n",
       "      <td>0.0</td>\n",
       "      <td>...</td>\n",
       "      <td>NaN</td>\n",
       "      <td>NaN</td>\n",
       "      <td>400.0</td>\n",
       "      <td>99.0</td>\n",
       "      <td>NaN</td>\n",
       "      <td>NaN</td>\n",
       "      <td>NaN</td>\n",
       "      <td>NaN</td>\n",
       "      <td>NaN</td>\n",
       "      <td>NaN</td>\n",
       "    </tr>\n",
       "    <tr>\n",
       "      <th>9</th>\n",
       "      <td>29567585335146943</td>\n",
       "      <td>IRO9AHRM6291</td>\n",
       "      <td>ضهرم7003</td>\n",
       "      <td>اختيارخ اهرم-8000-1402/07/23</td>\n",
       "      <td>21000.0</td>\n",
       "      <td>21076.0</td>\n",
       "      <td>21500.0</td>\n",
       "      <td>4</td>\n",
       "      <td>59.0</td>\n",
       "      <td>1243501000.0</td>\n",
       "      <td>...</td>\n",
       "      <td>25480.0</td>\n",
       "      <td>0.715808</td>\n",
       "      <td>22000.0</td>\n",
       "      <td>21000.0</td>\n",
       "      <td>1.280865</td>\n",
       "      <td>1.339097</td>\n",
       "      <td>1.309302</td>\n",
       "      <td>0.505087</td>\n",
       "      <td>0.774686</td>\n",
       "      <td>0.290701</td>\n",
       "    </tr>\n",
       "  </tbody>\n",
       "</table>\n",
       "<p>10 rows × 73 columns</p>\n",
       "</div>"
      ],
      "text/plain": [
       "           id_option   isin_option symbol_option  \\\n",
       "0  31031620898020885  IRO9AGAH0151      ضترو4003   \n",
       "1  12833810923774304  IRO9AGAH0161      ضترو4004   \n",
       "2  54559335299470096  IRO9AGAH0171      ضترو4005   \n",
       "3  54179059222245165  IRO9AGAH0181      ضترو4006   \n",
       "4   9181823518983931  IRO9AGAH0191      ضترو4007   \n",
       "5  63421907578271281  IRO9AGAH0201      ضترو4008   \n",
       "6   6656725773350069  IRO9AGAH0221      ضترو4010   \n",
       "7  59572243465235420  IRO9AGAH0231      ضترو4011   \n",
       "8  63758535312557533  IRO9AGAH0241      ضترو4012   \n",
       "9  29567585335146943  IRO9AHRM6291      ضهرم7003   \n",
       "\n",
       "                            name open_price close_price last_trade_option  \\\n",
       "0   اختيارخ ص آگاه-9000-02/04/14        0.0      5213.0            5300.0   \n",
       "1  اختيارخ ص آگاه-10000-02/04/14     4650.0      4650.0            4650.0   \n",
       "2  اختيارخ ص آگاه-11000-02/04/14        0.0      3500.0            3500.0   \n",
       "3  اختيارخ ص آگاه-12000-02/04/14        0.0      2824.0            2800.0   \n",
       "4  اختيارخ ص آگاه-13000-02/04/14     2140.0      2232.0            2390.0   \n",
       "5  اختيارخ ص آگاه-14000-02/04/14     1440.0      1457.0            1700.0   \n",
       "6  اختيارخ ص آگاه-16000-02/04/14      535.0       548.0             595.0   \n",
       "7  اختيارخ ص آگاه-18000-02/04/14        0.0         1.0               1.0   \n",
       "8  اختيارخ ص آگاه-20000-02/04/14        0.0         1.0               1.0   \n",
       "9   اختيارخ اهرم-8000-1402/07/23    21000.0     21076.0           21500.0   \n",
       "\n",
       "  count volume         value  ... min_allowed_price_base  \\\n",
       "0     0    0.0           0.0  ...                    NaN   \n",
       "1     1    1.0     4650000.0  ...                    NaN   \n",
       "2     0    0.0           0.0  ...                    NaN   \n",
       "3     0    0.0           0.0  ...                    NaN   \n",
       "4    27  514.0  1147065000.0  ...                    NaN   \n",
       "5     8   51.0    74320000.0  ...                    NaN   \n",
       "6    11  310.0   169900000.0  ...                    NaN   \n",
       "7     0    0.0           0.0  ...                    NaN   \n",
       "8     0    0.0           0.0  ...                    NaN   \n",
       "9     4   59.0  1243501000.0  ...                25480.0   \n",
       "\n",
       "  in_the_money_percentage ask_price_1_w_o_c bid_price_1_w_o_c  \\\n",
       "0                     NaN            5520.0            4990.0   \n",
       "1                     NaN            4650.0            4250.0   \n",
       "2                     NaN            4120.0            3300.0   \n",
       "3                     NaN            3280.0            2750.0   \n",
       "4                     NaN            2400.0            2300.0   \n",
       "5                     NaN            1700.0            1422.0   \n",
       "6                     NaN             689.0             500.0   \n",
       "7                     NaN             500.0             111.0   \n",
       "8                     NaN             400.0              99.0   \n",
       "9                0.715808           22000.0           21000.0   \n",
       "\n",
       "  leverage_ask_price_1 leverage_bid_price_1 leverage_last_trade  \\\n",
       "0                  NaN                  NaN                 NaN   \n",
       "1                  NaN                  NaN                 NaN   \n",
       "2                  NaN                  NaN                 NaN   \n",
       "3                  NaN                  NaN                 NaN   \n",
       "4                  NaN                  NaN                 NaN   \n",
       "5                  NaN                  NaN                 NaN   \n",
       "6                  NaN                  NaN                 NaN   \n",
       "7                  NaN                  NaN                 NaN   \n",
       "8                  NaN                  NaN                 NaN   \n",
       "9             1.280865             1.339097            1.309302   \n",
       "\n",
       "  interest_rate_last_trade interest_rate_ask_price_1 interest_rate_bid_price_1  \n",
       "0                      NaN                       NaN                       NaN  \n",
       "1                      NaN                       NaN                       NaN  \n",
       "2                      NaN                       NaN                       NaN  \n",
       "3                      NaN                       NaN                       NaN  \n",
       "4                      NaN                       NaN                       NaN  \n",
       "5                      NaN                       NaN                       NaN  \n",
       "6                      NaN                       NaN                       NaN  \n",
       "7                      NaN                       NaN                       NaN  \n",
       "8                      NaN                       NaN                       NaN  \n",
       "9                 0.505087                  0.774686                  0.290701  \n",
       "\n",
       "[10 rows x 73 columns]"
      ]
     },
     "execution_count": 3,
     "metadata": {},
     "output_type": "execute_result"
    }
   ],
   "source": [
    "options.head(10)"
   ]
  },
  {
   "cell_type": "code",
   "execution_count": 4,
   "metadata": {},
   "outputs": [
    {
     "data": {
      "text/plain": [
       "Index(['id_option', 'isin_option', 'symbol_option', 'name', 'open_price',\n",
       "       'close_price', 'last_trade_option', 'count', 'volume', 'value',\n",
       "       'low_price', 'high_price', 'yesterday_price', 'table_id', 'group_id',\n",
       "       'max_allowed_price', 'min_allowed_price_option', 'last_ret',\n",
       "       'close_ret', 'number_of_shares', 'market_cap', 'bid_price_4',\n",
       "       'bid_vol_4', 'ask_price_4', 'ask_vol_4', 'bid_price_2', 'bid_vol_2',\n",
       "       'ask_price_2', 'ask_vol_2', 'bid_price_3', 'bid_vol_3', 'ask_price_3',\n",
       "       'ask_vol_3', 'bid_price_5', 'bid_vol_5', 'ask_price_5', 'ask_vol_5',\n",
       "       'bid_price_1', 'bid_vol_1', 'ask_price_1', 'ask_vol_1', 'ask_value_1',\n",
       "       'ask_value_2', 'ask_value_3', 'ask_value_4', 'ask_value_5',\n",
       "       'bid_value_1', 'bid_value_2', 'bid_value_3', 'bid_value_4',\n",
       "       'bid_value_5', 'time', 'date', 'jalali_date', 'base_symbol',\n",
       "       'jalali_due_date', 'days_until_due', 'miladi_due_date',\n",
       "       'due_date_price', 'last_trade_base', 'symbol_base', 'id_base',\n",
       "       'isin_base', 'min_allowed_price_base', 'in_the_money_percentage',\n",
       "       'ask_price_1_w_o_c', 'bid_price_1_w_o_c', 'leverage_ask_price_1',\n",
       "       'leverage_bid_price_1', 'leverage_last_trade',\n",
       "       'interest_rate_last_trade', 'interest_rate_ask_price_1',\n",
       "       'interest_rate_bid_price_1'],\n",
       "      dtype='object')"
      ]
     },
     "execution_count": 4,
     "metadata": {},
     "output_type": "execute_result"
    }
   ],
   "source": [
    "options.columns\n"
   ]
  },
  {
   "cell_type": "code",
   "execution_count": 5,
   "metadata": {},
   "outputs": [],
   "source": [
    "options['spread_pct'] = 100* (options['ask_price_1'] / options['bid_price_1']  - 1)"
   ]
  },
  {
   "cell_type": "code",
   "execution_count": 6,
   "metadata": {},
   "outputs": [
    {
     "data": {
      "text/html": [
       "<div>\n",
       "<style scoped>\n",
       "    .dataframe tbody tr th:only-of-type {\n",
       "        vertical-align: middle;\n",
       "    }\n",
       "\n",
       "    .dataframe tbody tr th {\n",
       "        vertical-align: top;\n",
       "    }\n",
       "\n",
       "    .dataframe thead th {\n",
       "        text-align: right;\n",
       "    }\n",
       "</style>\n",
       "<table border=\"1\" class=\"dataframe\">\n",
       "  <thead>\n",
       "    <tr style=\"text-align: right;\">\n",
       "      <th></th>\n",
       "      <th>id_option</th>\n",
       "      <th>isin_option</th>\n",
       "      <th>symbol_option</th>\n",
       "      <th>name</th>\n",
       "      <th>open_price</th>\n",
       "      <th>close_price</th>\n",
       "      <th>last_trade_option</th>\n",
       "      <th>count</th>\n",
       "      <th>volume</th>\n",
       "      <th>value</th>\n",
       "      <th>...</th>\n",
       "      <th>in_the_money_percentage</th>\n",
       "      <th>ask_price_1_w_o_c</th>\n",
       "      <th>bid_price_1_w_o_c</th>\n",
       "      <th>leverage_ask_price_1</th>\n",
       "      <th>leverage_bid_price_1</th>\n",
       "      <th>leverage_last_trade</th>\n",
       "      <th>interest_rate_last_trade</th>\n",
       "      <th>interest_rate_ask_price_1</th>\n",
       "      <th>interest_rate_bid_price_1</th>\n",
       "      <th>spread_pct</th>\n",
       "    </tr>\n",
       "  </thead>\n",
       "  <tbody>\n",
       "    <tr>\n",
       "      <th>100</th>\n",
       "      <td>17307087122635329</td>\n",
       "      <td>IRO9FOLD6921</td>\n",
       "      <td>ضفلا7030</td>\n",
       "      <td>اختيارخ فولاد-4969-1402/07/26</td>\n",
       "      <td>3005.0</td>\n",
       "      <td>2986.0</td>\n",
       "      <td>3600.0</td>\n",
       "      <td>16</td>\n",
       "      <td>639.0</td>\n",
       "      <td>2879715240.0</td>\n",
       "      <td>...</td>\n",
       "      <td>0.302107</td>\n",
       "      <td>3593.0</td>\n",
       "      <td>2930.0</td>\n",
       "      <td>1.983674</td>\n",
       "      <td>2.427534</td>\n",
       "      <td>1.977778</td>\n",
       "      <td>1.114927</td>\n",
       "      <td>1.101026</td>\n",
       "      <td>0.45068</td>\n",
       "      <td>22.375633</td>\n",
       "    </tr>\n",
       "  </tbody>\n",
       "</table>\n",
       "<p>1 rows × 74 columns</p>\n",
       "</div>"
      ],
      "text/plain": [
       "             id_option   isin_option symbol_option  \\\n",
       "100  17307087122635329  IRO9FOLD6921      ضفلا7030   \n",
       "\n",
       "                              name open_price close_price last_trade_option  \\\n",
       "100  اختيارخ فولاد-4969-1402/07/26     3005.0      2986.0            3600.0   \n",
       "\n",
       "    count volume         value  ... in_the_money_percentage ask_price_1_w_o_c  \\\n",
       "100    16  639.0  2879715240.0  ...                0.302107            3593.0   \n",
       "\n",
       "    bid_price_1_w_o_c leverage_ask_price_1 leverage_bid_price_1  \\\n",
       "100            2930.0             1.983674             2.427534   \n",
       "\n",
       "    leverage_last_trade interest_rate_last_trade interest_rate_ask_price_1  \\\n",
       "100            1.977778                 1.114927                  1.101026   \n",
       "\n",
       "    interest_rate_bid_price_1 spread_pct  \n",
       "100                   0.45068  22.375633  \n",
       "\n",
       "[1 rows x 74 columns]"
      ]
     },
     "execution_count": 6,
     "metadata": {},
     "output_type": "execute_result"
    }
   ],
   "source": [
    "options[(options['value']>200e7 )& (options['spread_pct'] > 10) & \\\n",
    "        (options['last_trade_option'] /options['ask_price_1'] > 0.95 )&\\\n",
    "        (options['interest_rate_ask_price_1'] > 0.7)& (options['in_the_money_percentage'] > 0.2)]"
   ]
  },
  {
   "cell_type": "code",
   "execution_count": 13,
   "metadata": {},
   "outputs": [],
   "source": [
    "pd.options.display.max_rows = 10\n",
    "options_selected = options[options['value']>500e7].sort_values('value', ascending=False)"
   ]
  },
  {
   "cell_type": "code",
   "execution_count": 15,
   "metadata": {},
   "outputs": [],
   "source": [
    "options_selected['IV'] = 0\n",
    "options_selected['call_bs'] = 0"
   ]
  },
  {
   "cell_type": "code",
   "execution_count": 40,
   "metadata": {},
   "outputs": [
    {
     "name": "stdout",
     "output_type": "stream",
     "text": [
      "found on 8th iteration\n",
      "difference is equal to -1.7809472410590388e-05\n",
      "done!\n",
      "found on 10th iteration\n",
      "difference is equal to -2.556117442509276e-05\n",
      "done!\n",
      "found on 19th iteration\n",
      "difference is equal to -7.737053215350898e-05\n",
      "done!\n",
      "found on 30th iteration\n",
      "difference is equal to -6.296118249338178e-05\n",
      "done!\n",
      "found on 4th iteration\n",
      "difference is equal to -3.086947344854707e-06\n",
      "done!\n",
      "found on 31th iteration\n",
      "difference is equal to 7.624302088515833e-05\n",
      "done!\n",
      "found on 25th iteration\n",
      "difference is equal to -9.337197570857825e-05\n",
      "done!\n",
      "found on 27th iteration\n",
      "difference is equal to -8.313550608818332e-05\n",
      "done!\n",
      "found on 14th iteration\n",
      "difference is equal to -6.056489587535907e-05\n",
      "done!\n",
      "found on 11th iteration\n",
      "difference is equal to -5.2032684379810235e-05\n",
      "done!\n",
      "found on 21th iteration\n",
      "difference is equal to -9.257008332497207e-05\n",
      "done!\n",
      "done!\n",
      "found on 6th iteration\n",
      "difference is equal to -3.511580803206016e-05\n",
      "done!\n",
      "found on 7th iteration\n",
      "difference is equal to -8.576747859478928e-06\n",
      "done!\n",
      "found on 8th iteration\n",
      "difference is equal to -1.972642735381669e-05\n",
      "done!\n",
      "done!\n",
      "done!\n",
      "done!\n",
      "found on 4th iteration\n",
      "difference is equal to -2.3293980575544992e-06\n",
      "done!\n",
      "done!\n",
      "done!\n",
      "found on 17th iteration\n",
      "difference is equal to -4.1120409150607884e-05\n",
      "done!\n",
      "found on 20th iteration\n",
      "difference is equal to -6.470178914241842e-05\n",
      "done!\n",
      "found on 4th iteration\n",
      "difference is equal to -4.6934383590269135e-05\n",
      "done!\n",
      "found on 13th iteration\n",
      "difference is equal to -6.807553609178285e-05\n",
      "done!\n",
      "done!\n",
      "found on 16th iteration\n",
      "difference is equal to -9.031555737237795e-05\n",
      "done!\n",
      "found on 19th iteration\n",
      "difference is equal to -5.7983990245702444e-05\n",
      "done!\n",
      "found on 7th iteration\n",
      "difference is equal to -1.4278976777859498e-05\n",
      "done!\n",
      "found on 18th iteration\n",
      "difference is equal to -4.2088740428880556e-05\n",
      "done!\n",
      "found on 11th iteration\n",
      "difference is equal to -2.4500397557858378e-05\n",
      "done!\n",
      "done!\n",
      "found on 4th iteration\n",
      "difference is equal to -2.5884253318508854e-06\n",
      "done!\n",
      "found on 6th iteration\n",
      "difference is equal to -2.1210747263467056e-05\n",
      "done!\n",
      "found on 15th iteration\n",
      "difference is equal to -7.233642600112944e-05\n",
      "done!\n",
      "done!\n",
      "found on 8th iteration\n",
      "difference is equal to -1.7147492485491966e-05\n",
      "done!\n",
      "found on 91th iteration\n",
      "difference is equal to -9.23646439332515e-05\n",
      "done!\n",
      "found on 28th iteration\n",
      "difference is equal to -5.670881182595622e-05\n",
      "done!\n",
      "done!\n",
      "done!\n",
      "done!\n",
      "done!\n",
      "found on 47th iteration\n",
      "difference is equal to 9.202734872815199e-05\n",
      "done!\n",
      "found on 14th iteration\n",
      "difference is equal to -4.576024730340578e-05\n",
      "done!\n",
      "found on 15th iteration\n",
      "difference is equal to -7.967135434228112e-05\n",
      "done!\n",
      "found on 42th iteration\n",
      "difference is equal to -7.524517900492356e-05\n",
      "done!\n",
      "found on 13th iteration\n",
      "difference is equal to -3.3484010373285855e-05\n",
      "done!\n",
      "found on 17th iteration\n",
      "difference is equal to -4.366262396615639e-05\n",
      "done!\n",
      "done!\n",
      "found on 10th iteration\n",
      "difference is equal to -6.46777480142191e-05\n",
      "done!\n"
     ]
    }
   ],
   "source": [
    "for i in range(options_selected.shape[0]):\n",
    "    options_selected['IV'].iloc[i] = implied_volatility_call(options_selected['last_trade_option'].iloc[i],\n",
    "                   options_selected['last_trade_base'].iloc[i],\n",
    "                   options_selected['due_date_price'].iloc[i],\n",
    "                   options_selected['days_until_due'].iloc[i]/365,\n",
    "                   0.3,)\n",
    "    if options_selected['IV'].iloc[i] > 0 :\n",
    "        options_selected['call_bs'].iloc[i] = black_scholes_call(options_selected['last_trade_base'].iloc[i],\n",
    "                                                            options_selected['due_date_price'].iloc[i],\n",
    "                                                            options_selected['days_until_due'].iloc[i]/365,\n",
    "                                                            0.4, options_selected['IV'].iloc[i])\n",
    "    else:\n",
    "                options_selected['call_bs'].iloc[i] = black_scholes_call(options_selected['last_trade_base'].iloc[i],\n",
    "                                                            options_selected['due_date_price'].iloc[i],\n",
    "                                                            options_selected['days_until_due'].iloc[i]/365,\n",
    "                                                            0.6, 0.4)\n",
    "\n",
    "\n",
    "    print('done!')"
   ]
  },
  {
   "cell_type": "code",
   "execution_count": 41,
   "metadata": {},
   "outputs": [
    {
     "data": {
      "application/vnd.plotly.v1+json": {
       "config": {
        "plotlyServerURL": "https://plot.ly"
       },
       "data": [
        {
         "hovertemplate": "symbol_option=%{x}<br>IV=%{y}<extra></extra>",
         "legendgroup": "",
         "line": {
          "color": "#636efa",
          "dash": "solid"
         },
         "marker": {
          "symbol": "circle"
         },
         "mode": "lines",
         "name": "",
         "orientation": "v",
         "showlegend": false,
         "type": "scatter",
         "x": [
          "ضستا6010",
          "ضخود3072",
          "ضسپا6005",
          "ضسپا3025",
          "ضخود3074",
          "ضهرم7008",
          "ضخود3069",
          "ضستا6004",
          "ضخود5017",
          "ضجار2029",
          "ضسپا3026",
          "ضستا2013",
          "ضسپا3030",
          "ضخود5021",
          "ضسپا6011",
          "ضستا2014",
          "ضستا2016",
          "ضجار2022",
          "ضجار2030",
          "ضشنا2025",
          "ضستا2019",
          "ضسرو1021",
          "ضکرمان602",
          "ضستا4007",
          "ضصاد3027",
          "ضجار2027",
          "ضهای3006",
          "ضجار6000",
          "ضخود3075",
          "ضملت3024",
          "ضروز4010",
          "ضهرم7010",
          "ضسپا3031",
          "ضسپا3033",
          "ضسپا3027",
          "ضدی215",
          "ضستا4011",
          "ضهرم7009",
          "ضملت3020",
          "ضجار2026",
          "ضستا2018",
          "ضستا2017",
          "ضسپا3024",
          "ضهرم7006",
          "ضهرم7015",
          "ضخاور402",
          "ضصاد3025",
          "ضسپا6008",
          "ضخپارس601",
          "ضستا6002",
          "ضهرم7016"
         ],
         "xaxis": "x",
         "y": [
          0.8141860170071008,
          1.2322906906239062,
          1.477935562471258,
          1.190471270210988,
          0.9215314549278162,
          1.2364411619289186,
          1.450384666993008,
          1.0907754004820553,
          1.203702878135939,
          0.9479703562395349,
          1.1589321906345225,
          null,
          1.1016347981766117,
          1.2102243190455184,
          1.0937336123636763,
          null,
          null,
          2.9217862799110588,
          0.8989900695037285,
          0.3952146527702475,
          null,
          0.43861410377086785,
          1.6460154830333367,
          0.8595576627380221,
          1.323022452474727,
          null,
          1.1090031730049414,
          1.7196465169479895,
          0.897529610662492,
          1.3305850263400463,
          0.47417872728291344,
          null,
          1.0381541540882466,
          0.8758149335444209,
          1.1890759635856394,
          null,
          0.7338756691393163,
          0.634666897407933,
          1.997820452577632,
          1.5778815941875304,
          null,
          null,
          0.7968556849336408,
          1.1522500168263055,
          0.6192849421121271,
          1.4670037226059844,
          0.925889281218785,
          1.249360400673344,
          1.8879856549582519,
          null,
          0.711878011250706
         ],
         "yaxis": "y"
        }
       ],
       "layout": {
        "legend": {
         "tracegroupgap": 0
        },
        "margin": {
         "t": 60
        },
        "template": {
         "data": {
          "bar": [
           {
            "error_x": {
             "color": "#2a3f5f"
            },
            "error_y": {
             "color": "#2a3f5f"
            },
            "marker": {
             "line": {
              "color": "#E5ECF6",
              "width": 0.5
             },
             "pattern": {
              "fillmode": "overlay",
              "size": 10,
              "solidity": 0.2
             }
            },
            "type": "bar"
           }
          ],
          "barpolar": [
           {
            "marker": {
             "line": {
              "color": "#E5ECF6",
              "width": 0.5
             },
             "pattern": {
              "fillmode": "overlay",
              "size": 10,
              "solidity": 0.2
             }
            },
            "type": "barpolar"
           }
          ],
          "carpet": [
           {
            "aaxis": {
             "endlinecolor": "#2a3f5f",
             "gridcolor": "white",
             "linecolor": "white",
             "minorgridcolor": "white",
             "startlinecolor": "#2a3f5f"
            },
            "baxis": {
             "endlinecolor": "#2a3f5f",
             "gridcolor": "white",
             "linecolor": "white",
             "minorgridcolor": "white",
             "startlinecolor": "#2a3f5f"
            },
            "type": "carpet"
           }
          ],
          "choropleth": [
           {
            "colorbar": {
             "outlinewidth": 0,
             "ticks": ""
            },
            "type": "choropleth"
           }
          ],
          "contour": [
           {
            "colorbar": {
             "outlinewidth": 0,
             "ticks": ""
            },
            "colorscale": [
             [
              0,
              "#0d0887"
             ],
             [
              0.1111111111111111,
              "#46039f"
             ],
             [
              0.2222222222222222,
              "#7201a8"
             ],
             [
              0.3333333333333333,
              "#9c179e"
             ],
             [
              0.4444444444444444,
              "#bd3786"
             ],
             [
              0.5555555555555556,
              "#d8576b"
             ],
             [
              0.6666666666666666,
              "#ed7953"
             ],
             [
              0.7777777777777778,
              "#fb9f3a"
             ],
             [
              0.8888888888888888,
              "#fdca26"
             ],
             [
              1,
              "#f0f921"
             ]
            ],
            "type": "contour"
           }
          ],
          "contourcarpet": [
           {
            "colorbar": {
             "outlinewidth": 0,
             "ticks": ""
            },
            "type": "contourcarpet"
           }
          ],
          "heatmap": [
           {
            "colorbar": {
             "outlinewidth": 0,
             "ticks": ""
            },
            "colorscale": [
             [
              0,
              "#0d0887"
             ],
             [
              0.1111111111111111,
              "#46039f"
             ],
             [
              0.2222222222222222,
              "#7201a8"
             ],
             [
              0.3333333333333333,
              "#9c179e"
             ],
             [
              0.4444444444444444,
              "#bd3786"
             ],
             [
              0.5555555555555556,
              "#d8576b"
             ],
             [
              0.6666666666666666,
              "#ed7953"
             ],
             [
              0.7777777777777778,
              "#fb9f3a"
             ],
             [
              0.8888888888888888,
              "#fdca26"
             ],
             [
              1,
              "#f0f921"
             ]
            ],
            "type": "heatmap"
           }
          ],
          "heatmapgl": [
           {
            "colorbar": {
             "outlinewidth": 0,
             "ticks": ""
            },
            "colorscale": [
             [
              0,
              "#0d0887"
             ],
             [
              0.1111111111111111,
              "#46039f"
             ],
             [
              0.2222222222222222,
              "#7201a8"
             ],
             [
              0.3333333333333333,
              "#9c179e"
             ],
             [
              0.4444444444444444,
              "#bd3786"
             ],
             [
              0.5555555555555556,
              "#d8576b"
             ],
             [
              0.6666666666666666,
              "#ed7953"
             ],
             [
              0.7777777777777778,
              "#fb9f3a"
             ],
             [
              0.8888888888888888,
              "#fdca26"
             ],
             [
              1,
              "#f0f921"
             ]
            ],
            "type": "heatmapgl"
           }
          ],
          "histogram": [
           {
            "marker": {
             "pattern": {
              "fillmode": "overlay",
              "size": 10,
              "solidity": 0.2
             }
            },
            "type": "histogram"
           }
          ],
          "histogram2d": [
           {
            "colorbar": {
             "outlinewidth": 0,
             "ticks": ""
            },
            "colorscale": [
             [
              0,
              "#0d0887"
             ],
             [
              0.1111111111111111,
              "#46039f"
             ],
             [
              0.2222222222222222,
              "#7201a8"
             ],
             [
              0.3333333333333333,
              "#9c179e"
             ],
             [
              0.4444444444444444,
              "#bd3786"
             ],
             [
              0.5555555555555556,
              "#d8576b"
             ],
             [
              0.6666666666666666,
              "#ed7953"
             ],
             [
              0.7777777777777778,
              "#fb9f3a"
             ],
             [
              0.8888888888888888,
              "#fdca26"
             ],
             [
              1,
              "#f0f921"
             ]
            ],
            "type": "histogram2d"
           }
          ],
          "histogram2dcontour": [
           {
            "colorbar": {
             "outlinewidth": 0,
             "ticks": ""
            },
            "colorscale": [
             [
              0,
              "#0d0887"
             ],
             [
              0.1111111111111111,
              "#46039f"
             ],
             [
              0.2222222222222222,
              "#7201a8"
             ],
             [
              0.3333333333333333,
              "#9c179e"
             ],
             [
              0.4444444444444444,
              "#bd3786"
             ],
             [
              0.5555555555555556,
              "#d8576b"
             ],
             [
              0.6666666666666666,
              "#ed7953"
             ],
             [
              0.7777777777777778,
              "#fb9f3a"
             ],
             [
              0.8888888888888888,
              "#fdca26"
             ],
             [
              1,
              "#f0f921"
             ]
            ],
            "type": "histogram2dcontour"
           }
          ],
          "mesh3d": [
           {
            "colorbar": {
             "outlinewidth": 0,
             "ticks": ""
            },
            "type": "mesh3d"
           }
          ],
          "parcoords": [
           {
            "line": {
             "colorbar": {
              "outlinewidth": 0,
              "ticks": ""
             }
            },
            "type": "parcoords"
           }
          ],
          "pie": [
           {
            "automargin": true,
            "type": "pie"
           }
          ],
          "scatter": [
           {
            "fillpattern": {
             "fillmode": "overlay",
             "size": 10,
             "solidity": 0.2
            },
            "type": "scatter"
           }
          ],
          "scatter3d": [
           {
            "line": {
             "colorbar": {
              "outlinewidth": 0,
              "ticks": ""
             }
            },
            "marker": {
             "colorbar": {
              "outlinewidth": 0,
              "ticks": ""
             }
            },
            "type": "scatter3d"
           }
          ],
          "scattercarpet": [
           {
            "marker": {
             "colorbar": {
              "outlinewidth": 0,
              "ticks": ""
             }
            },
            "type": "scattercarpet"
           }
          ],
          "scattergeo": [
           {
            "marker": {
             "colorbar": {
              "outlinewidth": 0,
              "ticks": ""
             }
            },
            "type": "scattergeo"
           }
          ],
          "scattergl": [
           {
            "marker": {
             "colorbar": {
              "outlinewidth": 0,
              "ticks": ""
             }
            },
            "type": "scattergl"
           }
          ],
          "scattermapbox": [
           {
            "marker": {
             "colorbar": {
              "outlinewidth": 0,
              "ticks": ""
             }
            },
            "type": "scattermapbox"
           }
          ],
          "scatterpolar": [
           {
            "marker": {
             "colorbar": {
              "outlinewidth": 0,
              "ticks": ""
             }
            },
            "type": "scatterpolar"
           }
          ],
          "scatterpolargl": [
           {
            "marker": {
             "colorbar": {
              "outlinewidth": 0,
              "ticks": ""
             }
            },
            "type": "scatterpolargl"
           }
          ],
          "scatterternary": [
           {
            "marker": {
             "colorbar": {
              "outlinewidth": 0,
              "ticks": ""
             }
            },
            "type": "scatterternary"
           }
          ],
          "surface": [
           {
            "colorbar": {
             "outlinewidth": 0,
             "ticks": ""
            },
            "colorscale": [
             [
              0,
              "#0d0887"
             ],
             [
              0.1111111111111111,
              "#46039f"
             ],
             [
              0.2222222222222222,
              "#7201a8"
             ],
             [
              0.3333333333333333,
              "#9c179e"
             ],
             [
              0.4444444444444444,
              "#bd3786"
             ],
             [
              0.5555555555555556,
              "#d8576b"
             ],
             [
              0.6666666666666666,
              "#ed7953"
             ],
             [
              0.7777777777777778,
              "#fb9f3a"
             ],
             [
              0.8888888888888888,
              "#fdca26"
             ],
             [
              1,
              "#f0f921"
             ]
            ],
            "type": "surface"
           }
          ],
          "table": [
           {
            "cells": {
             "fill": {
              "color": "#EBF0F8"
             },
             "line": {
              "color": "white"
             }
            },
            "header": {
             "fill": {
              "color": "#C8D4E3"
             },
             "line": {
              "color": "white"
             }
            },
            "type": "table"
           }
          ]
         },
         "layout": {
          "annotationdefaults": {
           "arrowcolor": "#2a3f5f",
           "arrowhead": 0,
           "arrowwidth": 1
          },
          "autotypenumbers": "strict",
          "coloraxis": {
           "colorbar": {
            "outlinewidth": 0,
            "ticks": ""
           }
          },
          "colorscale": {
           "diverging": [
            [
             0,
             "#8e0152"
            ],
            [
             0.1,
             "#c51b7d"
            ],
            [
             0.2,
             "#de77ae"
            ],
            [
             0.3,
             "#f1b6da"
            ],
            [
             0.4,
             "#fde0ef"
            ],
            [
             0.5,
             "#f7f7f7"
            ],
            [
             0.6,
             "#e6f5d0"
            ],
            [
             0.7,
             "#b8e186"
            ],
            [
             0.8,
             "#7fbc41"
            ],
            [
             0.9,
             "#4d9221"
            ],
            [
             1,
             "#276419"
            ]
           ],
           "sequential": [
            [
             0,
             "#0d0887"
            ],
            [
             0.1111111111111111,
             "#46039f"
            ],
            [
             0.2222222222222222,
             "#7201a8"
            ],
            [
             0.3333333333333333,
             "#9c179e"
            ],
            [
             0.4444444444444444,
             "#bd3786"
            ],
            [
             0.5555555555555556,
             "#d8576b"
            ],
            [
             0.6666666666666666,
             "#ed7953"
            ],
            [
             0.7777777777777778,
             "#fb9f3a"
            ],
            [
             0.8888888888888888,
             "#fdca26"
            ],
            [
             1,
             "#f0f921"
            ]
           ],
           "sequentialminus": [
            [
             0,
             "#0d0887"
            ],
            [
             0.1111111111111111,
             "#46039f"
            ],
            [
             0.2222222222222222,
             "#7201a8"
            ],
            [
             0.3333333333333333,
             "#9c179e"
            ],
            [
             0.4444444444444444,
             "#bd3786"
            ],
            [
             0.5555555555555556,
             "#d8576b"
            ],
            [
             0.6666666666666666,
             "#ed7953"
            ],
            [
             0.7777777777777778,
             "#fb9f3a"
            ],
            [
             0.8888888888888888,
             "#fdca26"
            ],
            [
             1,
             "#f0f921"
            ]
           ]
          },
          "colorway": [
           "#636efa",
           "#EF553B",
           "#00cc96",
           "#ab63fa",
           "#FFA15A",
           "#19d3f3",
           "#FF6692",
           "#B6E880",
           "#FF97FF",
           "#FECB52"
          ],
          "font": {
           "color": "#2a3f5f"
          },
          "geo": {
           "bgcolor": "white",
           "lakecolor": "white",
           "landcolor": "#E5ECF6",
           "showlakes": true,
           "showland": true,
           "subunitcolor": "white"
          },
          "hoverlabel": {
           "align": "left"
          },
          "hovermode": "closest",
          "mapbox": {
           "style": "light"
          },
          "paper_bgcolor": "white",
          "plot_bgcolor": "#E5ECF6",
          "polar": {
           "angularaxis": {
            "gridcolor": "white",
            "linecolor": "white",
            "ticks": ""
           },
           "bgcolor": "#E5ECF6",
           "radialaxis": {
            "gridcolor": "white",
            "linecolor": "white",
            "ticks": ""
           }
          },
          "scene": {
           "xaxis": {
            "backgroundcolor": "#E5ECF6",
            "gridcolor": "white",
            "gridwidth": 2,
            "linecolor": "white",
            "showbackground": true,
            "ticks": "",
            "zerolinecolor": "white"
           },
           "yaxis": {
            "backgroundcolor": "#E5ECF6",
            "gridcolor": "white",
            "gridwidth": 2,
            "linecolor": "white",
            "showbackground": true,
            "ticks": "",
            "zerolinecolor": "white"
           },
           "zaxis": {
            "backgroundcolor": "#E5ECF6",
            "gridcolor": "white",
            "gridwidth": 2,
            "linecolor": "white",
            "showbackground": true,
            "ticks": "",
            "zerolinecolor": "white"
           }
          },
          "shapedefaults": {
           "line": {
            "color": "#2a3f5f"
           }
          },
          "ternary": {
           "aaxis": {
            "gridcolor": "white",
            "linecolor": "white",
            "ticks": ""
           },
           "baxis": {
            "gridcolor": "white",
            "linecolor": "white",
            "ticks": ""
           },
           "bgcolor": "#E5ECF6",
           "caxis": {
            "gridcolor": "white",
            "linecolor": "white",
            "ticks": ""
           }
          },
          "title": {
           "x": 0.05
          },
          "xaxis": {
           "automargin": true,
           "gridcolor": "white",
           "linecolor": "white",
           "ticks": "",
           "title": {
            "standoff": 15
           },
           "zerolinecolor": "white",
           "zerolinewidth": 2
          },
          "yaxis": {
           "automargin": true,
           "gridcolor": "white",
           "linecolor": "white",
           "ticks": "",
           "title": {
            "standoff": 15
           },
           "zerolinecolor": "white",
           "zerolinewidth": 2
          }
         }
        },
        "xaxis": {
         "anchor": "y",
         "domain": [
          0,
          1
         ],
         "title": {
          "text": "symbol_option"
         }
        },
        "yaxis": {
         "anchor": "x",
         "domain": [
          0,
          1
         ],
         "title": {
          "text": "IV"
         }
        }
       }
      }
     },
     "metadata": {},
     "output_type": "display_data"
    }
   ],
   "source": [
    "import plotly.express as px\n",
    "options_selected = options_selected.reset_index(drop=True)\n",
    "px.line(options_selected , x='symbol_option' , y='IV')"
   ]
  },
  {
   "cell_type": "code",
   "execution_count": 42,
   "metadata": {},
   "outputs": [],
   "source": [
    "options_selected['diff'] = options_selected['last_trade_option'] - options_selected['call_bs']"
   ]
  },
  {
   "cell_type": "code",
   "execution_count": 43,
   "metadata": {},
   "outputs": [
    {
     "data": {
      "application/vnd.plotly.v1+json": {
       "config": {
        "plotlyServerURL": "https://plot.ly"
       },
       "data": [
        {
         "hovertemplate": "symbol_option=%{x}<br>diff=%{y}<extra></extra>",
         "legendgroup": "",
         "line": {
          "color": "#636efa",
          "dash": "solid"
         },
         "marker": {
          "symbol": "circle"
         },
         "mode": "lines",
         "name": "",
         "orientation": "v",
         "showlegend": false,
         "type": "scatter",
         "x": [
          "ضستا6010",
          "ضخود3072",
          "ضسپا6005",
          "ضسپا3025",
          "ضخود3074",
          "ضهرم7008",
          "ضخود3069",
          "ضستا6004",
          "ضخود5017",
          "ضجار2029",
          "ضسپا3026",
          "ضستا2013",
          "ضسپا3030",
          "ضخود5021",
          "ضسپا6011",
          "ضستا2014",
          "ضستا2016",
          "ضجار2022",
          "ضجار2030",
          "ضشنا2025",
          "ضستا2019",
          "ضسرو1021",
          "ضکرمان602",
          "ضستا4007",
          "ضصاد3027",
          "ضجار2027",
          "ضهای3006",
          "ضجار6000",
          "ضخود3075",
          "ضملت3024",
          "ضروز4010",
          "ضهرم7010",
          "ضسپا3031",
          "ضسپا3033",
          "ضسپا3027",
          "ضدی215",
          "ضستا4011",
          "ضهرم7009",
          "ضملت3020",
          "ضجار2026",
          "ضستا2018",
          "ضستا2017",
          "ضسپا3024",
          "ضهرم7006",
          "ضهرم7015",
          "ضخاور402",
          "ضصاد3025",
          "ضسپا6008",
          "ضخپارس601",
          "ضستا6002",
          "ضهرم7016"
         ],
         "xaxis": "x",
         "y": [
          -23.53338979605394,
          -12.517780376701921,
          -37.67099036081777,
          -20.12979821012277,
          -10.755421720107506,
          -380.9026420626178,
          -12.817287827840119,
          -19.874348524311472,
          -42.59079941282221,
          -3.3724204399372866,
          -20.601834012107474,
          -3,
          -18.09202961423989,
          -39.45921027557233,
          -46.16554428327095,
          2,
          5,
          -118.84524617231318,
          -2.5452181979183024,
          -91.2050372769063,
          16,
          -5162.247707657269,
          -17.469579642691542,
          -11.943132460094262,
          -13.631317384732938,
          -41.881802853543604,
          -12.905140330658014,
          -25.81990251679349,
          -6.9517258848779875,
          -25.305635339190758,
          -342.0198074542968,
          -1713.9210589367613,
          -16.60192986428683,
          -12.112344012851281,
          -20.202821301501217,
          -15.175289907648676,
          -6.9363589178728375,
          -520.5982825807951,
          -19.223925815760595,
          -67.83427551806562,
          16,
          7,
          -21.507285241987347,
          -360.15120563440723,
          -657.8832635941471,
          -35.12883899357075,
          -15.85805006274677,
          -44.15732091373411,
          -20.325078121845763,
          -62.15226442995686,
          -603.3947512597697
         ],
         "yaxis": "y"
        }
       ],
       "layout": {
        "legend": {
         "tracegroupgap": 0
        },
        "margin": {
         "t": 60
        },
        "template": {
         "data": {
          "bar": [
           {
            "error_x": {
             "color": "#2a3f5f"
            },
            "error_y": {
             "color": "#2a3f5f"
            },
            "marker": {
             "line": {
              "color": "#E5ECF6",
              "width": 0.5
             },
             "pattern": {
              "fillmode": "overlay",
              "size": 10,
              "solidity": 0.2
             }
            },
            "type": "bar"
           }
          ],
          "barpolar": [
           {
            "marker": {
             "line": {
              "color": "#E5ECF6",
              "width": 0.5
             },
             "pattern": {
              "fillmode": "overlay",
              "size": 10,
              "solidity": 0.2
             }
            },
            "type": "barpolar"
           }
          ],
          "carpet": [
           {
            "aaxis": {
             "endlinecolor": "#2a3f5f",
             "gridcolor": "white",
             "linecolor": "white",
             "minorgridcolor": "white",
             "startlinecolor": "#2a3f5f"
            },
            "baxis": {
             "endlinecolor": "#2a3f5f",
             "gridcolor": "white",
             "linecolor": "white",
             "minorgridcolor": "white",
             "startlinecolor": "#2a3f5f"
            },
            "type": "carpet"
           }
          ],
          "choropleth": [
           {
            "colorbar": {
             "outlinewidth": 0,
             "ticks": ""
            },
            "type": "choropleth"
           }
          ],
          "contour": [
           {
            "colorbar": {
             "outlinewidth": 0,
             "ticks": ""
            },
            "colorscale": [
             [
              0,
              "#0d0887"
             ],
             [
              0.1111111111111111,
              "#46039f"
             ],
             [
              0.2222222222222222,
              "#7201a8"
             ],
             [
              0.3333333333333333,
              "#9c179e"
             ],
             [
              0.4444444444444444,
              "#bd3786"
             ],
             [
              0.5555555555555556,
              "#d8576b"
             ],
             [
              0.6666666666666666,
              "#ed7953"
             ],
             [
              0.7777777777777778,
              "#fb9f3a"
             ],
             [
              0.8888888888888888,
              "#fdca26"
             ],
             [
              1,
              "#f0f921"
             ]
            ],
            "type": "contour"
           }
          ],
          "contourcarpet": [
           {
            "colorbar": {
             "outlinewidth": 0,
             "ticks": ""
            },
            "type": "contourcarpet"
           }
          ],
          "heatmap": [
           {
            "colorbar": {
             "outlinewidth": 0,
             "ticks": ""
            },
            "colorscale": [
             [
              0,
              "#0d0887"
             ],
             [
              0.1111111111111111,
              "#46039f"
             ],
             [
              0.2222222222222222,
              "#7201a8"
             ],
             [
              0.3333333333333333,
              "#9c179e"
             ],
             [
              0.4444444444444444,
              "#bd3786"
             ],
             [
              0.5555555555555556,
              "#d8576b"
             ],
             [
              0.6666666666666666,
              "#ed7953"
             ],
             [
              0.7777777777777778,
              "#fb9f3a"
             ],
             [
              0.8888888888888888,
              "#fdca26"
             ],
             [
              1,
              "#f0f921"
             ]
            ],
            "type": "heatmap"
           }
          ],
          "heatmapgl": [
           {
            "colorbar": {
             "outlinewidth": 0,
             "ticks": ""
            },
            "colorscale": [
             [
              0,
              "#0d0887"
             ],
             [
              0.1111111111111111,
              "#46039f"
             ],
             [
              0.2222222222222222,
              "#7201a8"
             ],
             [
              0.3333333333333333,
              "#9c179e"
             ],
             [
              0.4444444444444444,
              "#bd3786"
             ],
             [
              0.5555555555555556,
              "#d8576b"
             ],
             [
              0.6666666666666666,
              "#ed7953"
             ],
             [
              0.7777777777777778,
              "#fb9f3a"
             ],
             [
              0.8888888888888888,
              "#fdca26"
             ],
             [
              1,
              "#f0f921"
             ]
            ],
            "type": "heatmapgl"
           }
          ],
          "histogram": [
           {
            "marker": {
             "pattern": {
              "fillmode": "overlay",
              "size": 10,
              "solidity": 0.2
             }
            },
            "type": "histogram"
           }
          ],
          "histogram2d": [
           {
            "colorbar": {
             "outlinewidth": 0,
             "ticks": ""
            },
            "colorscale": [
             [
              0,
              "#0d0887"
             ],
             [
              0.1111111111111111,
              "#46039f"
             ],
             [
              0.2222222222222222,
              "#7201a8"
             ],
             [
              0.3333333333333333,
              "#9c179e"
             ],
             [
              0.4444444444444444,
              "#bd3786"
             ],
             [
              0.5555555555555556,
              "#d8576b"
             ],
             [
              0.6666666666666666,
              "#ed7953"
             ],
             [
              0.7777777777777778,
              "#fb9f3a"
             ],
             [
              0.8888888888888888,
              "#fdca26"
             ],
             [
              1,
              "#f0f921"
             ]
            ],
            "type": "histogram2d"
           }
          ],
          "histogram2dcontour": [
           {
            "colorbar": {
             "outlinewidth": 0,
             "ticks": ""
            },
            "colorscale": [
             [
              0,
              "#0d0887"
             ],
             [
              0.1111111111111111,
              "#46039f"
             ],
             [
              0.2222222222222222,
              "#7201a8"
             ],
             [
              0.3333333333333333,
              "#9c179e"
             ],
             [
              0.4444444444444444,
              "#bd3786"
             ],
             [
              0.5555555555555556,
              "#d8576b"
             ],
             [
              0.6666666666666666,
              "#ed7953"
             ],
             [
              0.7777777777777778,
              "#fb9f3a"
             ],
             [
              0.8888888888888888,
              "#fdca26"
             ],
             [
              1,
              "#f0f921"
             ]
            ],
            "type": "histogram2dcontour"
           }
          ],
          "mesh3d": [
           {
            "colorbar": {
             "outlinewidth": 0,
             "ticks": ""
            },
            "type": "mesh3d"
           }
          ],
          "parcoords": [
           {
            "line": {
             "colorbar": {
              "outlinewidth": 0,
              "ticks": ""
             }
            },
            "type": "parcoords"
           }
          ],
          "pie": [
           {
            "automargin": true,
            "type": "pie"
           }
          ],
          "scatter": [
           {
            "fillpattern": {
             "fillmode": "overlay",
             "size": 10,
             "solidity": 0.2
            },
            "type": "scatter"
           }
          ],
          "scatter3d": [
           {
            "line": {
             "colorbar": {
              "outlinewidth": 0,
              "ticks": ""
             }
            },
            "marker": {
             "colorbar": {
              "outlinewidth": 0,
              "ticks": ""
             }
            },
            "type": "scatter3d"
           }
          ],
          "scattercarpet": [
           {
            "marker": {
             "colorbar": {
              "outlinewidth": 0,
              "ticks": ""
             }
            },
            "type": "scattercarpet"
           }
          ],
          "scattergeo": [
           {
            "marker": {
             "colorbar": {
              "outlinewidth": 0,
              "ticks": ""
             }
            },
            "type": "scattergeo"
           }
          ],
          "scattergl": [
           {
            "marker": {
             "colorbar": {
              "outlinewidth": 0,
              "ticks": ""
             }
            },
            "type": "scattergl"
           }
          ],
          "scattermapbox": [
           {
            "marker": {
             "colorbar": {
              "outlinewidth": 0,
              "ticks": ""
             }
            },
            "type": "scattermapbox"
           }
          ],
          "scatterpolar": [
           {
            "marker": {
             "colorbar": {
              "outlinewidth": 0,
              "ticks": ""
             }
            },
            "type": "scatterpolar"
           }
          ],
          "scatterpolargl": [
           {
            "marker": {
             "colorbar": {
              "outlinewidth": 0,
              "ticks": ""
             }
            },
            "type": "scatterpolargl"
           }
          ],
          "scatterternary": [
           {
            "marker": {
             "colorbar": {
              "outlinewidth": 0,
              "ticks": ""
             }
            },
            "type": "scatterternary"
           }
          ],
          "surface": [
           {
            "colorbar": {
             "outlinewidth": 0,
             "ticks": ""
            },
            "colorscale": [
             [
              0,
              "#0d0887"
             ],
             [
              0.1111111111111111,
              "#46039f"
             ],
             [
              0.2222222222222222,
              "#7201a8"
             ],
             [
              0.3333333333333333,
              "#9c179e"
             ],
             [
              0.4444444444444444,
              "#bd3786"
             ],
             [
              0.5555555555555556,
              "#d8576b"
             ],
             [
              0.6666666666666666,
              "#ed7953"
             ],
             [
              0.7777777777777778,
              "#fb9f3a"
             ],
             [
              0.8888888888888888,
              "#fdca26"
             ],
             [
              1,
              "#f0f921"
             ]
            ],
            "type": "surface"
           }
          ],
          "table": [
           {
            "cells": {
             "fill": {
              "color": "#EBF0F8"
             },
             "line": {
              "color": "white"
             }
            },
            "header": {
             "fill": {
              "color": "#C8D4E3"
             },
             "line": {
              "color": "white"
             }
            },
            "type": "table"
           }
          ]
         },
         "layout": {
          "annotationdefaults": {
           "arrowcolor": "#2a3f5f",
           "arrowhead": 0,
           "arrowwidth": 1
          },
          "autotypenumbers": "strict",
          "coloraxis": {
           "colorbar": {
            "outlinewidth": 0,
            "ticks": ""
           }
          },
          "colorscale": {
           "diverging": [
            [
             0,
             "#8e0152"
            ],
            [
             0.1,
             "#c51b7d"
            ],
            [
             0.2,
             "#de77ae"
            ],
            [
             0.3,
             "#f1b6da"
            ],
            [
             0.4,
             "#fde0ef"
            ],
            [
             0.5,
             "#f7f7f7"
            ],
            [
             0.6,
             "#e6f5d0"
            ],
            [
             0.7,
             "#b8e186"
            ],
            [
             0.8,
             "#7fbc41"
            ],
            [
             0.9,
             "#4d9221"
            ],
            [
             1,
             "#276419"
            ]
           ],
           "sequential": [
            [
             0,
             "#0d0887"
            ],
            [
             0.1111111111111111,
             "#46039f"
            ],
            [
             0.2222222222222222,
             "#7201a8"
            ],
            [
             0.3333333333333333,
             "#9c179e"
            ],
            [
             0.4444444444444444,
             "#bd3786"
            ],
            [
             0.5555555555555556,
             "#d8576b"
            ],
            [
             0.6666666666666666,
             "#ed7953"
            ],
            [
             0.7777777777777778,
             "#fb9f3a"
            ],
            [
             0.8888888888888888,
             "#fdca26"
            ],
            [
             1,
             "#f0f921"
            ]
           ],
           "sequentialminus": [
            [
             0,
             "#0d0887"
            ],
            [
             0.1111111111111111,
             "#46039f"
            ],
            [
             0.2222222222222222,
             "#7201a8"
            ],
            [
             0.3333333333333333,
             "#9c179e"
            ],
            [
             0.4444444444444444,
             "#bd3786"
            ],
            [
             0.5555555555555556,
             "#d8576b"
            ],
            [
             0.6666666666666666,
             "#ed7953"
            ],
            [
             0.7777777777777778,
             "#fb9f3a"
            ],
            [
             0.8888888888888888,
             "#fdca26"
            ],
            [
             1,
             "#f0f921"
            ]
           ]
          },
          "colorway": [
           "#636efa",
           "#EF553B",
           "#00cc96",
           "#ab63fa",
           "#FFA15A",
           "#19d3f3",
           "#FF6692",
           "#B6E880",
           "#FF97FF",
           "#FECB52"
          ],
          "font": {
           "color": "#2a3f5f"
          },
          "geo": {
           "bgcolor": "white",
           "lakecolor": "white",
           "landcolor": "#E5ECF6",
           "showlakes": true,
           "showland": true,
           "subunitcolor": "white"
          },
          "hoverlabel": {
           "align": "left"
          },
          "hovermode": "closest",
          "mapbox": {
           "style": "light"
          },
          "paper_bgcolor": "white",
          "plot_bgcolor": "#E5ECF6",
          "polar": {
           "angularaxis": {
            "gridcolor": "white",
            "linecolor": "white",
            "ticks": ""
           },
           "bgcolor": "#E5ECF6",
           "radialaxis": {
            "gridcolor": "white",
            "linecolor": "white",
            "ticks": ""
           }
          },
          "scene": {
           "xaxis": {
            "backgroundcolor": "#E5ECF6",
            "gridcolor": "white",
            "gridwidth": 2,
            "linecolor": "white",
            "showbackground": true,
            "ticks": "",
            "zerolinecolor": "white"
           },
           "yaxis": {
            "backgroundcolor": "#E5ECF6",
            "gridcolor": "white",
            "gridwidth": 2,
            "linecolor": "white",
            "showbackground": true,
            "ticks": "",
            "zerolinecolor": "white"
           },
           "zaxis": {
            "backgroundcolor": "#E5ECF6",
            "gridcolor": "white",
            "gridwidth": 2,
            "linecolor": "white",
            "showbackground": true,
            "ticks": "",
            "zerolinecolor": "white"
           }
          },
          "shapedefaults": {
           "line": {
            "color": "#2a3f5f"
           }
          },
          "ternary": {
           "aaxis": {
            "gridcolor": "white",
            "linecolor": "white",
            "ticks": ""
           },
           "baxis": {
            "gridcolor": "white",
            "linecolor": "white",
            "ticks": ""
           },
           "bgcolor": "#E5ECF6",
           "caxis": {
            "gridcolor": "white",
            "linecolor": "white",
            "ticks": ""
           }
          },
          "title": {
           "x": 0.05
          },
          "xaxis": {
           "automargin": true,
           "gridcolor": "white",
           "linecolor": "white",
           "ticks": "",
           "title": {
            "standoff": 15
           },
           "zerolinecolor": "white",
           "zerolinewidth": 2
          },
          "yaxis": {
           "automargin": true,
           "gridcolor": "white",
           "linecolor": "white",
           "ticks": "",
           "title": {
            "standoff": 15
           },
           "zerolinecolor": "white",
           "zerolinewidth": 2
          }
         }
        },
        "xaxis": {
         "anchor": "y",
         "domain": [
          0,
          1
         ],
         "title": {
          "text": "symbol_option"
         }
        },
        "yaxis": {
         "anchor": "x",
         "domain": [
          0,
          1
         ],
         "title": {
          "text": "diff"
         }
        }
       }
      }
     },
     "metadata": {},
     "output_type": "display_data"
    }
   ],
   "source": [
    "px.line(options_selected , x='symbol_option' , y='diff')"
   ]
  },
  {
   "cell_type": "code",
   "execution_count": 47,
   "metadata": {},
   "outputs": [
    {
     "data": {
      "text/html": [
       "<div>\n",
       "<style scoped>\n",
       "    .dataframe tbody tr th:only-of-type {\n",
       "        vertical-align: middle;\n",
       "    }\n",
       "\n",
       "    .dataframe tbody tr th {\n",
       "        vertical-align: top;\n",
       "    }\n",
       "\n",
       "    .dataframe thead th {\n",
       "        text-align: right;\n",
       "    }\n",
       "</style>\n",
       "<table border=\"1\" class=\"dataframe\">\n",
       "  <thead>\n",
       "    <tr style=\"text-align: right;\">\n",
       "      <th></th>\n",
       "      <th>27</th>\n",
       "    </tr>\n",
       "  </thead>\n",
       "  <tbody>\n",
       "    <tr>\n",
       "      <th>id_option</th>\n",
       "      <td>52157458348940396</td>\n",
       "    </tr>\n",
       "    <tr>\n",
       "      <th>isin_option</th>\n",
       "      <td>IRO9BTEJ4551</td>\n",
       "    </tr>\n",
       "    <tr>\n",
       "      <th>symbol_option</th>\n",
       "      <td>ضجار6000</td>\n",
       "    </tr>\n",
       "    <tr>\n",
       "      <th>name</th>\n",
       "      <td>اختيارخ وتجارت-1500-1402/06/14</td>\n",
       "    </tr>\n",
       "    <tr>\n",
       "      <th>open_price</th>\n",
       "      <td>1333.0</td>\n",
       "    </tr>\n",
       "    <tr>\n",
       "      <th>close_price</th>\n",
       "      <td>1460.0</td>\n",
       "    </tr>\n",
       "    <tr>\n",
       "      <th>last_trade_option</th>\n",
       "      <td>1533.0</td>\n",
       "    </tr>\n",
       "    <tr>\n",
       "      <th>count</th>\n",
       "      <td>165</td>\n",
       "    </tr>\n",
       "    <tr>\n",
       "      <th>volume</th>\n",
       "      <td>7850.0</td>\n",
       "    </tr>\n",
       "    <tr>\n",
       "      <th>value</th>\n",
       "      <td>11457789000.0</td>\n",
       "    </tr>\n",
       "    <tr>\n",
       "      <th>low_price</th>\n",
       "      <td>1333.0</td>\n",
       "    </tr>\n",
       "    <tr>\n",
       "      <th>high_price</th>\n",
       "      <td>1600.0</td>\n",
       "    </tr>\n",
       "    <tr>\n",
       "      <th>yesterday_price</th>\n",
       "      <td>1327</td>\n",
       "    </tr>\n",
       "    <tr>\n",
       "      <th>table_id</th>\n",
       "      <td>3</td>\n",
       "    </tr>\n",
       "    <tr>\n",
       "      <th>group_id</th>\n",
       "      <td>57</td>\n",
       "    </tr>\n",
       "    <tr>\n",
       "      <th>max_allowed_price</th>\n",
       "      <td>100000.0</td>\n",
       "    </tr>\n",
       "    <tr>\n",
       "      <th>min_allowed_price_option</th>\n",
       "      <td>1.0</td>\n",
       "    </tr>\n",
       "    <tr>\n",
       "      <th>last_ret</th>\n",
       "      <td>0.155237</td>\n",
       "    </tr>\n",
       "    <tr>\n",
       "      <th>close_ret</th>\n",
       "      <td>0.100226</td>\n",
       "    </tr>\n",
       "    <tr>\n",
       "      <th>number_of_shares</th>\n",
       "      <td>1000.0</td>\n",
       "    </tr>\n",
       "    <tr>\n",
       "      <th>market_cap</th>\n",
       "      <td>1460000</td>\n",
       "    </tr>\n",
       "    <tr>\n",
       "      <th>bid_price_4</th>\n",
       "      <td>1400.0</td>\n",
       "    </tr>\n",
       "    <tr>\n",
       "      <th>bid_vol_4</th>\n",
       "      <td>10.0</td>\n",
       "    </tr>\n",
       "    <tr>\n",
       "      <th>ask_price_4</th>\n",
       "      <td>1588.0</td>\n",
       "    </tr>\n",
       "    <tr>\n",
       "      <th>ask_vol_4</th>\n",
       "      <td>9.0</td>\n",
       "    </tr>\n",
       "    <tr>\n",
       "      <th>bid_price_2</th>\n",
       "      <td>1405.0</td>\n",
       "    </tr>\n",
       "    <tr>\n",
       "      <th>bid_vol_2</th>\n",
       "      <td>10.0</td>\n",
       "    </tr>\n",
       "    <tr>\n",
       "      <th>ask_price_2</th>\n",
       "      <td>1550.0</td>\n",
       "    </tr>\n",
       "    <tr>\n",
       "      <th>ask_vol_2</th>\n",
       "      <td>100.0</td>\n",
       "    </tr>\n",
       "    <tr>\n",
       "      <th>bid_price_3</th>\n",
       "      <td>1403.0</td>\n",
       "    </tr>\n",
       "    <tr>\n",
       "      <th>bid_vol_3</th>\n",
       "      <td>31.0</td>\n",
       "    </tr>\n",
       "    <tr>\n",
       "      <th>ask_price_3</th>\n",
       "      <td>1567.0</td>\n",
       "    </tr>\n",
       "    <tr>\n",
       "      <th>ask_vol_3</th>\n",
       "      <td>8.0</td>\n",
       "    </tr>\n",
       "    <tr>\n",
       "      <th>bid_price_5</th>\n",
       "      <td>1381.0</td>\n",
       "    </tr>\n",
       "    <tr>\n",
       "      <th>bid_vol_5</th>\n",
       "      <td>60.0</td>\n",
       "    </tr>\n",
       "    <tr>\n",
       "      <th>ask_price_5</th>\n",
       "      <td>1750.0</td>\n",
       "    </tr>\n",
       "    <tr>\n",
       "      <th>ask_vol_5</th>\n",
       "      <td>15.0</td>\n",
       "    </tr>\n",
       "    <tr>\n",
       "      <th>bid_price_1</th>\n",
       "      <td>1446.48835</td>\n",
       "    </tr>\n",
       "    <tr>\n",
       "      <th>bid_vol_1</th>\n",
       "      <td>300.0</td>\n",
       "    </tr>\n",
       "    <tr>\n",
       "      <th>ask_price_1</th>\n",
       "      <td>1532.41998</td>\n",
       "    </tr>\n",
       "    <tr>\n",
       "      <th>ask_vol_1</th>\n",
       "      <td>9.0</td>\n",
       "    </tr>\n",
       "    <tr>\n",
       "      <th>ask_value_1</th>\n",
       "      <td>13806.0</td>\n",
       "    </tr>\n",
       "    <tr>\n",
       "      <th>ask_value_2</th>\n",
       "      <td>155000.0</td>\n",
       "    </tr>\n",
       "    <tr>\n",
       "      <th>ask_value_3</th>\n",
       "      <td>12536.0</td>\n",
       "    </tr>\n",
       "    <tr>\n",
       "      <th>ask_value_4</th>\n",
       "      <td>14292.0</td>\n",
       "    </tr>\n",
       "    <tr>\n",
       "      <th>ask_value_5</th>\n",
       "      <td>26250.0</td>\n",
       "    </tr>\n",
       "    <tr>\n",
       "      <th>bid_value_1</th>\n",
       "      <td>433500.0</td>\n",
       "    </tr>\n",
       "    <tr>\n",
       "      <th>bid_value_2</th>\n",
       "      <td>14050.0</td>\n",
       "    </tr>\n",
       "    <tr>\n",
       "      <th>bid_value_3</th>\n",
       "      <td>43493.0</td>\n",
       "    </tr>\n",
       "    <tr>\n",
       "      <th>bid_value_4</th>\n",
       "      <td>14000.0</td>\n",
       "    </tr>\n",
       "    <tr>\n",
       "      <th>bid_value_5</th>\n",
       "      <td>82860.0</td>\n",
       "    </tr>\n",
       "    <tr>\n",
       "      <th>time</th>\n",
       "      <td>2023-05-02 08:49:27.447326</td>\n",
       "    </tr>\n",
       "    <tr>\n",
       "      <th>date</th>\n",
       "      <td>2023-05-02</td>\n",
       "    </tr>\n",
       "    <tr>\n",
       "      <th>jalali_date</th>\n",
       "      <td>1402-02-12</td>\n",
       "    </tr>\n",
       "    <tr>\n",
       "      <th>base_symbol</th>\n",
       "      <td>وتجارت</td>\n",
       "    </tr>\n",
       "    <tr>\n",
       "      <th>jalali_due_date</th>\n",
       "      <td>1402-06-14 00:00:00</td>\n",
       "    </tr>\n",
       "    <tr>\n",
       "      <th>days_until_due</th>\n",
       "      <td>125</td>\n",
       "    </tr>\n",
       "    <tr>\n",
       "      <th>miladi_due_date</th>\n",
       "      <td>2023-09-05 00:00:00</td>\n",
       "    </tr>\n",
       "    <tr>\n",
       "      <th>due_date_price</th>\n",
       "      <td>1500</td>\n",
       "    </tr>\n",
       "    <tr>\n",
       "      <th>last_trade_base</th>\n",
       "      <td>2614.0</td>\n",
       "    </tr>\n",
       "    <tr>\n",
       "      <th>symbol_base</th>\n",
       "      <td>وتجارت</td>\n",
       "    </tr>\n",
       "    <tr>\n",
       "      <th>id_base</th>\n",
       "      <td>63917421733088077</td>\n",
       "    </tr>\n",
       "    <tr>\n",
       "      <th>isin_base</th>\n",
       "      <td>IRO1BTEJ0001</td>\n",
       "    </tr>\n",
       "    <tr>\n",
       "      <th>min_allowed_price_base</th>\n",
       "      <td>2309.0</td>\n",
       "    </tr>\n",
       "    <tr>\n",
       "      <th>in_the_money_percentage</th>\n",
       "      <td>0.426167</td>\n",
       "    </tr>\n",
       "    <tr>\n",
       "      <th>ask_price_1_w_o_c</th>\n",
       "      <td>1534.0</td>\n",
       "    </tr>\n",
       "    <tr>\n",
       "      <th>bid_price_1_w_o_c</th>\n",
       "      <td>1445.0</td>\n",
       "    </tr>\n",
       "    <tr>\n",
       "      <th>leverage_ask_price_1</th>\n",
       "      <td>1.705799</td>\n",
       "    </tr>\n",
       "    <tr>\n",
       "      <th>leverage_bid_price_1</th>\n",
       "      <td>1.807135</td>\n",
       "    </tr>\n",
       "    <tr>\n",
       "      <th>leverage_last_trade</th>\n",
       "      <td>1.705153</td>\n",
       "    </tr>\n",
       "    <tr>\n",
       "      <th>interest_rate_last_trade</th>\n",
       "      <td>1.602648</td>\n",
       "    </tr>\n",
       "    <tr>\n",
       "      <th>interest_rate_ask_price_1</th>\n",
       "      <td>1.598575</td>\n",
       "    </tr>\n",
       "    <tr>\n",
       "      <th>interest_rate_bid_price_1</th>\n",
       "      <td>1.078661</td>\n",
       "    </tr>\n",
       "    <tr>\n",
       "      <th>spread_pct</th>\n",
       "      <td>5.940707</td>\n",
       "    </tr>\n",
       "    <tr>\n",
       "      <th>IV</th>\n",
       "      <td>1.719647</td>\n",
       "    </tr>\n",
       "    <tr>\n",
       "      <th>call_bs</th>\n",
       "      <td>1558.819903</td>\n",
       "    </tr>\n",
       "    <tr>\n",
       "      <th>diff</th>\n",
       "      <td>-25.819903</td>\n",
       "    </tr>\n",
       "  </tbody>\n",
       "</table>\n",
       "</div>"
      ],
      "text/plain": [
       "                                                       27\n",
       "id_option                               52157458348940396\n",
       "isin_option                                  IRO9BTEJ4551\n",
       "symbol_option                                    ضجار6000\n",
       "name                       اختيارخ وتجارت-1500-1402/06/14\n",
       "open_price                                         1333.0\n",
       "close_price                                        1460.0\n",
       "last_trade_option                                  1533.0\n",
       "count                                                 165\n",
       "volume                                             7850.0\n",
       "value                                       11457789000.0\n",
       "low_price                                          1333.0\n",
       "high_price                                         1600.0\n",
       "yesterday_price                                      1327\n",
       "table_id                                                3\n",
       "group_id                                               57\n",
       "max_allowed_price                                100000.0\n",
       "min_allowed_price_option                              1.0\n",
       "last_ret                                         0.155237\n",
       "close_ret                                        0.100226\n",
       "number_of_shares                                   1000.0\n",
       "market_cap                                        1460000\n",
       "bid_price_4                                        1400.0\n",
       "bid_vol_4                                            10.0\n",
       "ask_price_4                                        1588.0\n",
       "ask_vol_4                                             9.0\n",
       "bid_price_2                                        1405.0\n",
       "bid_vol_2                                            10.0\n",
       "ask_price_2                                        1550.0\n",
       "ask_vol_2                                           100.0\n",
       "bid_price_3                                        1403.0\n",
       "bid_vol_3                                            31.0\n",
       "ask_price_3                                        1567.0\n",
       "ask_vol_3                                             8.0\n",
       "bid_price_5                                        1381.0\n",
       "bid_vol_5                                            60.0\n",
       "ask_price_5                                        1750.0\n",
       "ask_vol_5                                            15.0\n",
       "bid_price_1                                    1446.48835\n",
       "bid_vol_1                                           300.0\n",
       "ask_price_1                                    1532.41998\n",
       "ask_vol_1                                             9.0\n",
       "ask_value_1                                       13806.0\n",
       "ask_value_2                                      155000.0\n",
       "ask_value_3                                       12536.0\n",
       "ask_value_4                                       14292.0\n",
       "ask_value_5                                       26250.0\n",
       "bid_value_1                                      433500.0\n",
       "bid_value_2                                       14050.0\n",
       "bid_value_3                                       43493.0\n",
       "bid_value_4                                       14000.0\n",
       "bid_value_5                                       82860.0\n",
       "time                           2023-05-02 08:49:27.447326\n",
       "date                                           2023-05-02\n",
       "jalali_date                                    1402-02-12\n",
       "base_symbol                                        وتجارت\n",
       "jalali_due_date                       1402-06-14 00:00:00\n",
       "days_until_due                                        125\n",
       "miladi_due_date                       2023-09-05 00:00:00\n",
       "due_date_price                                       1500\n",
       "last_trade_base                                    2614.0\n",
       "symbol_base                                        وتجارت\n",
       "id_base                                 63917421733088077\n",
       "isin_base                                    IRO1BTEJ0001\n",
       "min_allowed_price_base                             2309.0\n",
       "in_the_money_percentage                          0.426167\n",
       "ask_price_1_w_o_c                                  1534.0\n",
       "bid_price_1_w_o_c                                  1445.0\n",
       "leverage_ask_price_1                             1.705799\n",
       "leverage_bid_price_1                             1.807135\n",
       "leverage_last_trade                              1.705153\n",
       "interest_rate_last_trade                         1.602648\n",
       "interest_rate_ask_price_1                        1.598575\n",
       "interest_rate_bid_price_1                        1.078661\n",
       "spread_pct                                       5.940707\n",
       "IV                                               1.719647\n",
       "call_bs                                       1558.819903\n",
       "diff                                           -25.819903"
      ]
     },
     "execution_count": 47,
     "metadata": {},
     "output_type": "execute_result"
    }
   ],
   "source": [
    "pd.options.display.max_rows = 100\n",
    "\n",
    "options_selected[options_selected['symbol_option']=='ضجار6000'].T"
   ]
  },
  {
   "cell_type": "code",
   "execution_count": 70,
   "metadata": {},
   "outputs": [
    {
     "data": {
      "text/plain": [
       "1174.5177300541886"
      ]
     },
     "execution_count": 70,
     "metadata": {},
     "output_type": "execute_result"
    }
   ],
   "source": [
    "black_scholes_call(2114,1500,135/365 , 0.75, 1.5)"
   ]
  },
  {
   "cell_type": "code",
   "execution_count": 86,
   "metadata": {},
   "outputs": [
    {
     "data": {
      "application/vnd.plotly.v1+json": {
       "config": {
        "plotlyServerURL": "https://plot.ly"
       },
       "data": [
        {
         "customdata": [
          [
           "ضستا6010",
           -23.53338979605394
          ],
          [
           "ضخود3072",
           -12.517780376701921
          ],
          [
           "ضسپا6005",
           -37.67099036081777
          ],
          [
           "ضسپا3025",
           -20.12979821012277
          ],
          [
           "ضخود3074",
           -10.755421720107506
          ],
          [
           "ضخود3069",
           -12.817287827840119
          ],
          [
           "ضستا6004",
           -19.874348524311472
          ],
          [
           "ضخود5017",
           -42.59079941282221
          ],
          [
           "ضجار2029",
           -3.3724204399372866
          ],
          [
           "ضسپا3026",
           -20.601834012107474
          ],
          [
           "ضستا2013",
           -3
          ],
          [
           "ضسپا3030",
           -18.09202961423989
          ],
          [
           "ضخود5021",
           -39.45921027557233
          ],
          [
           "ضسپا6011",
           -46.16554428327095
          ],
          [
           "ضستا2014",
           2
          ],
          [
           "ضستا2016",
           5
          ],
          [
           "ضجار2022",
           -118.84524617231318
          ],
          [
           "ضجار2030",
           -2.5452181979183024
          ],
          [
           "ضشنا2025",
           -91.2050372769063
          ],
          [
           "ضستا2019",
           16
          ],
          [
           "ضسرو1021",
           -5162.247707657269
          ],
          [
           "ضستا4007",
           -11.943132460094262
          ],
          [
           "ضصاد3027",
           -13.631317384732938
          ],
          [
           "ضجار2027",
           -41.881802853543604
          ],
          [
           "ضهای3006",
           -12.905140330658014
          ],
          [
           "ضخود3075",
           -6.9517258848779875
          ],
          [
           "ضملت3024",
           -25.305635339190758
          ],
          [
           "ضروز4010",
           -342.0198074542968
          ],
          [
           "ضسپا3031",
           -16.60192986428683
          ],
          [
           "ضسپا3033",
           -12.112344012851281
          ],
          [
           "ضسپا3027",
           -20.202821301501217
          ],
          [
           "ضدی215",
           -15.175289907648676
          ],
          [
           "ضستا4011",
           -6.9363589178728375
          ],
          [
           "ضملت3020",
           -19.223925815760595
          ],
          [
           "ضجار2026",
           -67.83427551806562
          ],
          [
           "ضستا2018",
           16
          ],
          [
           "ضستا2017",
           7
          ],
          [
           "ضسپا3024",
           -21.507285241987347
          ],
          [
           "ضهرم7015",
           -657.8832635941471
          ],
          [
           "ضخاور402",
           -35.12883899357075
          ],
          [
           "ضصاد3025",
           -15.85805006274677
          ],
          [
           "ضسپا6008",
           -44.15732091373411
          ],
          [
           "ضخپارس601",
           -20.325078121845763
          ],
          [
           "ضهرم7016",
           -603.3947512597697
          ]
         ],
         "hovertemplate": "ITM=0<br>days_until_due=%{x}<br>interest_rate_last_trade=%{y}<br>in_the_money_percentage=%{z}<br>symbol_option=%{customdata[0]}<br>diff=%{customdata[1]}<extra></extra>",
         "legendgroup": "0",
         "marker": {
          "color": "#636efa",
          "symbol": "circle"
         },
         "mode": "markers",
         "name": "0",
         "scene": "scene",
         "showlegend": true,
         "type": "scatter3d",
         "x": [
          119,
          21,
          125,
          42,
          21,
          21,
          119,
          91,
          7,
          42,
          0,
          42,
          91,
          125,
          0,
          0,
          7,
          7,
          11,
          0,
          238,
          63,
          35,
          7,
          21,
          21,
          46,
          63,
          42,
          42,
          42,
          4,
          63,
          46,
          7,
          0,
          0,
          42,
          165,
          60,
          35,
          125,
          132,
          165
         ],
         "y": [
          1.0462166674708908,
          3.283003044223416,
          1.2072912606469859,
          0.793336119647083,
          5.211756694675819,
          1.345192848482435,
          0.627471274465617,
          1.2568325426233935,
          2.828342658449571,
          0.9844813279328521,
          -1,
          3.138109427539584,
          2.523865278706617,
          1.6129504030684951,
          null,
          null,
          -0.9288728380450271,
          13.50627217833239,
          -0.11194229269819578,
          null,
          0.420522079677883,
          2.102252175601205,
          2.0163001782092125,
          -0.38922057911168717,
          1.4254988605546548,
          18.776917117731184,
          1.4204855847022984,
          0.669545025829487,
          4.141090203421364,
          7.21934907989316,
          1.3897357117705664,
          -0.32310276008452754,
          4.952385410540463,
          1.9042194257125744,
          -0.6533587851166507,
          null,
          null,
          0.38145466117679727,
          0.5740536695971283,
          1.842181308835992,
          0.5394654628352538,
          1.3233917058008586,
          2.1856895972640307,
          0.7572276468964161
         ],
         "z": [
          0.053617571059431546,
          0.1174987392839133,
          0.4045846978267341,
          0.34504316760940756,
          -0.008572869389813498,
          0.2939989914271306,
          0.44121447028423777,
          0.24357034795764,
          0.08186687069625098,
          0.285501637392081,
          0.35400516795865633,
          0.032450133968442985,
          -0.008572869389813498,
          0.032450133968442985,
          0.289405684754522,
          0.16020671834625322,
          0.4261667941851568,
          0.005355776587605221,
          0.3852046169989507,
          -0.03359173126614978,
          0.15759915759915755,
          -0.03359173126614978,
          0.20433996383363473,
          0.2348890589135425,
          0.18621064060803472,
          -0.13464447806354007,
          0.27708789870952033,
          0.06132665832290363,
          -0.041976778803215264,
          -0.19083060434653176,
          0.22596010717475434,
          0.17743830787309045,
          -0.29198966408268734,
          0.457755052349647,
          0.2731446059678654,
          0.03100775193798455,
          0.09560723514211888,
          0.4045846978267341,
          0.14742451154529312,
          0.27007299270072993,
          0.31283905967450276,
          0.22596010717475434,
          0.388235294117647,
          0.07637655417406752
         ]
        },
        {
         "customdata": [
          [
           "ضهرم7008",
           -380.9026420626178
          ],
          [
           "ضکرمان602",
           -17.469579642691542
          ],
          [
           "ضجار6000",
           -25.81990251679349
          ],
          [
           "ضهرم7010",
           -1713.9210589367613
          ],
          [
           "ضهرم7009",
           -520.5982825807951
          ],
          [
           "ضهرم7006",
           -360.15120563440723
          ],
          [
           "ضستا6002",
           -62.15226442995686
          ]
         ],
         "hovertemplate": "ITM=1<br>days_until_due=%{x}<br>interest_rate_last_trade=%{y}<br>in_the_money_percentage=%{z}<br>symbol_option=%{customdata[0]}<br>diff=%{customdata[1]}<extra></extra>",
         "legendgroup": "1",
         "marker": {
          "color": "#EF553B",
          "symbol": "circle"
         },
         "mode": "markers",
         "name": "1",
         "scene": "scene",
         "showlegend": true,
         "type": "scatter3d",
         "x": [
          165,
          117,
          125,
          165,
          165,
          165,
          119
         ],
         "y": [
          0.6476767567604049,
          1.3931810460256946,
          1.6026480898209705,
          0.337999084675199,
          0.36822853412538037,
          0.5028137384618399,
          0.30972582364434587
         ],
         "z": [
          0.5381882770870338,
          0.4410285075461151,
          0.4261667941851568,
          0.46714031971580816,
          0.5026642984014209,
          0.6092362344582594,
          0.5704134366925064
         ]
        }
       ],
       "layout": {
        "legend": {
         "title": {
          "text": "ITM"
         },
         "tracegroupgap": 0
        },
        "margin": {
         "t": 60
        },
        "scene": {
         "domain": {
          "x": [
           0,
           1
          ],
          "y": [
           0,
           1
          ]
         },
         "xaxis": {
          "title": {
           "text": "days_until_due"
          }
         },
         "yaxis": {
          "title": {
           "text": "interest_rate_last_trade"
          }
         },
         "zaxis": {
          "title": {
           "text": "in_the_money_percentage"
          }
         }
        },
        "template": {
         "data": {
          "bar": [
           {
            "error_x": {
             "color": "#2a3f5f"
            },
            "error_y": {
             "color": "#2a3f5f"
            },
            "marker": {
             "line": {
              "color": "#E5ECF6",
              "width": 0.5
             },
             "pattern": {
              "fillmode": "overlay",
              "size": 10,
              "solidity": 0.2
             }
            },
            "type": "bar"
           }
          ],
          "barpolar": [
           {
            "marker": {
             "line": {
              "color": "#E5ECF6",
              "width": 0.5
             },
             "pattern": {
              "fillmode": "overlay",
              "size": 10,
              "solidity": 0.2
             }
            },
            "type": "barpolar"
           }
          ],
          "carpet": [
           {
            "aaxis": {
             "endlinecolor": "#2a3f5f",
             "gridcolor": "white",
             "linecolor": "white",
             "minorgridcolor": "white",
             "startlinecolor": "#2a3f5f"
            },
            "baxis": {
             "endlinecolor": "#2a3f5f",
             "gridcolor": "white",
             "linecolor": "white",
             "minorgridcolor": "white",
             "startlinecolor": "#2a3f5f"
            },
            "type": "carpet"
           }
          ],
          "choropleth": [
           {
            "colorbar": {
             "outlinewidth": 0,
             "ticks": ""
            },
            "type": "choropleth"
           }
          ],
          "contour": [
           {
            "colorbar": {
             "outlinewidth": 0,
             "ticks": ""
            },
            "colorscale": [
             [
              0,
              "#0d0887"
             ],
             [
              0.1111111111111111,
              "#46039f"
             ],
             [
              0.2222222222222222,
              "#7201a8"
             ],
             [
              0.3333333333333333,
              "#9c179e"
             ],
             [
              0.4444444444444444,
              "#bd3786"
             ],
             [
              0.5555555555555556,
              "#d8576b"
             ],
             [
              0.6666666666666666,
              "#ed7953"
             ],
             [
              0.7777777777777778,
              "#fb9f3a"
             ],
             [
              0.8888888888888888,
              "#fdca26"
             ],
             [
              1,
              "#f0f921"
             ]
            ],
            "type": "contour"
           }
          ],
          "contourcarpet": [
           {
            "colorbar": {
             "outlinewidth": 0,
             "ticks": ""
            },
            "type": "contourcarpet"
           }
          ],
          "heatmap": [
           {
            "colorbar": {
             "outlinewidth": 0,
             "ticks": ""
            },
            "colorscale": [
             [
              0,
              "#0d0887"
             ],
             [
              0.1111111111111111,
              "#46039f"
             ],
             [
              0.2222222222222222,
              "#7201a8"
             ],
             [
              0.3333333333333333,
              "#9c179e"
             ],
             [
              0.4444444444444444,
              "#bd3786"
             ],
             [
              0.5555555555555556,
              "#d8576b"
             ],
             [
              0.6666666666666666,
              "#ed7953"
             ],
             [
              0.7777777777777778,
              "#fb9f3a"
             ],
             [
              0.8888888888888888,
              "#fdca26"
             ],
             [
              1,
              "#f0f921"
             ]
            ],
            "type": "heatmap"
           }
          ],
          "heatmapgl": [
           {
            "colorbar": {
             "outlinewidth": 0,
             "ticks": ""
            },
            "colorscale": [
             [
              0,
              "#0d0887"
             ],
             [
              0.1111111111111111,
              "#46039f"
             ],
             [
              0.2222222222222222,
              "#7201a8"
             ],
             [
              0.3333333333333333,
              "#9c179e"
             ],
             [
              0.4444444444444444,
              "#bd3786"
             ],
             [
              0.5555555555555556,
              "#d8576b"
             ],
             [
              0.6666666666666666,
              "#ed7953"
             ],
             [
              0.7777777777777778,
              "#fb9f3a"
             ],
             [
              0.8888888888888888,
              "#fdca26"
             ],
             [
              1,
              "#f0f921"
             ]
            ],
            "type": "heatmapgl"
           }
          ],
          "histogram": [
           {
            "marker": {
             "pattern": {
              "fillmode": "overlay",
              "size": 10,
              "solidity": 0.2
             }
            },
            "type": "histogram"
           }
          ],
          "histogram2d": [
           {
            "colorbar": {
             "outlinewidth": 0,
             "ticks": ""
            },
            "colorscale": [
             [
              0,
              "#0d0887"
             ],
             [
              0.1111111111111111,
              "#46039f"
             ],
             [
              0.2222222222222222,
              "#7201a8"
             ],
             [
              0.3333333333333333,
              "#9c179e"
             ],
             [
              0.4444444444444444,
              "#bd3786"
             ],
             [
              0.5555555555555556,
              "#d8576b"
             ],
             [
              0.6666666666666666,
              "#ed7953"
             ],
             [
              0.7777777777777778,
              "#fb9f3a"
             ],
             [
              0.8888888888888888,
              "#fdca26"
             ],
             [
              1,
              "#f0f921"
             ]
            ],
            "type": "histogram2d"
           }
          ],
          "histogram2dcontour": [
           {
            "colorbar": {
             "outlinewidth": 0,
             "ticks": ""
            },
            "colorscale": [
             [
              0,
              "#0d0887"
             ],
             [
              0.1111111111111111,
              "#46039f"
             ],
             [
              0.2222222222222222,
              "#7201a8"
             ],
             [
              0.3333333333333333,
              "#9c179e"
             ],
             [
              0.4444444444444444,
              "#bd3786"
             ],
             [
              0.5555555555555556,
              "#d8576b"
             ],
             [
              0.6666666666666666,
              "#ed7953"
             ],
             [
              0.7777777777777778,
              "#fb9f3a"
             ],
             [
              0.8888888888888888,
              "#fdca26"
             ],
             [
              1,
              "#f0f921"
             ]
            ],
            "type": "histogram2dcontour"
           }
          ],
          "mesh3d": [
           {
            "colorbar": {
             "outlinewidth": 0,
             "ticks": ""
            },
            "type": "mesh3d"
           }
          ],
          "parcoords": [
           {
            "line": {
             "colorbar": {
              "outlinewidth": 0,
              "ticks": ""
             }
            },
            "type": "parcoords"
           }
          ],
          "pie": [
           {
            "automargin": true,
            "type": "pie"
           }
          ],
          "scatter": [
           {
            "fillpattern": {
             "fillmode": "overlay",
             "size": 10,
             "solidity": 0.2
            },
            "type": "scatter"
           }
          ],
          "scatter3d": [
           {
            "line": {
             "colorbar": {
              "outlinewidth": 0,
              "ticks": ""
             }
            },
            "marker": {
             "colorbar": {
              "outlinewidth": 0,
              "ticks": ""
             }
            },
            "type": "scatter3d"
           }
          ],
          "scattercarpet": [
           {
            "marker": {
             "colorbar": {
              "outlinewidth": 0,
              "ticks": ""
             }
            },
            "type": "scattercarpet"
           }
          ],
          "scattergeo": [
           {
            "marker": {
             "colorbar": {
              "outlinewidth": 0,
              "ticks": ""
             }
            },
            "type": "scattergeo"
           }
          ],
          "scattergl": [
           {
            "marker": {
             "colorbar": {
              "outlinewidth": 0,
              "ticks": ""
             }
            },
            "type": "scattergl"
           }
          ],
          "scattermapbox": [
           {
            "marker": {
             "colorbar": {
              "outlinewidth": 0,
              "ticks": ""
             }
            },
            "type": "scattermapbox"
           }
          ],
          "scatterpolar": [
           {
            "marker": {
             "colorbar": {
              "outlinewidth": 0,
              "ticks": ""
             }
            },
            "type": "scatterpolar"
           }
          ],
          "scatterpolargl": [
           {
            "marker": {
             "colorbar": {
              "outlinewidth": 0,
              "ticks": ""
             }
            },
            "type": "scatterpolargl"
           }
          ],
          "scatterternary": [
           {
            "marker": {
             "colorbar": {
              "outlinewidth": 0,
              "ticks": ""
             }
            },
            "type": "scatterternary"
           }
          ],
          "surface": [
           {
            "colorbar": {
             "outlinewidth": 0,
             "ticks": ""
            },
            "colorscale": [
             [
              0,
              "#0d0887"
             ],
             [
              0.1111111111111111,
              "#46039f"
             ],
             [
              0.2222222222222222,
              "#7201a8"
             ],
             [
              0.3333333333333333,
              "#9c179e"
             ],
             [
              0.4444444444444444,
              "#bd3786"
             ],
             [
              0.5555555555555556,
              "#d8576b"
             ],
             [
              0.6666666666666666,
              "#ed7953"
             ],
             [
              0.7777777777777778,
              "#fb9f3a"
             ],
             [
              0.8888888888888888,
              "#fdca26"
             ],
             [
              1,
              "#f0f921"
             ]
            ],
            "type": "surface"
           }
          ],
          "table": [
           {
            "cells": {
             "fill": {
              "color": "#EBF0F8"
             },
             "line": {
              "color": "white"
             }
            },
            "header": {
             "fill": {
              "color": "#C8D4E3"
             },
             "line": {
              "color": "white"
             }
            },
            "type": "table"
           }
          ]
         },
         "layout": {
          "annotationdefaults": {
           "arrowcolor": "#2a3f5f",
           "arrowhead": 0,
           "arrowwidth": 1
          },
          "autotypenumbers": "strict",
          "coloraxis": {
           "colorbar": {
            "outlinewidth": 0,
            "ticks": ""
           }
          },
          "colorscale": {
           "diverging": [
            [
             0,
             "#8e0152"
            ],
            [
             0.1,
             "#c51b7d"
            ],
            [
             0.2,
             "#de77ae"
            ],
            [
             0.3,
             "#f1b6da"
            ],
            [
             0.4,
             "#fde0ef"
            ],
            [
             0.5,
             "#f7f7f7"
            ],
            [
             0.6,
             "#e6f5d0"
            ],
            [
             0.7,
             "#b8e186"
            ],
            [
             0.8,
             "#7fbc41"
            ],
            [
             0.9,
             "#4d9221"
            ],
            [
             1,
             "#276419"
            ]
           ],
           "sequential": [
            [
             0,
             "#0d0887"
            ],
            [
             0.1111111111111111,
             "#46039f"
            ],
            [
             0.2222222222222222,
             "#7201a8"
            ],
            [
             0.3333333333333333,
             "#9c179e"
            ],
            [
             0.4444444444444444,
             "#bd3786"
            ],
            [
             0.5555555555555556,
             "#d8576b"
            ],
            [
             0.6666666666666666,
             "#ed7953"
            ],
            [
             0.7777777777777778,
             "#fb9f3a"
            ],
            [
             0.8888888888888888,
             "#fdca26"
            ],
            [
             1,
             "#f0f921"
            ]
           ],
           "sequentialminus": [
            [
             0,
             "#0d0887"
            ],
            [
             0.1111111111111111,
             "#46039f"
            ],
            [
             0.2222222222222222,
             "#7201a8"
            ],
            [
             0.3333333333333333,
             "#9c179e"
            ],
            [
             0.4444444444444444,
             "#bd3786"
            ],
            [
             0.5555555555555556,
             "#d8576b"
            ],
            [
             0.6666666666666666,
             "#ed7953"
            ],
            [
             0.7777777777777778,
             "#fb9f3a"
            ],
            [
             0.8888888888888888,
             "#fdca26"
            ],
            [
             1,
             "#f0f921"
            ]
           ]
          },
          "colorway": [
           "#636efa",
           "#EF553B",
           "#00cc96",
           "#ab63fa",
           "#FFA15A",
           "#19d3f3",
           "#FF6692",
           "#B6E880",
           "#FF97FF",
           "#FECB52"
          ],
          "font": {
           "color": "#2a3f5f"
          },
          "geo": {
           "bgcolor": "white",
           "lakecolor": "white",
           "landcolor": "#E5ECF6",
           "showlakes": true,
           "showland": true,
           "subunitcolor": "white"
          },
          "hoverlabel": {
           "align": "left"
          },
          "hovermode": "closest",
          "mapbox": {
           "style": "light"
          },
          "paper_bgcolor": "white",
          "plot_bgcolor": "#E5ECF6",
          "polar": {
           "angularaxis": {
            "gridcolor": "white",
            "linecolor": "white",
            "ticks": ""
           },
           "bgcolor": "#E5ECF6",
           "radialaxis": {
            "gridcolor": "white",
            "linecolor": "white",
            "ticks": ""
           }
          },
          "scene": {
           "xaxis": {
            "backgroundcolor": "#E5ECF6",
            "gridcolor": "white",
            "gridwidth": 2,
            "linecolor": "white",
            "showbackground": true,
            "ticks": "",
            "zerolinecolor": "white"
           },
           "yaxis": {
            "backgroundcolor": "#E5ECF6",
            "gridcolor": "white",
            "gridwidth": 2,
            "linecolor": "white",
            "showbackground": true,
            "ticks": "",
            "zerolinecolor": "white"
           },
           "zaxis": {
            "backgroundcolor": "#E5ECF6",
            "gridcolor": "white",
            "gridwidth": 2,
            "linecolor": "white",
            "showbackground": true,
            "ticks": "",
            "zerolinecolor": "white"
           }
          },
          "shapedefaults": {
           "line": {
            "color": "#2a3f5f"
           }
          },
          "ternary": {
           "aaxis": {
            "gridcolor": "white",
            "linecolor": "white",
            "ticks": ""
           },
           "baxis": {
            "gridcolor": "white",
            "linecolor": "white",
            "ticks": ""
           },
           "bgcolor": "#E5ECF6",
           "caxis": {
            "gridcolor": "white",
            "linecolor": "white",
            "ticks": ""
           }
          },
          "title": {
           "x": 0.05
          },
          "xaxis": {
           "automargin": true,
           "gridcolor": "white",
           "linecolor": "white",
           "ticks": "",
           "title": {
            "standoff": 15
           },
           "zerolinecolor": "white",
           "zerolinewidth": 2
          },
          "yaxis": {
           "automargin": true,
           "gridcolor": "white",
           "linecolor": "white",
           "ticks": "",
           "title": {
            "standoff": 15
           },
           "zerolinecolor": "white",
           "zerolinewidth": 2
          }
         }
        }
       }
      }
     },
     "metadata": {},
     "output_type": "display_data"
    }
   ],
   "source": [
    "options_selected['ITM'] = options_selected['ITM'].astype(str)\n",
    "px.scatter_3d(options_selected , x='days_until_due' , y='interest_rate_last_trade',z='in_the_money_percentage',\n",
    "           hover_data=['symbol_option','diff'] ,color='ITM')"
   ]
  },
  {
   "cell_type": "code",
   "execution_count": 71,
   "metadata": {},
   "outputs": [],
   "source": [
    "options_selected['ITM'] = 1"
   ]
  },
  {
   "cell_type": "code",
   "execution_count": 72,
   "metadata": {},
   "outputs": [],
   "source": [
    "options_selected['ITM'][options_selected['due_date_price'] > options_selected['last_trade_option'] ] = 0"
   ]
  },
  {
   "cell_type": "code",
   "execution_count": 74,
   "metadata": {},
   "outputs": [
    {
     "data": {
      "text/plain": [
       "0.737467581930548"
      ]
     },
     "execution_count": 74,
     "metadata": {},
     "output_type": "execute_result"
    }
   ],
   "source": [
    "options_selected['interest_rate_last_trade'][options_selected['ITM']==1].mean()"
   ]
  },
  {
   "cell_type": "code",
   "execution_count": 81,
   "metadata": {},
   "outputs": [
    {
     "data": {
      "text/plain": [
       "2.3077022917246053"
      ]
     },
     "execution_count": 81,
     "metadata": {},
     "output_type": "execute_result"
    }
   ],
   "source": [
    "options_selected['interest_rate_last_trade'][(options_selected['ITM']==0 )& (options_selected['interest_rate_last_trade']<np.inf)].mean()"
   ]
  },
  {
   "cell_type": "code",
   "execution_count": 87,
   "metadata": {},
   "outputs": [],
   "source": [
    "class BlackScholes:\n",
    "    \"\"\" \n",
    "    Class to calculate (European) call and put option prices through the Black-Scholes formula \n",
    "    without dividends\n",
    "    \n",
    "    :param S: Price of underlying stock\n",
    "    :param K: Strike price\n",
    "    :param T: Time till expiration (in years)\n",
    "    :param r: Risk-free interest rate (0.05 indicates 5%)\n",
    "    :param sigma: Volatility (standard deviation) of stock (0.15 indicates 15%)\n",
    "    \"\"\"\n",
    "    @staticmethod\n",
    "    def _d1(S, K, T, r, sigma):\n",
    "        return (1 / (sigma * np.sqrt(T))) * (np.log(S/K) + (r + sigma**2 / 2) * T)\n",
    "    \n",
    "    def _d2(self, S, K, T, r, sigma):\n",
    "        return self._d1(S, K, T, r, sigma) - sigma * np.sqrt(T)\n",
    "    \n",
    "    def call_price(self, S, K, T, r, sigma):\n",
    "        \"\"\" Main method for calculating price of a call option \"\"\"\n",
    "        d1 = self._d1(S, K, T, r, sigma)\n",
    "        d2 = self._d2(S, K, T, r, sigma)\n",
    "        return norm.cdf(d1) * S - norm.cdf(d2) * K * np.exp(-r*T)\n",
    "    \n",
    "    def put_price(self, S, K, T, r, sigma):\n",
    "        \"\"\" Main method for calculating price of a put option \"\"\"\n",
    "        d1 = self._d1(S, K, T, r, sigma)\n",
    "        d2 = self._d2(S, K, T, r, sigma)\n",
    "        return norm.cdf(-d2) * K * np.exp(-r*T) - norm.cdf(-d1) * S\n",
    "    \n",
    "    def call_in_the_money(self, S, K, T, r, sigma):\n",
    "        \"\"\" \n",
    "        Calculate probability that call option will be in the money at\n",
    "        maturity according to Black-Scholes.\n",
    "        \"\"\"\n",
    "        d2 = self._d2(S, K, T, r, sigma)\n",
    "        return norm.cdf(d2)\n",
    "    \n",
    "    def put_in_the_money(self, S, K, T, r, sigma):\n",
    "        \"\"\" \n",
    "        Calculate probability that put option will be in the money at\n",
    "        maturity according to Black-Scholes.\n",
    "        \"\"\"\n",
    "        d2 = self._d2(S, K, T, r, sigma)\n",
    "        return 1 - norm.cdf(d2)"
   ]
  },
  {
   "cell_type": "code",
   "execution_count": 88,
   "metadata": {},
   "outputs": [],
   "source": [
    "def call_implied_volatility(price, S, K, T, r):\n",
    "    \"\"\" Calculate implied volatility of a call option up to 2 decimals of precision. \"\"\"\n",
    "    sigma = 0.0001\n",
    "    while sigma < 1:\n",
    "        d1 = BlackScholes()._d1(S, K, T, r, sigma)\n",
    "        d2 = BlackScholes()._d2(S, K, T, r, sigma)\n",
    "        price_implied = S * norm.cdf(d1) - K * np.exp(-r*T) * norm.cdf(d2)\n",
    "        if price - price_implied < 0.0001:\n",
    "            return sigma\n",
    "        sigma += 0.0001\n",
    "    return \"Not Found\"\n",
    "\n",
    "def put_implied_volatility(price, S, K, T, r):\n",
    "    \"\"\" Calculate implied volatility of a put option up to 2 decimals of precision. \"\"\"\n",
    "    sigma = 0.0001\n",
    "    while sigma < 1:\n",
    "        call = BlackScholes().call_price(S, K, T, r, sigma)\n",
    "        price_implied = K * np.exp(-r*T) - S + call\n",
    "        if price - price_implied < 0.0001:\n",
    "            return sigma\n",
    "        sigma += 0.0001\n",
    "    return \"Not Found\""
   ]
  },
  {
   "cell_type": "code",
   "execution_count": 89,
   "metadata": {},
   "outputs": [],
   "source": [
    "class OptionStrategies:\n",
    "    @staticmethod\n",
    "    def short_straddle(S, K, T, r, sigma):\n",
    "        call = BlackScholes().call_price(S, K, T, r, sigma)\n",
    "        put = BlackScholes().put_price(S, K, T, r, sigma)\n",
    "        return - put - call\n",
    "    \n",
    "    @staticmethod\n",
    "    def long_straddle(S, K, T, r, sigma):\n",
    "        call = BlackScholes().call_price(S, K, T, r, sigma)\n",
    "        put = BlackScholes().put_price(S, K, T, r, sigma)\n",
    "        return put + call\n",
    "    \n",
    "    @staticmethod\n",
    "    def short_strangle(S, K1, K2, T, r, sigma):\n",
    "        assert K1 < K2, f\"Please make sure that K1 < K2. Now K1={K1}, K2={K2}\"\n",
    "        put = BlackScholes().put_price(S, K1, T, r, sigma)\n",
    "        call = BlackScholes().call_price(S, K2, T, r, sigma)\n",
    "        return - put - call\n",
    "    \n",
    "    @staticmethod\n",
    "    def long_strangle(S, K1, K2, T, r, sigma):\n",
    "        assert K1 < K2, f\"Please make sure that K1 < K2. Now K1={K1}, K2={K2}\"\n",
    "        put = BlackScholes().put_price(S, K1, T, r, sigma)\n",
    "        call = BlackScholes().call_price(S, K2, T, r, sigma)\n",
    "        return put + call\n",
    "    \n",
    "    @staticmethod\n",
    "    def short_put_butterfly(S, K1, K2, K3, T, r, sigma):\n",
    "        assert K1 < K2 < K3, f\"Please make sure that K1 < K2 < K3. Now K1={K1}, K2={K2}, K3={K3}\"\n",
    "        put1 = BlackScholes().put_price(S, K1, T, r, sigma)\n",
    "        put2 = BlackScholes().put_price(S, K2, T, r, sigma)\n",
    "        put3 = BlackScholes().put_price(S, K3, T, r, sigma)\n",
    "        return - put1 + 2 * put2 - put3\n",
    "    \n",
    "    @staticmethod\n",
    "    def long_call_butterfly(S, K1, K2, K3, T, r, sigma):\n",
    "        assert K1 < K2 < K3, f\"Please make sure that K1 < K2 < K3. Now K1={K1}, K2={K2}, K3={K3}\"\n",
    "        call1 = BlackScholes().call_price(S, K1, T, r, sigma)\n",
    "        call2 = BlackScholes().call_price(S, K2, T, r, sigma)\n",
    "        call3 = BlackScholes().call_price(S, K3, T, r, sigma)\n",
    "        return call1 - 2 * call2 + call3\n",
    "    \n",
    "    @staticmethod\n",
    "    def short_iron_condor(S, K1, K2, K3, K4, T, r, sigma):\n",
    "        assert K1 < K2 < K3 < K4, f\"Please make sure that K1 < K2 < K3 < K4. Now K1={K1}, K2={K2}, K3={K3}, K4={K4}\"\n",
    "        put1 = BlackScholes().put_price(S, K1, T, r, sigma)\n",
    "        put2 = BlackScholes().put_price(S, K2, T, r, sigma)\n",
    "        call1 = BlackScholes().call_price(S, K3, T, r, sigma)\n",
    "        call2 = BlackScholes().call_price(S, K4, T, r, sigma)\n",
    "        return put1 - put2 - call1 + call2\n",
    "    \n",
    "    @staticmethod\n",
    "    def long_iron_condor(S, K1, K2, K3, K4, T, r, sigma):\n",
    "        assert K1 < K2 < K3 < K4, f\"Please make sure that K1 < K2 < K3 < K4. Now K1={K1}, K2={K2}, K3={K3}, K4={K4}\"\n",
    "        put1 = BlackScholes().put_price(S, K1, T, r, sigma)\n",
    "        put2 = BlackScholes().put_price(S, K2, T, r, sigma)\n",
    "        call1 = BlackScholes().call_price(S, K3, T, r, sigma)\n",
    "        call2 = BlackScholes().call_price(S, K4, T, r, sigma)\n",
    "        return - put1 + put2 + call1 - call2"
   ]
  },
  {
   "cell_type": "code",
   "execution_count": 90,
   "metadata": {},
   "outputs": [
    {
     "name": "stdout",
     "output_type": "stream",
     "text": [
      "Collecting blackscholes\n",
      "  Downloading blackscholes-0.1.2-py3-none-any.whl (24 kB)\n",
      "Installing collected packages: blackscholes\n",
      "Successfully installed blackscholes-0.1.2\n",
      "Note: you may need to restart the kernel to use updated packages.\n"
     ]
    }
   ],
   "source": [
    "pip install blackscholes"
   ]
  },
  {
   "cell_type": "code",
   "execution_count": null,
   "metadata": {},
   "outputs": [],
   "source": []
  }
 ],
 "metadata": {
  "kernelspec": {
   "display_name": "mynewEnv",
   "language": "python",
   "name": "python3"
  },
  "language_info": {
   "codemirror_mode": {
    "name": "ipython",
    "version": 3
   },
   "file_extension": ".py",
   "mimetype": "text/x-python",
   "name": "python",
   "nbconvert_exporter": "python",
   "pygments_lexer": "ipython3",
   "version": "3.8.16"
  },
  "orig_nbformat": 4
 },
 "nbformat": 4,
 "nbformat_minor": 2
}
