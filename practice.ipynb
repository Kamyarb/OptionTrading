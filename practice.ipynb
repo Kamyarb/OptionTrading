{
 "cells": [
  {
   "cell_type": "code",
   "execution_count": 1,
   "metadata": {},
   "outputs": [],
   "source": [
    "#%%\n",
    "import datetime\n",
    "import pandas as pd\n",
    "import numpy as np\n",
    "import psycopg2\n",
    "from utils.portfolio import *\n",
    "from utils.base import *\n",
    "from utils.report import *\n",
    "from utils.config import *\n",
    "from utils.instance import *\n",
    "import os\n",
    "import warnings\n",
    "warnings.filterwarnings('ignore')\n",
    "\n"
   ]
  },
  {
   "cell_type": "code",
   "execution_count": 2,
   "metadata": {},
   "outputs": [],
   "source": [
    "options, market = fetch_real_time_last_snapshot()\n",
    "options = extract_call_options_features(options)\n",
    "for i in range(len(options)):\n",
    "    try:\n",
    "      options['interest_rate_ask_price_1'][i]>1\n",
    "    except:\n",
    "        options['interest_rate_ask_price_1'][i] = np.nan"
   ]
  },
  {
   "cell_type": "code",
   "execution_count": 3,
   "metadata": {},
   "outputs": [
    {
     "data": {
      "text/html": [
       "<div>\n",
       "<style scoped>\n",
       "    .dataframe tbody tr th:only-of-type {\n",
       "        vertical-align: middle;\n",
       "    }\n",
       "\n",
       "    .dataframe tbody tr th {\n",
       "        vertical-align: top;\n",
       "    }\n",
       "\n",
       "    .dataframe thead th {\n",
       "        text-align: right;\n",
       "    }\n",
       "</style>\n",
       "<table border=\"1\" class=\"dataframe\">\n",
       "  <thead>\n",
       "    <tr style=\"text-align: right;\">\n",
       "      <th></th>\n",
       "      <th>id_option</th>\n",
       "      <th>isin_option</th>\n",
       "      <th>symbol_option</th>\n",
       "      <th>name</th>\n",
       "      <th>open_price</th>\n",
       "      <th>close_price</th>\n",
       "      <th>last_trade_option</th>\n",
       "      <th>count</th>\n",
       "      <th>volume</th>\n",
       "      <th>value</th>\n",
       "      <th>...</th>\n",
       "      <th>min_allowed_price_base</th>\n",
       "      <th>in_the_money_percentage</th>\n",
       "      <th>ask_price_1_w_o_c</th>\n",
       "      <th>bid_price_1_w_o_c</th>\n",
       "      <th>leverage_ask_price_1</th>\n",
       "      <th>leverage_bid_price_1</th>\n",
       "      <th>leverage_last_trade</th>\n",
       "      <th>interest_rate_last_trade</th>\n",
       "      <th>interest_rate_ask_price_1</th>\n",
       "      <th>interest_rate_bid_price_1</th>\n",
       "    </tr>\n",
       "  </thead>\n",
       "  <tbody>\n",
       "    <tr>\n",
       "      <th>0</th>\n",
       "      <td>20037653197111739</td>\n",
       "      <td>IRO9AGAH0121</td>\n",
       "      <td>ضترو4000</td>\n",
       "      <td>اختيارخ ص آگاه-7000-02/04/14</td>\n",
       "      <td>0.0</td>\n",
       "      <td>7200.0</td>\n",
       "      <td>7200.0</td>\n",
       "      <td>0</td>\n",
       "      <td>0.0</td>\n",
       "      <td>0.0</td>\n",
       "      <td>...</td>\n",
       "      <td>NaN</td>\n",
       "      <td>NaN</td>\n",
       "      <td>7000.0</td>\n",
       "      <td>3009.0</td>\n",
       "      <td>NaN</td>\n",
       "      <td>NaN</td>\n",
       "      <td>NaN</td>\n",
       "      <td>NaN</td>\n",
       "      <td>NaN</td>\n",
       "      <td>NaN</td>\n",
       "    </tr>\n",
       "    <tr>\n",
       "      <th>1</th>\n",
       "      <td>8116142932215303</td>\n",
       "      <td>IRO9AGAH0141</td>\n",
       "      <td>ضترو4002</td>\n",
       "      <td>اختيارخ ص آگاه-8000-02/04/14</td>\n",
       "      <td>0.0</td>\n",
       "      <td>6108.0</td>\n",
       "      <td>6050.0</td>\n",
       "      <td>0</td>\n",
       "      <td>0.0</td>\n",
       "      <td>0.0</td>\n",
       "      <td>...</td>\n",
       "      <td>NaN</td>\n",
       "      <td>NaN</td>\n",
       "      <td>6800.0</td>\n",
       "      <td>5501.0</td>\n",
       "      <td>NaN</td>\n",
       "      <td>NaN</td>\n",
       "      <td>NaN</td>\n",
       "      <td>NaN</td>\n",
       "      <td>NaN</td>\n",
       "      <td>NaN</td>\n",
       "    </tr>\n",
       "    <tr>\n",
       "      <th>2</th>\n",
       "      <td>12833810923774304</td>\n",
       "      <td>IRO9AGAH0161</td>\n",
       "      <td>ضترو4004</td>\n",
       "      <td>اختيارخ ص آگاه-10000-02/04/14</td>\n",
       "      <td>4750.0</td>\n",
       "      <td>4599.0</td>\n",
       "      <td>4680.0</td>\n",
       "      <td>9</td>\n",
       "      <td>120.0</td>\n",
       "      <td>551824000.0</td>\n",
       "      <td>...</td>\n",
       "      <td>NaN</td>\n",
       "      <td>NaN</td>\n",
       "      <td>4687.0</td>\n",
       "      <td>4402.0</td>\n",
       "      <td>NaN</td>\n",
       "      <td>NaN</td>\n",
       "      <td>NaN</td>\n",
       "      <td>NaN</td>\n",
       "      <td>NaN</td>\n",
       "      <td>NaN</td>\n",
       "    </tr>\n",
       "    <tr>\n",
       "      <th>3</th>\n",
       "      <td>54179059222245165</td>\n",
       "      <td>IRO9AGAH0181</td>\n",
       "      <td>ضترو4006</td>\n",
       "      <td>اختيارخ ص آگاه-12000-02/04/14</td>\n",
       "      <td>3100.0</td>\n",
       "      <td>2899.0</td>\n",
       "      <td>3098.0</td>\n",
       "      <td>5</td>\n",
       "      <td>33.0</td>\n",
       "      <td>95668000.0</td>\n",
       "      <td>...</td>\n",
       "      <td>NaN</td>\n",
       "      <td>NaN</td>\n",
       "      <td>3099.0</td>\n",
       "      <td>1701.0</td>\n",
       "      <td>NaN</td>\n",
       "      <td>NaN</td>\n",
       "      <td>NaN</td>\n",
       "      <td>NaN</td>\n",
       "      <td>NaN</td>\n",
       "      <td>NaN</td>\n",
       "    </tr>\n",
       "    <tr>\n",
       "      <th>4</th>\n",
       "      <td>9181823518983931</td>\n",
       "      <td>IRO9AGAH0191</td>\n",
       "      <td>ضترو4007</td>\n",
       "      <td>اختيارخ ص آگاه-13000-02/04/14</td>\n",
       "      <td>2300.0</td>\n",
       "      <td>2566.0</td>\n",
       "      <td>2719.0</td>\n",
       "      <td>25</td>\n",
       "      <td>250.0</td>\n",
       "      <td>641463000.0</td>\n",
       "      <td>...</td>\n",
       "      <td>NaN</td>\n",
       "      <td>NaN</td>\n",
       "      <td>2719.0</td>\n",
       "      <td>2301.0</td>\n",
       "      <td>NaN</td>\n",
       "      <td>NaN</td>\n",
       "      <td>NaN</td>\n",
       "      <td>NaN</td>\n",
       "      <td>NaN</td>\n",
       "      <td>NaN</td>\n",
       "    </tr>\n",
       "    <tr>\n",
       "      <th>5</th>\n",
       "      <td>54936847147016069</td>\n",
       "      <td>IRO9AGAH0211</td>\n",
       "      <td>ضترو4009</td>\n",
       "      <td>اختيارخ ص آگاه-15000-02/04/14</td>\n",
       "      <td>900.0</td>\n",
       "      <td>929.0</td>\n",
       "      <td>950.0</td>\n",
       "      <td>4</td>\n",
       "      <td>350.0</td>\n",
       "      <td>325000000.0</td>\n",
       "      <td>...</td>\n",
       "      <td>NaN</td>\n",
       "      <td>NaN</td>\n",
       "      <td>1300.0</td>\n",
       "      <td>952.0</td>\n",
       "      <td>NaN</td>\n",
       "      <td>NaN</td>\n",
       "      <td>NaN</td>\n",
       "      <td>NaN</td>\n",
       "      <td>NaN</td>\n",
       "      <td>NaN</td>\n",
       "    </tr>\n",
       "    <tr>\n",
       "      <th>6</th>\n",
       "      <td>6656725773350069</td>\n",
       "      <td>IRO9AGAH0221</td>\n",
       "      <td>ضترو4010</td>\n",
       "      <td>اختيارخ ص آگاه-16000-02/04/14</td>\n",
       "      <td>610.0</td>\n",
       "      <td>610.0</td>\n",
       "      <td>610.0</td>\n",
       "      <td>3</td>\n",
       "      <td>40.0</td>\n",
       "      <td>24400000.0</td>\n",
       "      <td>...</td>\n",
       "      <td>NaN</td>\n",
       "      <td>NaN</td>\n",
       "      <td>890.0</td>\n",
       "      <td>530.0</td>\n",
       "      <td>NaN</td>\n",
       "      <td>NaN</td>\n",
       "      <td>NaN</td>\n",
       "      <td>NaN</td>\n",
       "      <td>NaN</td>\n",
       "      <td>NaN</td>\n",
       "    </tr>\n",
       "    <tr>\n",
       "      <th>7</th>\n",
       "      <td>816070469779688</td>\n",
       "      <td>IRO9AHRM6261</td>\n",
       "      <td>ضهرم7000</td>\n",
       "      <td>اختيارخ اهرم-6500-1402/07/23</td>\n",
       "      <td>24200.0</td>\n",
       "      <td>24292.0</td>\n",
       "      <td>24600.0</td>\n",
       "      <td>5</td>\n",
       "      <td>707.0</td>\n",
       "      <td>17174710000.0</td>\n",
       "      <td>...</td>\n",
       "      <td>25440.0</td>\n",
       "      <td>0.779586</td>\n",
       "      <td>25390.0</td>\n",
       "      <td>23101.0</td>\n",
       "      <td>1.162678</td>\n",
       "      <td>1.275255</td>\n",
       "      <td>1.198780</td>\n",
       "      <td>0.876832</td>\n",
       "      <td>1.732739</td>\n",
       "      <td>0.047447</td>\n",
       "    </tr>\n",
       "    <tr>\n",
       "      <th>8</th>\n",
       "      <td>29567585335146943</td>\n",
       "      <td>IRO9AHRM6291</td>\n",
       "      <td>ضهرم7003</td>\n",
       "      <td>اختيارخ اهرم-8000-1402/07/23</td>\n",
       "      <td>0.0</td>\n",
       "      <td>21076.0</td>\n",
       "      <td>21500.0</td>\n",
       "      <td>0</td>\n",
       "      <td>0.0</td>\n",
       "      <td>0.0</td>\n",
       "      <td>...</td>\n",
       "      <td>25440.0</td>\n",
       "      <td>0.728722</td>\n",
       "      <td>22890.0</td>\n",
       "      <td>13002.0</td>\n",
       "      <td>1.289664</td>\n",
       "      <td>2.265779</td>\n",
       "      <td>1.371628</td>\n",
       "      <td>0.002771</td>\n",
       "      <td>0.518401</td>\n",
       "      <td>-0.797694</td>\n",
       "    </tr>\n",
       "    <tr>\n",
       "      <th>9</th>\n",
       "      <td>51752770340789810</td>\n",
       "      <td>IRO9AHRM6301</td>\n",
       "      <td>ضهرم7004</td>\n",
       "      <td>اختيارخ اهرم-9000-1402/07/23</td>\n",
       "      <td>0.0</td>\n",
       "      <td>20650.0</td>\n",
       "      <td>20800.0</td>\n",
       "      <td>0</td>\n",
       "      <td>0.0</td>\n",
       "      <td>0.0</td>\n",
       "      <td>...</td>\n",
       "      <td>25440.0</td>\n",
       "      <td>0.694812</td>\n",
       "      <td>22099.0</td>\n",
       "      <td>18983.0</td>\n",
       "      <td>1.335825</td>\n",
       "      <td>1.551897</td>\n",
       "      <td>1.417788</td>\n",
       "      <td>0.080623</td>\n",
       "      <td>0.535562</td>\n",
       "      <td>-0.287055</td>\n",
       "    </tr>\n",
       "  </tbody>\n",
       "</table>\n",
       "<p>10 rows × 73 columns</p>\n",
       "</div>"
      ],
      "text/plain": [
       "           id_option   isin_option symbol_option  \\\n",
       "0  20037653197111739  IRO9AGAH0121      ضترو4000   \n",
       "1   8116142932215303  IRO9AGAH0141      ضترو4002   \n",
       "2  12833810923774304  IRO9AGAH0161      ضترو4004   \n",
       "3  54179059222245165  IRO9AGAH0181      ضترو4006   \n",
       "4   9181823518983931  IRO9AGAH0191      ضترو4007   \n",
       "5  54936847147016069  IRO9AGAH0211      ضترو4009   \n",
       "6   6656725773350069  IRO9AGAH0221      ضترو4010   \n",
       "7    816070469779688  IRO9AHRM6261      ضهرم7000   \n",
       "8  29567585335146943  IRO9AHRM6291      ضهرم7003   \n",
       "9  51752770340789810  IRO9AHRM6301      ضهرم7004   \n",
       "\n",
       "                            name open_price close_price last_trade_option  \\\n",
       "0   اختيارخ ص آگاه-7000-02/04/14        0.0      7200.0            7200.0   \n",
       "1   اختيارخ ص آگاه-8000-02/04/14        0.0      6108.0            6050.0   \n",
       "2  اختيارخ ص آگاه-10000-02/04/14     4750.0      4599.0            4680.0   \n",
       "3  اختيارخ ص آگاه-12000-02/04/14     3100.0      2899.0            3098.0   \n",
       "4  اختيارخ ص آگاه-13000-02/04/14     2300.0      2566.0            2719.0   \n",
       "5  اختيارخ ص آگاه-15000-02/04/14      900.0       929.0             950.0   \n",
       "6  اختيارخ ص آگاه-16000-02/04/14      610.0       610.0             610.0   \n",
       "7   اختيارخ اهرم-6500-1402/07/23    24200.0     24292.0           24600.0   \n",
       "8   اختيارخ اهرم-8000-1402/07/23        0.0     21076.0           21500.0   \n",
       "9   اختيارخ اهرم-9000-1402/07/23        0.0     20650.0           20800.0   \n",
       "\n",
       "  count volume          value  ... min_allowed_price_base  \\\n",
       "0     0    0.0            0.0  ...                    NaN   \n",
       "1     0    0.0            0.0  ...                    NaN   \n",
       "2     9  120.0    551824000.0  ...                    NaN   \n",
       "3     5   33.0     95668000.0  ...                    NaN   \n",
       "4    25  250.0    641463000.0  ...                    NaN   \n",
       "5     4  350.0    325000000.0  ...                    NaN   \n",
       "6     3   40.0     24400000.0  ...                    NaN   \n",
       "7     5  707.0  17174710000.0  ...                25440.0   \n",
       "8     0    0.0            0.0  ...                25440.0   \n",
       "9     0    0.0            0.0  ...                25440.0   \n",
       "\n",
       "  in_the_money_percentage ask_price_1_w_o_c bid_price_1_w_o_c  \\\n",
       "0                     NaN            7000.0            3009.0   \n",
       "1                     NaN            6800.0            5501.0   \n",
       "2                     NaN            4687.0            4402.0   \n",
       "3                     NaN            3099.0            1701.0   \n",
       "4                     NaN            2719.0            2301.0   \n",
       "5                     NaN            1300.0             952.0   \n",
       "6                     NaN             890.0             530.0   \n",
       "7                0.779586           25390.0           23101.0   \n",
       "8                0.728722           22890.0           13002.0   \n",
       "9                0.694812           22099.0           18983.0   \n",
       "\n",
       "  leverage_ask_price_1 leverage_bid_price_1 leverage_last_trade  \\\n",
       "0                  NaN                  NaN                 NaN   \n",
       "1                  NaN                  NaN                 NaN   \n",
       "2                  NaN                  NaN                 NaN   \n",
       "3                  NaN                  NaN                 NaN   \n",
       "4                  NaN                  NaN                 NaN   \n",
       "5                  NaN                  NaN                 NaN   \n",
       "6                  NaN                  NaN                 NaN   \n",
       "7             1.162678             1.275255            1.198780   \n",
       "8             1.289664             2.265779            1.371628   \n",
       "9             1.335825             1.551897            1.417788   \n",
       "\n",
       "  interest_rate_last_trade interest_rate_ask_price_1 interest_rate_bid_price_1  \n",
       "0                      NaN                       NaN                       NaN  \n",
       "1                      NaN                       NaN                       NaN  \n",
       "2                      NaN                       NaN                       NaN  \n",
       "3                      NaN                       NaN                       NaN  \n",
       "4                      NaN                       NaN                       NaN  \n",
       "5                      NaN                       NaN                       NaN  \n",
       "6                      NaN                       NaN                       NaN  \n",
       "7                 0.876832                  1.732739                  0.047447  \n",
       "8                 0.002771                  0.518401                 -0.797694  \n",
       "9                 0.080623                  0.535562                 -0.287055  \n",
       "\n",
       "[10 rows x 73 columns]"
      ]
     },
     "execution_count": 3,
     "metadata": {},
     "output_type": "execute_result"
    }
   ],
   "source": [
    "options.head(10)"
   ]
  },
  {
   "cell_type": "code",
   "execution_count": 4,
   "metadata": {},
   "outputs": [
    {
     "data": {
      "text/plain": [
       "Index(['id_option', 'isin_option', 'symbol_option', 'name', 'open_price',\n",
       "       'close_price', 'last_trade_option', 'count', 'volume', 'value',\n",
       "       'low_price', 'high_price', 'yesterday_price', 'table_id', 'group_id',\n",
       "       'max_allowed_price', 'min_allowed_price_option', 'last_ret',\n",
       "       'close_ret', 'number_of_shares', 'market_cap', 'bid_price_4',\n",
       "       'bid_vol_4', 'ask_price_4', 'ask_vol_4', 'bid_price_3', 'bid_vol_3',\n",
       "       'ask_price_3', 'ask_vol_3', 'bid_price_5', 'bid_vol_5', 'ask_price_5',\n",
       "       'ask_vol_5', 'bid_price_1', 'bid_vol_1', 'ask_price_1', 'ask_vol_1',\n",
       "       'bid_price_2', 'bid_vol_2', 'ask_price_2', 'ask_vol_2', 'ask_value_1',\n",
       "       'ask_value_2', 'ask_value_3', 'ask_value_4', 'ask_value_5',\n",
       "       'bid_value_1', 'bid_value_2', 'bid_value_3', 'bid_value_4',\n",
       "       'bid_value_5', 'time', 'date', 'jalali_date', 'base_symbol',\n",
       "       'jalali_due_date', 'days_until_due', 'miladi_due_date',\n",
       "       'due_date_price', 'last_trade_base', 'symbol_base', 'id_base',\n",
       "       'isin_base', 'min_allowed_price_base', 'in_the_money_percentage',\n",
       "       'ask_price_1_w_o_c', 'bid_price_1_w_o_c', 'leverage_ask_price_1',\n",
       "       'leverage_bid_price_1', 'leverage_last_trade',\n",
       "       'interest_rate_last_trade', 'interest_rate_ask_price_1',\n",
       "       'interest_rate_bid_price_1'],\n",
       "      dtype='object')"
      ]
     },
     "execution_count": 4,
     "metadata": {},
     "output_type": "execute_result"
    }
   ],
   "source": [
    "options.columns\n"
   ]
  },
  {
   "cell_type": "code",
   "execution_count": 5,
   "metadata": {},
   "outputs": [],
   "source": [
    "options['spread_pct'] = 100* (options['ask_price_1'] / options['bid_price_1']  - 1)"
   ]
  },
  {
   "cell_type": "code",
   "execution_count": 6,
   "metadata": {},
   "outputs": [
    {
     "data": {
      "text/html": [
       "<div>\n",
       "<style scoped>\n",
       "    .dataframe tbody tr th:only-of-type {\n",
       "        vertical-align: middle;\n",
       "    }\n",
       "\n",
       "    .dataframe tbody tr th {\n",
       "        vertical-align: top;\n",
       "    }\n",
       "\n",
       "    .dataframe thead th {\n",
       "        text-align: right;\n",
       "    }\n",
       "</style>\n",
       "<table border=\"1\" class=\"dataframe\">\n",
       "  <thead>\n",
       "    <tr style=\"text-align: right;\">\n",
       "      <th></th>\n",
       "      <th>id_option</th>\n",
       "      <th>isin_option</th>\n",
       "      <th>symbol_option</th>\n",
       "      <th>name</th>\n",
       "      <th>open_price</th>\n",
       "      <th>close_price</th>\n",
       "      <th>last_trade_option</th>\n",
       "      <th>count</th>\n",
       "      <th>volume</th>\n",
       "      <th>value</th>\n",
       "      <th>...</th>\n",
       "      <th>in_the_money_percentage</th>\n",
       "      <th>ask_price_1_w_o_c</th>\n",
       "      <th>bid_price_1_w_o_c</th>\n",
       "      <th>leverage_ask_price_1</th>\n",
       "      <th>leverage_bid_price_1</th>\n",
       "      <th>leverage_last_trade</th>\n",
       "      <th>interest_rate_last_trade</th>\n",
       "      <th>interest_rate_ask_price_1</th>\n",
       "      <th>interest_rate_bid_price_1</th>\n",
       "      <th>spread_pct</th>\n",
       "    </tr>\n",
       "  </thead>\n",
       "  <tbody>\n",
       "    <tr>\n",
       "      <th>326</th>\n",
       "      <td>52625011044902880</td>\n",
       "      <td>IROABDYZ2031</td>\n",
       "      <td>ضدی203</td>\n",
       "      <td>اختيارخ دي-600-14020217</td>\n",
       "      <td>1115.0</td>\n",
       "      <td>1226.0</td>\n",
       "      <td>1250.0</td>\n",
       "      <td>43</td>\n",
       "      <td>4138.0</td>\n",
       "      <td>5072446000.0</td>\n",
       "      <td>...</td>\n",
       "      <td>0.664242</td>\n",
       "      <td>1252.0</td>\n",
       "      <td>1110.0</td>\n",
       "      <td>1.428788</td>\n",
       "      <td>1.608253</td>\n",
       "      <td>1.429600</td>\n",
       "      <td>24896.057793</td>\n",
       "      <td>28092.871126</td>\n",
       "      <td>-0.999981</td>\n",
       "      <td>12.560679</td>\n",
       "    </tr>\n",
       "    <tr>\n",
       "      <th>353</th>\n",
       "      <td>50226428962234019</td>\n",
       "      <td>IROAPKOD2091</td>\n",
       "      <td>ضخپارس300</td>\n",
       "      <td>اختيارخ خپارس-1200-14020321</td>\n",
       "      <td>1290.0</td>\n",
       "      <td>1284.0</td>\n",
       "      <td>1391.0</td>\n",
       "      <td>35</td>\n",
       "      <td>1893.0</td>\n",
       "      <td>2431114000.0</td>\n",
       "      <td>...</td>\n",
       "      <td>0.451052</td>\n",
       "      <td>1400.0</td>\n",
       "      <td>1262.0</td>\n",
       "      <td>1.563039</td>\n",
       "      <td>1.730389</td>\n",
       "      <td>1.571531</td>\n",
       "      <td>46.154302</td>\n",
       "      <td>50.564123</td>\n",
       "      <td>10.696482</td>\n",
       "      <td>10.706733</td>\n",
       "    </tr>\n",
       "    <tr>\n",
       "      <th>357</th>\n",
       "      <td>55508390569984906</td>\n",
       "      <td>IROAPKOD2181</td>\n",
       "      <td>ضخپارس600</td>\n",
       "      <td>اختيارخ خپارس-1200-14020621</td>\n",
       "      <td>1314.0</td>\n",
       "      <td>1337.0</td>\n",
       "      <td>1600.0</td>\n",
       "      <td>40</td>\n",
       "      <td>2509.0</td>\n",
       "      <td>3355704000.0</td>\n",
       "      <td>...</td>\n",
       "      <td>0.451052</td>\n",
       "      <td>1600.0</td>\n",
       "      <td>1360.0</td>\n",
       "      <td>1.367659</td>\n",
       "      <td>1.605699</td>\n",
       "      <td>1.366250</td>\n",
       "      <td>6.257073</td>\n",
       "      <td>6.200936</td>\n",
       "      <td>1.822001</td>\n",
       "      <td>17.404955</td>\n",
       "    </tr>\n",
       "  </tbody>\n",
       "</table>\n",
       "<p>3 rows × 74 columns</p>\n",
       "</div>"
      ],
      "text/plain": [
       "             id_option   isin_option symbol_option  \\\n",
       "326  52625011044902880  IROABDYZ2031        ضدی203   \n",
       "353  50226428962234019  IROAPKOD2091     ضخپارس300   \n",
       "357  55508390569984906  IROAPKOD2181     ضخپارس600   \n",
       "\n",
       "                            name open_price close_price last_trade_option  \\\n",
       "326      اختيارخ دي-600-14020217     1115.0      1226.0            1250.0   \n",
       "353  اختيارخ خپارس-1200-14020321     1290.0      1284.0            1391.0   \n",
       "357  اختيارخ خپارس-1200-14020621     1314.0      1337.0            1600.0   \n",
       "\n",
       "    count  volume         value  ... in_the_money_percentage  \\\n",
       "326    43  4138.0  5072446000.0  ...                0.664242   \n",
       "353    35  1893.0  2431114000.0  ...                0.451052   \n",
       "357    40  2509.0  3355704000.0  ...                0.451052   \n",
       "\n",
       "    ask_price_1_w_o_c bid_price_1_w_o_c leverage_ask_price_1  \\\n",
       "326            1252.0            1110.0             1.428788   \n",
       "353            1400.0            1262.0             1.563039   \n",
       "357            1600.0            1360.0             1.367659   \n",
       "\n",
       "    leverage_bid_price_1 leverage_last_trade interest_rate_last_trade  \\\n",
       "326             1.608253            1.429600             24896.057793   \n",
       "353             1.730389            1.571531                46.154302   \n",
       "357             1.605699            1.366250                 6.257073   \n",
       "\n",
       "    interest_rate_ask_price_1 interest_rate_bid_price_1 spread_pct  \n",
       "326              28092.871126                 -0.999981  12.560679  \n",
       "353                 50.564123                 10.696482  10.706733  \n",
       "357                  6.200936                  1.822001  17.404955  \n",
       "\n",
       "[3 rows x 74 columns]"
      ]
     },
     "execution_count": 6,
     "metadata": {},
     "output_type": "execute_result"
    }
   ],
   "source": [
    "options[(options['value']>200e7 )& (options['spread_pct'] > 10) & \\\n",
    "        (options['last_trade_option'] /options['ask_price_1'] > 0.95 )&\\\n",
    "        (options['interest_rate_ask_price_1'] > 0.7)& (options['in_the_money_percentage'] > 0.2)]"
   ]
  },
  {
   "cell_type": "code",
   "execution_count": 7,
   "metadata": {},
   "outputs": [],
   "source": [
    "pd.options.display.max_rows = 10\n",
    "options_selected = options[options['value']>500e7].sort_values('value', ascending=False)"
   ]
  },
  {
   "cell_type": "code",
   "execution_count": 8,
   "metadata": {},
   "outputs": [],
   "source": [
    "options_selected['IV'] = 0\n",
    "options_selected['call_bs'] = 0"
   ]
  },
  {
   "cell_type": "code",
   "execution_count": 9,
   "metadata": {},
   "outputs": [
    {
     "name": "stdout",
     "output_type": "stream",
     "text": [
      "found on 21th iteration\n",
      "difference is equal to -9.222386302099039e-05\n",
      "done!\n",
      "found on 12th iteration\n",
      "difference is equal to -2.827608886946109e-05\n",
      "done!\n",
      "found on 8th iteration\n",
      "difference is equal to -1.4379461163116503e-05\n",
      "done!\n",
      "found on 15th iteration\n",
      "difference is equal to -3.6137372717348626e-05\n",
      "done!\n",
      "found on 5th iteration\n",
      "difference is equal to -3.052876263609505e-05\n",
      "done!\n",
      "found on 29th iteration\n",
      "difference is equal to -9.848214585872483e-05\n",
      "done!\n",
      "found on 27th iteration\n",
      "difference is equal to -9.707667982183921e-05\n",
      "done!\n",
      "found on 7th iteration\n",
      "difference is equal to -5.8248141840522294e-05\n",
      "done!\n",
      "done!\n",
      "found on 15th iteration\n",
      "difference is equal to -8.979166341305245e-05\n",
      "done!\n",
      "done!\n",
      "found on 7th iteration\n",
      "difference is equal to -3.1687436376159894e-05\n",
      "done!\n",
      "found on 33th iteration\n",
      "difference is equal to -7.94166671767016e-05\n",
      "done!\n",
      "found on 16th iteration\n",
      "difference is equal to -5.261966725811362e-05\n",
      "done!\n",
      "found on 25th iteration\n",
      "difference is equal to -5.600852739462425e-05\n",
      "done!\n",
      "done!\n",
      "found on 8th iteration\n",
      "difference is equal to -2.1130988329787215e-05\n",
      "done!\n",
      "found on 16th iteration\n",
      "difference is equal to -4.86443423142191e-05\n",
      "done!\n",
      "found on 20th iteration\n",
      "difference is equal to -4.977206845069304e-05\n",
      "done!\n",
      "found on 23th iteration\n",
      "difference is equal to 9.931532554219302e-05\n",
      "done!\n",
      "found on 8th iteration\n",
      "difference is equal to -3.961759830417577e-05\n",
      "done!\n",
      "found on 9th iteration\n",
      "difference is equal to -1.6257788502116455e-05\n",
      "done!\n",
      "found on 6th iteration\n",
      "difference is equal to -3.688107540256169e-05\n",
      "done!\n",
      "done!\n",
      "found on 4th iteration\n",
      "difference is equal to -2.4351109459530562e-05\n",
      "done!\n",
      "found on 21th iteration\n",
      "difference is equal to -6.815549113525776e-05\n",
      "done!\n",
      "done!\n",
      "found on 35th iteration\n",
      "difference is equal to 6.668929927400313e-05\n",
      "done!\n",
      "done!\n",
      "found on 16th iteration\n",
      "difference is equal to -4.267442659511289e-05\n",
      "done!\n",
      "found on 15th iteration\n",
      "difference is equal to -5.022821608235972e-05\n",
      "done!\n",
      "done!\n",
      "found on 5th iteration\n",
      "difference is equal to -5.1720735427807085e-06\n",
      "done!\n",
      "found on 20th iteration\n",
      "difference is equal to -5.9364467233535834e-05\n",
      "done!\n",
      "found on 13th iteration\n",
      "difference is equal to -9.184558803099208e-05\n",
      "done!\n",
      "found on 32th iteration\n",
      "difference is equal to -6.390157886926318e-05\n",
      "done!\n",
      "found on 6th iteration\n",
      "difference is equal to -6.171195309434552e-06\n",
      "done!\n",
      "done!\n",
      "found on 17th iteration\n",
      "difference is equal to -7.733751999694505e-05\n",
      "done!\n",
      "found on 10th iteration\n",
      "difference is equal to -5.263312777969986e-05\n",
      "done!\n",
      "done!\n",
      "found on 21th iteration\n",
      "difference is equal to -7.950787357913214e-05\n",
      "done!\n",
      "found on 18th iteration\n",
      "difference is equal to -7.459806738552288e-05\n",
      "done!\n",
      "done!\n",
      "done!\n",
      "found on 57th iteration\n",
      "difference is equal to -9.042221790878102e-05\n",
      "done!\n",
      "found on 12th iteration\n",
      "difference is equal to -2.6339188025303883e-05\n",
      "done!\n",
      "done!\n",
      "done!\n",
      "done!\n",
      "found on 21th iteration\n",
      "difference is equal to -8.245383401117579e-05\n",
      "done!\n",
      "found on 22th iteration\n",
      "difference is equal to -6.16871443526179e-05\n",
      "done!\n",
      "done!\n",
      "found on 9th iteration\n",
      "difference is equal to -5.6852185366551566e-05\n",
      "done!\n",
      "found on 0th iteration\n",
      "difference is equal to 0.0\n",
      "done!\n",
      "done!\n",
      "done!\n",
      "found on 51th iteration\n",
      "difference is equal to -7.497070964745944e-05\n",
      "done!\n"
     ]
    }
   ],
   "source": [
    "for i in range(options_selected.shape[0]):\n",
    "    options_selected['IV'].iloc[i] = implied_volatility_call(options_selected['last_trade_option'].iloc[i],\n",
    "                   options_selected['last_trade_base'].iloc[i],\n",
    "                   options_selected['due_date_price'].iloc[i],\n",
    "                   options_selected['days_until_due'].iloc[i]/365,\n",
    "                   0.3,)\n",
    "    if options_selected['IV'].iloc[i] > 0 :\n",
    "        options_selected['call_bs'].iloc[i] = black_scholes_call(options_selected['last_trade_base'].iloc[i],\n",
    "                                                            options_selected['due_date_price'].iloc[i],\n",
    "                                                            options_selected['days_until_due'].iloc[i]/365,\n",
    "                                                            0.4, options_selected['IV'].iloc[i])\n",
    "    else:\n",
    "                options_selected['call_bs'].iloc[i] = black_scholes_call(options_selected['last_trade_base'].iloc[i],\n",
    "                                                            options_selected['due_date_price'].iloc[i],\n",
    "                                                            options_selected['days_until_due'].iloc[i]/365,\n",
    "                                                            0.6, 0.4)\n",
    "\n",
    "\n",
    "    print('done!')"
   ]
  },
  {
   "cell_type": "code",
   "execution_count": 10,
   "metadata": {},
   "outputs": [
    {
     "data": {
      "application/vnd.plotly.v1+json": {
       "config": {
        "plotlyServerURL": "https://plot.ly"
       },
       "data": [
        {
         "hovertemplate": "symbol_option=%{x}<br>IV=%{y}<extra></extra>",
         "legendgroup": "",
         "line": {
          "color": "#636efa",
          "dash": "solid"
         },
         "marker": {
          "symbol": "circle"
         },
         "mode": "lines",
         "name": "",
         "orientation": "v",
         "showlegend": false,
         "type": "scatter",
         "x": [
          "ضسپا6005",
          "ضخود3072",
          "ضستا6010",
          "ضخود5017",
          "ضخود3074",
          "ضسپا3025",
          "ضسپا6004",
          "ضسپا3030",
          "ضستا2013",
          "ضجار2029",
          "ضستا2014",
          "ضخود5021",
          "ضخود3068",
          "ضسرو1021",
          "ضستا6004",
          "ضستا2015",
          "ضستا4011",
          "ضصاد3027",
          "ضملت3024",
          "ضدی500",
          "ضکاریس505",
          "ضسپا6011",
          "ضجار2030",
          "ضستا2016",
          "ضستا4007",
          "ضجار6000",
          "ضهرم7000",
          "ضهرم7008",
          "ضستا2019",
          "ضدی215",
          "ضستا6007",
          "ضشنا2025",
          "ضسپا3033",
          "ضخود3070",
          "ضسپا6008",
          "ضملت3020",
          "ضخود3075",
          "ضجار2027",
          "ضخپارس601",
          "ضروز4010",
          "ضجار2026",
          "ضکرمان602",
          "ضهای3006",
          "ضجار2025",
          "ضجار2022",
          "ضروز4005",
          "ضسپا3029",
          "ضهای3000",
          "ضجار2020",
          "ضجار2028",
          "ضصاد3025",
          "ضسپا3026",
          "ضستا2018",
          "ضستا6009",
          "ضستا2017",
          "ضخود2034",
          "ضخود2036",
          "ضدی203"
         ],
         "xaxis": "x",
         "y": [
          1.3559709206450983,
          1.1799995721008456,
          0.8964700127586543,
          1.3159265362545016,
          0.8957804714436013,
          1.3147780987195872,
          1.1488607355268852,
          1.0537297634098863,
          null,
          0.9334049294913122,
          null,
          1.1281255531205434,
          1.6639212246533346,
          0.5006379305979337,
          1.1896671840262218,
          null,
          0.7347868301013392,
          1.3008215367964446,
          1.1717609287004356,
          4.338605962269748,
          0.550094468062886,
          1.198832167985024,
          0.7601295351327909,
          null,
          0.8049550217932695,
          1.474935815614375,
          null,
          1.2219159013633814,
          null,
          3.0191712932504307,
          0.8825234585173924,
          null,
          0.8925843052518473,
          1.5235772256239821,
          1.3106064594757059,
          1.7549355785339005,
          0.8411445682340379,
          0.16725432425487513,
          2.3629628446799895,
          0.5613796417118295,
          null,
          1.8503524988835163,
          1.1086689947712958,
          5.627279405913908,
          -290.9847446798801,
          0.8511828744331957,
          0.8705224840851572,
          null,
          null,
          0.2655242054249018,
          1.668962575051997,
          1.2869117005901491,
          null,
          1.03178749837974,
          0.3,
          null,
          null,
          9.30776421265214
         ],
         "yaxis": "y"
        }
       ],
       "layout": {
        "legend": {
         "tracegroupgap": 0
        },
        "margin": {
         "t": 60
        },
        "template": {
         "data": {
          "bar": [
           {
            "error_x": {
             "color": "#2a3f5f"
            },
            "error_y": {
             "color": "#2a3f5f"
            },
            "marker": {
             "line": {
              "color": "#E5ECF6",
              "width": 0.5
             },
             "pattern": {
              "fillmode": "overlay",
              "size": 10,
              "solidity": 0.2
             }
            },
            "type": "bar"
           }
          ],
          "barpolar": [
           {
            "marker": {
             "line": {
              "color": "#E5ECF6",
              "width": 0.5
             },
             "pattern": {
              "fillmode": "overlay",
              "size": 10,
              "solidity": 0.2
             }
            },
            "type": "barpolar"
           }
          ],
          "carpet": [
           {
            "aaxis": {
             "endlinecolor": "#2a3f5f",
             "gridcolor": "white",
             "linecolor": "white",
             "minorgridcolor": "white",
             "startlinecolor": "#2a3f5f"
            },
            "baxis": {
             "endlinecolor": "#2a3f5f",
             "gridcolor": "white",
             "linecolor": "white",
             "minorgridcolor": "white",
             "startlinecolor": "#2a3f5f"
            },
            "type": "carpet"
           }
          ],
          "choropleth": [
           {
            "colorbar": {
             "outlinewidth": 0,
             "ticks": ""
            },
            "type": "choropleth"
           }
          ],
          "contour": [
           {
            "colorbar": {
             "outlinewidth": 0,
             "ticks": ""
            },
            "colorscale": [
             [
              0,
              "#0d0887"
             ],
             [
              0.1111111111111111,
              "#46039f"
             ],
             [
              0.2222222222222222,
              "#7201a8"
             ],
             [
              0.3333333333333333,
              "#9c179e"
             ],
             [
              0.4444444444444444,
              "#bd3786"
             ],
             [
              0.5555555555555556,
              "#d8576b"
             ],
             [
              0.6666666666666666,
              "#ed7953"
             ],
             [
              0.7777777777777778,
              "#fb9f3a"
             ],
             [
              0.8888888888888888,
              "#fdca26"
             ],
             [
              1,
              "#f0f921"
             ]
            ],
            "type": "contour"
           }
          ],
          "contourcarpet": [
           {
            "colorbar": {
             "outlinewidth": 0,
             "ticks": ""
            },
            "type": "contourcarpet"
           }
          ],
          "heatmap": [
           {
            "colorbar": {
             "outlinewidth": 0,
             "ticks": ""
            },
            "colorscale": [
             [
              0,
              "#0d0887"
             ],
             [
              0.1111111111111111,
              "#46039f"
             ],
             [
              0.2222222222222222,
              "#7201a8"
             ],
             [
              0.3333333333333333,
              "#9c179e"
             ],
             [
              0.4444444444444444,
              "#bd3786"
             ],
             [
              0.5555555555555556,
              "#d8576b"
             ],
             [
              0.6666666666666666,
              "#ed7953"
             ],
             [
              0.7777777777777778,
              "#fb9f3a"
             ],
             [
              0.8888888888888888,
              "#fdca26"
             ],
             [
              1,
              "#f0f921"
             ]
            ],
            "type": "heatmap"
           }
          ],
          "heatmapgl": [
           {
            "colorbar": {
             "outlinewidth": 0,
             "ticks": ""
            },
            "colorscale": [
             [
              0,
              "#0d0887"
             ],
             [
              0.1111111111111111,
              "#46039f"
             ],
             [
              0.2222222222222222,
              "#7201a8"
             ],
             [
              0.3333333333333333,
              "#9c179e"
             ],
             [
              0.4444444444444444,
              "#bd3786"
             ],
             [
              0.5555555555555556,
              "#d8576b"
             ],
             [
              0.6666666666666666,
              "#ed7953"
             ],
             [
              0.7777777777777778,
              "#fb9f3a"
             ],
             [
              0.8888888888888888,
              "#fdca26"
             ],
             [
              1,
              "#f0f921"
             ]
            ],
            "type": "heatmapgl"
           }
          ],
          "histogram": [
           {
            "marker": {
             "pattern": {
              "fillmode": "overlay",
              "size": 10,
              "solidity": 0.2
             }
            },
            "type": "histogram"
           }
          ],
          "histogram2d": [
           {
            "colorbar": {
             "outlinewidth": 0,
             "ticks": ""
            },
            "colorscale": [
             [
              0,
              "#0d0887"
             ],
             [
              0.1111111111111111,
              "#46039f"
             ],
             [
              0.2222222222222222,
              "#7201a8"
             ],
             [
              0.3333333333333333,
              "#9c179e"
             ],
             [
              0.4444444444444444,
              "#bd3786"
             ],
             [
              0.5555555555555556,
              "#d8576b"
             ],
             [
              0.6666666666666666,
              "#ed7953"
             ],
             [
              0.7777777777777778,
              "#fb9f3a"
             ],
             [
              0.8888888888888888,
              "#fdca26"
             ],
             [
              1,
              "#f0f921"
             ]
            ],
            "type": "histogram2d"
           }
          ],
          "histogram2dcontour": [
           {
            "colorbar": {
             "outlinewidth": 0,
             "ticks": ""
            },
            "colorscale": [
             [
              0,
              "#0d0887"
             ],
             [
              0.1111111111111111,
              "#46039f"
             ],
             [
              0.2222222222222222,
              "#7201a8"
             ],
             [
              0.3333333333333333,
              "#9c179e"
             ],
             [
              0.4444444444444444,
              "#bd3786"
             ],
             [
              0.5555555555555556,
              "#d8576b"
             ],
             [
              0.6666666666666666,
              "#ed7953"
             ],
             [
              0.7777777777777778,
              "#fb9f3a"
             ],
             [
              0.8888888888888888,
              "#fdca26"
             ],
             [
              1,
              "#f0f921"
             ]
            ],
            "type": "histogram2dcontour"
           }
          ],
          "mesh3d": [
           {
            "colorbar": {
             "outlinewidth": 0,
             "ticks": ""
            },
            "type": "mesh3d"
           }
          ],
          "parcoords": [
           {
            "line": {
             "colorbar": {
              "outlinewidth": 0,
              "ticks": ""
             }
            },
            "type": "parcoords"
           }
          ],
          "pie": [
           {
            "automargin": true,
            "type": "pie"
           }
          ],
          "scatter": [
           {
            "fillpattern": {
             "fillmode": "overlay",
             "size": 10,
             "solidity": 0.2
            },
            "type": "scatter"
           }
          ],
          "scatter3d": [
           {
            "line": {
             "colorbar": {
              "outlinewidth": 0,
              "ticks": ""
             }
            },
            "marker": {
             "colorbar": {
              "outlinewidth": 0,
              "ticks": ""
             }
            },
            "type": "scatter3d"
           }
          ],
          "scattercarpet": [
           {
            "marker": {
             "colorbar": {
              "outlinewidth": 0,
              "ticks": ""
             }
            },
            "type": "scattercarpet"
           }
          ],
          "scattergeo": [
           {
            "marker": {
             "colorbar": {
              "outlinewidth": 0,
              "ticks": ""
             }
            },
            "type": "scattergeo"
           }
          ],
          "scattergl": [
           {
            "marker": {
             "colorbar": {
              "outlinewidth": 0,
              "ticks": ""
             }
            },
            "type": "scattergl"
           }
          ],
          "scattermapbox": [
           {
            "marker": {
             "colorbar": {
              "outlinewidth": 0,
              "ticks": ""
             }
            },
            "type": "scattermapbox"
           }
          ],
          "scatterpolar": [
           {
            "marker": {
             "colorbar": {
              "outlinewidth": 0,
              "ticks": ""
             }
            },
            "type": "scatterpolar"
           }
          ],
          "scatterpolargl": [
           {
            "marker": {
             "colorbar": {
              "outlinewidth": 0,
              "ticks": ""
             }
            },
            "type": "scatterpolargl"
           }
          ],
          "scatterternary": [
           {
            "marker": {
             "colorbar": {
              "outlinewidth": 0,
              "ticks": ""
             }
            },
            "type": "scatterternary"
           }
          ],
          "surface": [
           {
            "colorbar": {
             "outlinewidth": 0,
             "ticks": ""
            },
            "colorscale": [
             [
              0,
              "#0d0887"
             ],
             [
              0.1111111111111111,
              "#46039f"
             ],
             [
              0.2222222222222222,
              "#7201a8"
             ],
             [
              0.3333333333333333,
              "#9c179e"
             ],
             [
              0.4444444444444444,
              "#bd3786"
             ],
             [
              0.5555555555555556,
              "#d8576b"
             ],
             [
              0.6666666666666666,
              "#ed7953"
             ],
             [
              0.7777777777777778,
              "#fb9f3a"
             ],
             [
              0.8888888888888888,
              "#fdca26"
             ],
             [
              1,
              "#f0f921"
             ]
            ],
            "type": "surface"
           }
          ],
          "table": [
           {
            "cells": {
             "fill": {
              "color": "#EBF0F8"
             },
             "line": {
              "color": "white"
             }
            },
            "header": {
             "fill": {
              "color": "#C8D4E3"
             },
             "line": {
              "color": "white"
             }
            },
            "type": "table"
           }
          ]
         },
         "layout": {
          "annotationdefaults": {
           "arrowcolor": "#2a3f5f",
           "arrowhead": 0,
           "arrowwidth": 1
          },
          "autotypenumbers": "strict",
          "coloraxis": {
           "colorbar": {
            "outlinewidth": 0,
            "ticks": ""
           }
          },
          "colorscale": {
           "diverging": [
            [
             0,
             "#8e0152"
            ],
            [
             0.1,
             "#c51b7d"
            ],
            [
             0.2,
             "#de77ae"
            ],
            [
             0.3,
             "#f1b6da"
            ],
            [
             0.4,
             "#fde0ef"
            ],
            [
             0.5,
             "#f7f7f7"
            ],
            [
             0.6,
             "#e6f5d0"
            ],
            [
             0.7,
             "#b8e186"
            ],
            [
             0.8,
             "#7fbc41"
            ],
            [
             0.9,
             "#4d9221"
            ],
            [
             1,
             "#276419"
            ]
           ],
           "sequential": [
            [
             0,
             "#0d0887"
            ],
            [
             0.1111111111111111,
             "#46039f"
            ],
            [
             0.2222222222222222,
             "#7201a8"
            ],
            [
             0.3333333333333333,
             "#9c179e"
            ],
            [
             0.4444444444444444,
             "#bd3786"
            ],
            [
             0.5555555555555556,
             "#d8576b"
            ],
            [
             0.6666666666666666,
             "#ed7953"
            ],
            [
             0.7777777777777778,
             "#fb9f3a"
            ],
            [
             0.8888888888888888,
             "#fdca26"
            ],
            [
             1,
             "#f0f921"
            ]
           ],
           "sequentialminus": [
            [
             0,
             "#0d0887"
            ],
            [
             0.1111111111111111,
             "#46039f"
            ],
            [
             0.2222222222222222,
             "#7201a8"
            ],
            [
             0.3333333333333333,
             "#9c179e"
            ],
            [
             0.4444444444444444,
             "#bd3786"
            ],
            [
             0.5555555555555556,
             "#d8576b"
            ],
            [
             0.6666666666666666,
             "#ed7953"
            ],
            [
             0.7777777777777778,
             "#fb9f3a"
            ],
            [
             0.8888888888888888,
             "#fdca26"
            ],
            [
             1,
             "#f0f921"
            ]
           ]
          },
          "colorway": [
           "#636efa",
           "#EF553B",
           "#00cc96",
           "#ab63fa",
           "#FFA15A",
           "#19d3f3",
           "#FF6692",
           "#B6E880",
           "#FF97FF",
           "#FECB52"
          ],
          "font": {
           "color": "#2a3f5f"
          },
          "geo": {
           "bgcolor": "white",
           "lakecolor": "white",
           "landcolor": "#E5ECF6",
           "showlakes": true,
           "showland": true,
           "subunitcolor": "white"
          },
          "hoverlabel": {
           "align": "left"
          },
          "hovermode": "closest",
          "mapbox": {
           "style": "light"
          },
          "paper_bgcolor": "white",
          "plot_bgcolor": "#E5ECF6",
          "polar": {
           "angularaxis": {
            "gridcolor": "white",
            "linecolor": "white",
            "ticks": ""
           },
           "bgcolor": "#E5ECF6",
           "radialaxis": {
            "gridcolor": "white",
            "linecolor": "white",
            "ticks": ""
           }
          },
          "scene": {
           "xaxis": {
            "backgroundcolor": "#E5ECF6",
            "gridcolor": "white",
            "gridwidth": 2,
            "linecolor": "white",
            "showbackground": true,
            "ticks": "",
            "zerolinecolor": "white"
           },
           "yaxis": {
            "backgroundcolor": "#E5ECF6",
            "gridcolor": "white",
            "gridwidth": 2,
            "linecolor": "white",
            "showbackground": true,
            "ticks": "",
            "zerolinecolor": "white"
           },
           "zaxis": {
            "backgroundcolor": "#E5ECF6",
            "gridcolor": "white",
            "gridwidth": 2,
            "linecolor": "white",
            "showbackground": true,
            "ticks": "",
            "zerolinecolor": "white"
           }
          },
          "shapedefaults": {
           "line": {
            "color": "#2a3f5f"
           }
          },
          "ternary": {
           "aaxis": {
            "gridcolor": "white",
            "linecolor": "white",
            "ticks": ""
           },
           "baxis": {
            "gridcolor": "white",
            "linecolor": "white",
            "ticks": ""
           },
           "bgcolor": "#E5ECF6",
           "caxis": {
            "gridcolor": "white",
            "linecolor": "white",
            "ticks": ""
           }
          },
          "title": {
           "x": 0.05
          },
          "xaxis": {
           "automargin": true,
           "gridcolor": "white",
           "linecolor": "white",
           "ticks": "",
           "title": {
            "standoff": 15
           },
           "zerolinecolor": "white",
           "zerolinewidth": 2
          },
          "yaxis": {
           "automargin": true,
           "gridcolor": "white",
           "linecolor": "white",
           "ticks": "",
           "title": {
            "standoff": 15
           },
           "zerolinecolor": "white",
           "zerolinewidth": 2
          }
         }
        },
        "xaxis": {
         "anchor": "y",
         "domain": [
          0,
          1
         ],
         "title": {
          "text": "symbol_option"
         }
        },
        "yaxis": {
         "anchor": "x",
         "domain": [
          0,
          1
         ],
         "title": {
          "text": "IV"
         }
        }
       }
      }
     },
     "metadata": {},
     "output_type": "display_data"
    }
   ],
   "source": [
    "import plotly.express as px\n",
    "options_selected = options_selected.reset_index(drop=True)\n",
    "px.line(options_selected , x='symbol_option' , y='IV')"
   ]
  },
  {
   "cell_type": "code",
   "execution_count": 11,
   "metadata": {},
   "outputs": [],
   "source": [
    "options_selected['diff'] = options_selected['last_trade_option'] - options_selected['call_bs']"
   ]
  },
  {
   "cell_type": "code",
   "execution_count": 12,
   "metadata": {},
   "outputs": [
    {
     "data": {
      "application/vnd.plotly.v1+json": {
       "config": {
        "plotlyServerURL": "https://plot.ly"
       },
       "data": [
        {
         "hovertemplate": "symbol_option=%{x}<br>diff=%{y}<extra></extra>",
         "legendgroup": "",
         "line": {
          "color": "#636efa",
          "dash": "solid"
         },
         "marker": {
          "symbol": "circle"
         },
         "mode": "lines",
         "name": "",
         "orientation": "v",
         "showlegend": false,
         "type": "scatter",
         "x": [
          "ضسپا6005",
          "ضخود3072",
          "ضستا6010",
          "ضخود5017",
          "ضخود3074",
          "ضسپا3025",
          "ضسپا6004",
          "ضسپا3030",
          "ضستا2013",
          "ضجار2029",
          "ضستا2014",
          "ضخود5021",
          "ضخود3068",
          "ضسرو1021",
          "ضستا6004",
          "ضستا2015",
          "ضستا4011",
          "ضصاد3027",
          "ضملت3024",
          "ضدی500",
          "ضکاریس505",
          "ضسپا6011",
          "ضجار2030",
          "ضستا2016",
          "ضستا4007",
          "ضجار6000",
          "ضهرم7000",
          "ضهرم7008",
          "ضستا2019",
          "ضدی215",
          "ضستا6007",
          "ضشنا2025",
          "ضسپا3033",
          "ضخود3070",
          "ضسپا6008",
          "ضملت3020",
          "ضخود3075",
          "ضجار2027",
          "ضخپارس601",
          "ضروز4010",
          "ضجار2026",
          "ضکرمان602",
          "ضهای3006",
          "ضجار2025",
          "ضجار2022",
          "ضروز4005",
          "ضسپا3029",
          "ضهای3000",
          "ضجار2020",
          "ضجار2028",
          "ضصاد3025",
          "ضسپا3026",
          "ضستا2018",
          "ضستا6009",
          "ضستا2017",
          "ضخود2034",
          "ضخود2036",
          "ضدی203"
         ],
         "xaxis": "x",
         "y": [
          -40.94522655689025,
          -13.445921133620232,
          -22.48611302105178,
          -41.62444594386102,
          -11.982485340605308,
          -19.79401725219077,
          -44.47113580983023,
          -19.70444902559393,
          -14,
          -3.6713277443993775,
          -12,
          -42.36008986650518,
          -12.262428275149887,
          -4971.789812350195,
          -18.92365084085361,
          -4,
          -6.862196113373557,
          -14.505701970549126,
          -26.898862148783792,
          -4.581345490991453,
          -337.0985422820704,
          -46.05280612458364,
          -3.0852993542348486,
          -24,
          -12.033998539501226,
          -29.551476783358794,
          65.85298948194395,
          -392.2751932574756,
          5,
          -1.1224647805522636,
          -23.82435266597895,
          -250.99146305733575,
          -13.920110463695437,
          -12.895312358351475,
          -44.24126519976812,
          -20.70463519795885,
          -7.948127665506263,
          -41.283768129857435,
          -16.531726982165083,
          -325.95976046445867,
          -85.73770758431897,
          -16.724877857921,
          -13.231400472254336,
          -391.0931618212808,
          -106.1613480920355,
          -295.38671756467375,
          -22.779839441481045,
          -54.603638237481846,
          -98.8731683464307,
          -10.81214508877747,
          -12.879638705876232,
          -20.29248031480961,
          3,
          -21.561786105458623,
          0,
          -30,
          20,
          -0.4832449154173446
         ],
         "yaxis": "y"
        }
       ],
       "layout": {
        "legend": {
         "tracegroupgap": 0
        },
        "margin": {
         "t": 60
        },
        "template": {
         "data": {
          "bar": [
           {
            "error_x": {
             "color": "#2a3f5f"
            },
            "error_y": {
             "color": "#2a3f5f"
            },
            "marker": {
             "line": {
              "color": "#E5ECF6",
              "width": 0.5
             },
             "pattern": {
              "fillmode": "overlay",
              "size": 10,
              "solidity": 0.2
             }
            },
            "type": "bar"
           }
          ],
          "barpolar": [
           {
            "marker": {
             "line": {
              "color": "#E5ECF6",
              "width": 0.5
             },
             "pattern": {
              "fillmode": "overlay",
              "size": 10,
              "solidity": 0.2
             }
            },
            "type": "barpolar"
           }
          ],
          "carpet": [
           {
            "aaxis": {
             "endlinecolor": "#2a3f5f",
             "gridcolor": "white",
             "linecolor": "white",
             "minorgridcolor": "white",
             "startlinecolor": "#2a3f5f"
            },
            "baxis": {
             "endlinecolor": "#2a3f5f",
             "gridcolor": "white",
             "linecolor": "white",
             "minorgridcolor": "white",
             "startlinecolor": "#2a3f5f"
            },
            "type": "carpet"
           }
          ],
          "choropleth": [
           {
            "colorbar": {
             "outlinewidth": 0,
             "ticks": ""
            },
            "type": "choropleth"
           }
          ],
          "contour": [
           {
            "colorbar": {
             "outlinewidth": 0,
             "ticks": ""
            },
            "colorscale": [
             [
              0,
              "#0d0887"
             ],
             [
              0.1111111111111111,
              "#46039f"
             ],
             [
              0.2222222222222222,
              "#7201a8"
             ],
             [
              0.3333333333333333,
              "#9c179e"
             ],
             [
              0.4444444444444444,
              "#bd3786"
             ],
             [
              0.5555555555555556,
              "#d8576b"
             ],
             [
              0.6666666666666666,
              "#ed7953"
             ],
             [
              0.7777777777777778,
              "#fb9f3a"
             ],
             [
              0.8888888888888888,
              "#fdca26"
             ],
             [
              1,
              "#f0f921"
             ]
            ],
            "type": "contour"
           }
          ],
          "contourcarpet": [
           {
            "colorbar": {
             "outlinewidth": 0,
             "ticks": ""
            },
            "type": "contourcarpet"
           }
          ],
          "heatmap": [
           {
            "colorbar": {
             "outlinewidth": 0,
             "ticks": ""
            },
            "colorscale": [
             [
              0,
              "#0d0887"
             ],
             [
              0.1111111111111111,
              "#46039f"
             ],
             [
              0.2222222222222222,
              "#7201a8"
             ],
             [
              0.3333333333333333,
              "#9c179e"
             ],
             [
              0.4444444444444444,
              "#bd3786"
             ],
             [
              0.5555555555555556,
              "#d8576b"
             ],
             [
              0.6666666666666666,
              "#ed7953"
             ],
             [
              0.7777777777777778,
              "#fb9f3a"
             ],
             [
              0.8888888888888888,
              "#fdca26"
             ],
             [
              1,
              "#f0f921"
             ]
            ],
            "type": "heatmap"
           }
          ],
          "heatmapgl": [
           {
            "colorbar": {
             "outlinewidth": 0,
             "ticks": ""
            },
            "colorscale": [
             [
              0,
              "#0d0887"
             ],
             [
              0.1111111111111111,
              "#46039f"
             ],
             [
              0.2222222222222222,
              "#7201a8"
             ],
             [
              0.3333333333333333,
              "#9c179e"
             ],
             [
              0.4444444444444444,
              "#bd3786"
             ],
             [
              0.5555555555555556,
              "#d8576b"
             ],
             [
              0.6666666666666666,
              "#ed7953"
             ],
             [
              0.7777777777777778,
              "#fb9f3a"
             ],
             [
              0.8888888888888888,
              "#fdca26"
             ],
             [
              1,
              "#f0f921"
             ]
            ],
            "type": "heatmapgl"
           }
          ],
          "histogram": [
           {
            "marker": {
             "pattern": {
              "fillmode": "overlay",
              "size": 10,
              "solidity": 0.2
             }
            },
            "type": "histogram"
           }
          ],
          "histogram2d": [
           {
            "colorbar": {
             "outlinewidth": 0,
             "ticks": ""
            },
            "colorscale": [
             [
              0,
              "#0d0887"
             ],
             [
              0.1111111111111111,
              "#46039f"
             ],
             [
              0.2222222222222222,
              "#7201a8"
             ],
             [
              0.3333333333333333,
              "#9c179e"
             ],
             [
              0.4444444444444444,
              "#bd3786"
             ],
             [
              0.5555555555555556,
              "#d8576b"
             ],
             [
              0.6666666666666666,
              "#ed7953"
             ],
             [
              0.7777777777777778,
              "#fb9f3a"
             ],
             [
              0.8888888888888888,
              "#fdca26"
             ],
             [
              1,
              "#f0f921"
             ]
            ],
            "type": "histogram2d"
           }
          ],
          "histogram2dcontour": [
           {
            "colorbar": {
             "outlinewidth": 0,
             "ticks": ""
            },
            "colorscale": [
             [
              0,
              "#0d0887"
             ],
             [
              0.1111111111111111,
              "#46039f"
             ],
             [
              0.2222222222222222,
              "#7201a8"
             ],
             [
              0.3333333333333333,
              "#9c179e"
             ],
             [
              0.4444444444444444,
              "#bd3786"
             ],
             [
              0.5555555555555556,
              "#d8576b"
             ],
             [
              0.6666666666666666,
              "#ed7953"
             ],
             [
              0.7777777777777778,
              "#fb9f3a"
             ],
             [
              0.8888888888888888,
              "#fdca26"
             ],
             [
              1,
              "#f0f921"
             ]
            ],
            "type": "histogram2dcontour"
           }
          ],
          "mesh3d": [
           {
            "colorbar": {
             "outlinewidth": 0,
             "ticks": ""
            },
            "type": "mesh3d"
           }
          ],
          "parcoords": [
           {
            "line": {
             "colorbar": {
              "outlinewidth": 0,
              "ticks": ""
             }
            },
            "type": "parcoords"
           }
          ],
          "pie": [
           {
            "automargin": true,
            "type": "pie"
           }
          ],
          "scatter": [
           {
            "fillpattern": {
             "fillmode": "overlay",
             "size": 10,
             "solidity": 0.2
            },
            "type": "scatter"
           }
          ],
          "scatter3d": [
           {
            "line": {
             "colorbar": {
              "outlinewidth": 0,
              "ticks": ""
             }
            },
            "marker": {
             "colorbar": {
              "outlinewidth": 0,
              "ticks": ""
             }
            },
            "type": "scatter3d"
           }
          ],
          "scattercarpet": [
           {
            "marker": {
             "colorbar": {
              "outlinewidth": 0,
              "ticks": ""
             }
            },
            "type": "scattercarpet"
           }
          ],
          "scattergeo": [
           {
            "marker": {
             "colorbar": {
              "outlinewidth": 0,
              "ticks": ""
             }
            },
            "type": "scattergeo"
           }
          ],
          "scattergl": [
           {
            "marker": {
             "colorbar": {
              "outlinewidth": 0,
              "ticks": ""
             }
            },
            "type": "scattergl"
           }
          ],
          "scattermapbox": [
           {
            "marker": {
             "colorbar": {
              "outlinewidth": 0,
              "ticks": ""
             }
            },
            "type": "scattermapbox"
           }
          ],
          "scatterpolar": [
           {
            "marker": {
             "colorbar": {
              "outlinewidth": 0,
              "ticks": ""
             }
            },
            "type": "scatterpolar"
           }
          ],
          "scatterpolargl": [
           {
            "marker": {
             "colorbar": {
              "outlinewidth": 0,
              "ticks": ""
             }
            },
            "type": "scatterpolargl"
           }
          ],
          "scatterternary": [
           {
            "marker": {
             "colorbar": {
              "outlinewidth": 0,
              "ticks": ""
             }
            },
            "type": "scatterternary"
           }
          ],
          "surface": [
           {
            "colorbar": {
             "outlinewidth": 0,
             "ticks": ""
            },
            "colorscale": [
             [
              0,
              "#0d0887"
             ],
             [
              0.1111111111111111,
              "#46039f"
             ],
             [
              0.2222222222222222,
              "#7201a8"
             ],
             [
              0.3333333333333333,
              "#9c179e"
             ],
             [
              0.4444444444444444,
              "#bd3786"
             ],
             [
              0.5555555555555556,
              "#d8576b"
             ],
             [
              0.6666666666666666,
              "#ed7953"
             ],
             [
              0.7777777777777778,
              "#fb9f3a"
             ],
             [
              0.8888888888888888,
              "#fdca26"
             ],
             [
              1,
              "#f0f921"
             ]
            ],
            "type": "surface"
           }
          ],
          "table": [
           {
            "cells": {
             "fill": {
              "color": "#EBF0F8"
             },
             "line": {
              "color": "white"
             }
            },
            "header": {
             "fill": {
              "color": "#C8D4E3"
             },
             "line": {
              "color": "white"
             }
            },
            "type": "table"
           }
          ]
         },
         "layout": {
          "annotationdefaults": {
           "arrowcolor": "#2a3f5f",
           "arrowhead": 0,
           "arrowwidth": 1
          },
          "autotypenumbers": "strict",
          "coloraxis": {
           "colorbar": {
            "outlinewidth": 0,
            "ticks": ""
           }
          },
          "colorscale": {
           "diverging": [
            [
             0,
             "#8e0152"
            ],
            [
             0.1,
             "#c51b7d"
            ],
            [
             0.2,
             "#de77ae"
            ],
            [
             0.3,
             "#f1b6da"
            ],
            [
             0.4,
             "#fde0ef"
            ],
            [
             0.5,
             "#f7f7f7"
            ],
            [
             0.6,
             "#e6f5d0"
            ],
            [
             0.7,
             "#b8e186"
            ],
            [
             0.8,
             "#7fbc41"
            ],
            [
             0.9,
             "#4d9221"
            ],
            [
             1,
             "#276419"
            ]
           ],
           "sequential": [
            [
             0,
             "#0d0887"
            ],
            [
             0.1111111111111111,
             "#46039f"
            ],
            [
             0.2222222222222222,
             "#7201a8"
            ],
            [
             0.3333333333333333,
             "#9c179e"
            ],
            [
             0.4444444444444444,
             "#bd3786"
            ],
            [
             0.5555555555555556,
             "#d8576b"
            ],
            [
             0.6666666666666666,
             "#ed7953"
            ],
            [
             0.7777777777777778,
             "#fb9f3a"
            ],
            [
             0.8888888888888888,
             "#fdca26"
            ],
            [
             1,
             "#f0f921"
            ]
           ],
           "sequentialminus": [
            [
             0,
             "#0d0887"
            ],
            [
             0.1111111111111111,
             "#46039f"
            ],
            [
             0.2222222222222222,
             "#7201a8"
            ],
            [
             0.3333333333333333,
             "#9c179e"
            ],
            [
             0.4444444444444444,
             "#bd3786"
            ],
            [
             0.5555555555555556,
             "#d8576b"
            ],
            [
             0.6666666666666666,
             "#ed7953"
            ],
            [
             0.7777777777777778,
             "#fb9f3a"
            ],
            [
             0.8888888888888888,
             "#fdca26"
            ],
            [
             1,
             "#f0f921"
            ]
           ]
          },
          "colorway": [
           "#636efa",
           "#EF553B",
           "#00cc96",
           "#ab63fa",
           "#FFA15A",
           "#19d3f3",
           "#FF6692",
           "#B6E880",
           "#FF97FF",
           "#FECB52"
          ],
          "font": {
           "color": "#2a3f5f"
          },
          "geo": {
           "bgcolor": "white",
           "lakecolor": "white",
           "landcolor": "#E5ECF6",
           "showlakes": true,
           "showland": true,
           "subunitcolor": "white"
          },
          "hoverlabel": {
           "align": "left"
          },
          "hovermode": "closest",
          "mapbox": {
           "style": "light"
          },
          "paper_bgcolor": "white",
          "plot_bgcolor": "#E5ECF6",
          "polar": {
           "angularaxis": {
            "gridcolor": "white",
            "linecolor": "white",
            "ticks": ""
           },
           "bgcolor": "#E5ECF6",
           "radialaxis": {
            "gridcolor": "white",
            "linecolor": "white",
            "ticks": ""
           }
          },
          "scene": {
           "xaxis": {
            "backgroundcolor": "#E5ECF6",
            "gridcolor": "white",
            "gridwidth": 2,
            "linecolor": "white",
            "showbackground": true,
            "ticks": "",
            "zerolinecolor": "white"
           },
           "yaxis": {
            "backgroundcolor": "#E5ECF6",
            "gridcolor": "white",
            "gridwidth": 2,
            "linecolor": "white",
            "showbackground": true,
            "ticks": "",
            "zerolinecolor": "white"
           },
           "zaxis": {
            "backgroundcolor": "#E5ECF6",
            "gridcolor": "white",
            "gridwidth": 2,
            "linecolor": "white",
            "showbackground": true,
            "ticks": "",
            "zerolinecolor": "white"
           }
          },
          "shapedefaults": {
           "line": {
            "color": "#2a3f5f"
           }
          },
          "ternary": {
           "aaxis": {
            "gridcolor": "white",
            "linecolor": "white",
            "ticks": ""
           },
           "baxis": {
            "gridcolor": "white",
            "linecolor": "white",
            "ticks": ""
           },
           "bgcolor": "#E5ECF6",
           "caxis": {
            "gridcolor": "white",
            "linecolor": "white",
            "ticks": ""
           }
          },
          "title": {
           "x": 0.05
          },
          "xaxis": {
           "automargin": true,
           "gridcolor": "white",
           "linecolor": "white",
           "ticks": "",
           "title": {
            "standoff": 15
           },
           "zerolinecolor": "white",
           "zerolinewidth": 2
          },
          "yaxis": {
           "automargin": true,
           "gridcolor": "white",
           "linecolor": "white",
           "ticks": "",
           "title": {
            "standoff": 15
           },
           "zerolinecolor": "white",
           "zerolinewidth": 2
          }
         }
        },
        "xaxis": {
         "anchor": "y",
         "domain": [
          0,
          1
         ],
         "title": {
          "text": "symbol_option"
         }
        },
        "yaxis": {
         "anchor": "x",
         "domain": [
          0,
          1
         ],
         "title": {
          "text": "diff"
         }
        }
       }
      }
     },
     "metadata": {},
     "output_type": "display_data"
    }
   ],
   "source": [
    "px.line(options_selected , x='symbol_option' , y='diff')"
   ]
  },
  {
   "cell_type": "code",
   "execution_count": 13,
   "metadata": {},
   "outputs": [
    {
     "data": {
      "text/html": [
       "<div>\n",
       "<style scoped>\n",
       "    .dataframe tbody tr th:only-of-type {\n",
       "        vertical-align: middle;\n",
       "    }\n",
       "\n",
       "    .dataframe tbody tr th {\n",
       "        vertical-align: top;\n",
       "    }\n",
       "\n",
       "    .dataframe thead th {\n",
       "        text-align: right;\n",
       "    }\n",
       "</style>\n",
       "<table border=\"1\" class=\"dataframe\">\n",
       "  <thead>\n",
       "    <tr style=\"text-align: right;\">\n",
       "      <th></th>\n",
       "      <th>25</th>\n",
       "    </tr>\n",
       "  </thead>\n",
       "  <tbody>\n",
       "    <tr>\n",
       "      <th>id_option</th>\n",
       "      <td>52157458348940396</td>\n",
       "    </tr>\n",
       "    <tr>\n",
       "      <th>isin_option</th>\n",
       "      <td>IRO9BTEJ4551</td>\n",
       "    </tr>\n",
       "    <tr>\n",
       "      <th>symbol_option</th>\n",
       "      <td>ضجار6000</td>\n",
       "    </tr>\n",
       "    <tr>\n",
       "      <th>name</th>\n",
       "      <td>اختيارخ وتجارت-1500-1402/06/14</td>\n",
       "    </tr>\n",
       "    <tr>\n",
       "      <th>open_price</th>\n",
       "      <td>1431.0</td>\n",
       "    </tr>\n",
       "    <tr>\n",
       "      <th>close_price</th>\n",
       "      <td>1482.0</td>\n",
       "    </tr>\n",
       "    <tr>\n",
       "      <th>last_trade_option</th>\n",
       "      <td>1520.0</td>\n",
       "    </tr>\n",
       "    <tr>\n",
       "      <th>count</th>\n",
       "      <td>179</td>\n",
       "    </tr>\n",
       "    <tr>\n",
       "      <th>volume</th>\n",
       "      <td>11628.0</td>\n",
       "    </tr>\n",
       "    <tr>\n",
       "      <th>value</th>\n",
       "      <td>17237346000.0</td>\n",
       "    </tr>\n",
       "    <tr>\n",
       "      <th>low_price</th>\n",
       "      <td>1431.0</td>\n",
       "    </tr>\n",
       "    <tr>\n",
       "      <th>high_price</th>\n",
       "      <td>1569.0</td>\n",
       "    </tr>\n",
       "    <tr>\n",
       "      <th>yesterday_price</th>\n",
       "      <td>1460</td>\n",
       "    </tr>\n",
       "    <tr>\n",
       "      <th>table_id</th>\n",
       "      <td>3</td>\n",
       "    </tr>\n",
       "    <tr>\n",
       "      <th>group_id</th>\n",
       "      <td>57</td>\n",
       "    </tr>\n",
       "    <tr>\n",
       "      <th>max_allowed_price</th>\n",
       "      <td>100000.0</td>\n",
       "    </tr>\n",
       "    <tr>\n",
       "      <th>min_allowed_price_option</th>\n",
       "      <td>1.0</td>\n",
       "    </tr>\n",
       "    <tr>\n",
       "      <th>last_ret</th>\n",
       "      <td>0.041096</td>\n",
       "    </tr>\n",
       "    <tr>\n",
       "      <th>close_ret</th>\n",
       "      <td>0.015068</td>\n",
       "    </tr>\n",
       "    <tr>\n",
       "      <th>number_of_shares</th>\n",
       "      <td>1000.0</td>\n",
       "    </tr>\n",
       "    <tr>\n",
       "      <th>market_cap</th>\n",
       "      <td>1482000</td>\n",
       "    </tr>\n",
       "    <tr>\n",
       "      <th>bid_price_4</th>\n",
       "      <td>1436.0</td>\n",
       "    </tr>\n",
       "    <tr>\n",
       "      <th>bid_vol_4</th>\n",
       "      <td>100.0</td>\n",
       "    </tr>\n",
       "    <tr>\n",
       "      <th>ask_price_4</th>\n",
       "      <td>1588.0</td>\n",
       "    </tr>\n",
       "    <tr>\n",
       "      <th>ask_vol_4</th>\n",
       "      <td>9.0</td>\n",
       "    </tr>\n",
       "    <tr>\n",
       "      <th>bid_price_3</th>\n",
       "      <td>1437.0</td>\n",
       "    </tr>\n",
       "    <tr>\n",
       "      <th>bid_vol_3</th>\n",
       "      <td>50.0</td>\n",
       "    </tr>\n",
       "    <tr>\n",
       "      <th>ask_price_3</th>\n",
       "      <td>1575.0</td>\n",
       "    </tr>\n",
       "    <tr>\n",
       "      <th>ask_vol_3</th>\n",
       "      <td>10.0</td>\n",
       "    </tr>\n",
       "    <tr>\n",
       "      <th>bid_price_5</th>\n",
       "      <td>1434.0</td>\n",
       "    </tr>\n",
       "    <tr>\n",
       "      <th>bid_vol_5</th>\n",
       "      <td>100.0</td>\n",
       "    </tr>\n",
       "    <tr>\n",
       "      <th>ask_price_5</th>\n",
       "      <td>1660.0</td>\n",
       "    </tr>\n",
       "    <tr>\n",
       "      <th>ask_vol_5</th>\n",
       "      <td>10.0</td>\n",
       "    </tr>\n",
       "    <tr>\n",
       "      <th>bid_price_1</th>\n",
       "      <td>1454.49659</td>\n",
       "    </tr>\n",
       "    <tr>\n",
       "      <th>bid_vol_1</th>\n",
       "      <td>10.0</td>\n",
       "    </tr>\n",
       "    <tr>\n",
       "      <th>ask_price_1</th>\n",
       "      <td>1542.40968</td>\n",
       "    </tr>\n",
       "    <tr>\n",
       "      <th>ask_vol_1</th>\n",
       "      <td>11.0</td>\n",
       "    </tr>\n",
       "    <tr>\n",
       "      <th>bid_price_2</th>\n",
       "      <td>1438.0</td>\n",
       "    </tr>\n",
       "    <tr>\n",
       "      <th>bid_vol_2</th>\n",
       "      <td>10.0</td>\n",
       "    </tr>\n",
       "    <tr>\n",
       "      <th>ask_price_2</th>\n",
       "      <td>1566.0</td>\n",
       "    </tr>\n",
       "    <tr>\n",
       "      <th>ask_vol_2</th>\n",
       "      <td>8.0</td>\n",
       "    </tr>\n",
       "    <tr>\n",
       "      <th>ask_value_1</th>\n",
       "      <td>16984.0</td>\n",
       "    </tr>\n",
       "    <tr>\n",
       "      <th>ask_value_2</th>\n",
       "      <td>12528.0</td>\n",
       "    </tr>\n",
       "    <tr>\n",
       "      <th>ask_value_3</th>\n",
       "      <td>15750.0</td>\n",
       "    </tr>\n",
       "    <tr>\n",
       "      <th>ask_value_4</th>\n",
       "      <td>14292.0</td>\n",
       "    </tr>\n",
       "    <tr>\n",
       "      <th>ask_value_5</th>\n",
       "      <td>16600.0</td>\n",
       "    </tr>\n",
       "    <tr>\n",
       "      <th>bid_value_1</th>\n",
       "      <td>14530.0</td>\n",
       "    </tr>\n",
       "    <tr>\n",
       "      <th>bid_value_2</th>\n",
       "      <td>14380.0</td>\n",
       "    </tr>\n",
       "    <tr>\n",
       "      <th>bid_value_3</th>\n",
       "      <td>71850.0</td>\n",
       "    </tr>\n",
       "    <tr>\n",
       "      <th>bid_value_4</th>\n",
       "      <td>143600.0</td>\n",
       "    </tr>\n",
       "    <tr>\n",
       "      <th>bid_value_5</th>\n",
       "      <td>143400.0</td>\n",
       "    </tr>\n",
       "    <tr>\n",
       "      <th>time</th>\n",
       "      <td>2023-05-02 19:36:07.780825</td>\n",
       "    </tr>\n",
       "    <tr>\n",
       "      <th>date</th>\n",
       "      <td>2023-05-02</td>\n",
       "    </tr>\n",
       "    <tr>\n",
       "      <th>jalali_date</th>\n",
       "      <td>1402-02-12</td>\n",
       "    </tr>\n",
       "    <tr>\n",
       "      <th>base_symbol</th>\n",
       "      <td>وتجارت</td>\n",
       "    </tr>\n",
       "    <tr>\n",
       "      <th>jalali_due_date</th>\n",
       "      <td>1402-06-14 00:00:00</td>\n",
       "    </tr>\n",
       "    <tr>\n",
       "      <th>days_until_due</th>\n",
       "      <td>125</td>\n",
       "    </tr>\n",
       "    <tr>\n",
       "      <th>miladi_due_date</th>\n",
       "      <td>2023-09-05 00:00:00</td>\n",
       "    </tr>\n",
       "    <tr>\n",
       "      <th>due_date_price</th>\n",
       "      <td>1500</td>\n",
       "    </tr>\n",
       "    <tr>\n",
       "      <th>last_trade_base</th>\n",
       "      <td>2684.0</td>\n",
       "    </tr>\n",
       "    <tr>\n",
       "      <th>symbol_base</th>\n",
       "      <td>وتجارت</td>\n",
       "    </tr>\n",
       "    <tr>\n",
       "      <th>id_base</th>\n",
       "      <td>63917421733088077</td>\n",
       "    </tr>\n",
       "    <tr>\n",
       "      <th>isin_base</th>\n",
       "      <td>IRO1BTEJ0001</td>\n",
       "    </tr>\n",
       "    <tr>\n",
       "      <th>min_allowed_price_base</th>\n",
       "      <td>2400.0</td>\n",
       "    </tr>\n",
       "    <tr>\n",
       "      <th>in_the_money_percentage</th>\n",
       "      <td>0.441133</td>\n",
       "    </tr>\n",
       "    <tr>\n",
       "      <th>ask_price_1_w_o_c</th>\n",
       "      <td>1544.0</td>\n",
       "    </tr>\n",
       "    <tr>\n",
       "      <th>bid_price_1_w_o_c</th>\n",
       "      <td>1453.0</td>\n",
       "    </tr>\n",
       "    <tr>\n",
       "      <th>leverage_ask_price_1</th>\n",
       "      <td>1.740134</td>\n",
       "    </tr>\n",
       "    <tr>\n",
       "      <th>leverage_bid_price_1</th>\n",
       "      <td>1.845312</td>\n",
       "    </tr>\n",
       "    <tr>\n",
       "      <th>leverage_last_trade</th>\n",
       "      <td>1.765789</td>\n",
       "    </tr>\n",
       "    <tr>\n",
       "      <th>interest_rate_last_trade</th>\n",
       "      <td>1.097026</td>\n",
       "    </tr>\n",
       "    <tr>\n",
       "      <th>interest_rate_ask_price_1</th>\n",
       "      <td>1.219507</td>\n",
       "    </tr>\n",
       "    <tr>\n",
       "      <th>interest_rate_bid_price_1</th>\n",
       "      <td>0.78721</td>\n",
       "    </tr>\n",
       "    <tr>\n",
       "      <th>spread_pct</th>\n",
       "      <td>6.044228</td>\n",
       "    </tr>\n",
       "    <tr>\n",
       "      <th>IV</th>\n",
       "      <td>1.474936</td>\n",
       "    </tr>\n",
       "    <tr>\n",
       "      <th>call_bs</th>\n",
       "      <td>1549.551477</td>\n",
       "    </tr>\n",
       "    <tr>\n",
       "      <th>diff</th>\n",
       "      <td>-29.551477</td>\n",
       "    </tr>\n",
       "  </tbody>\n",
       "</table>\n",
       "</div>"
      ],
      "text/plain": [
       "                                                       25\n",
       "id_option                               52157458348940396\n",
       "isin_option                                  IRO9BTEJ4551\n",
       "symbol_option                                    ضجار6000\n",
       "name                       اختيارخ وتجارت-1500-1402/06/14\n",
       "open_price                                         1431.0\n",
       "close_price                                        1482.0\n",
       "last_trade_option                                  1520.0\n",
       "count                                                 179\n",
       "volume                                            11628.0\n",
       "value                                       17237346000.0\n",
       "low_price                                          1431.0\n",
       "high_price                                         1569.0\n",
       "yesterday_price                                      1460\n",
       "table_id                                                3\n",
       "group_id                                               57\n",
       "max_allowed_price                                100000.0\n",
       "min_allowed_price_option                              1.0\n",
       "last_ret                                         0.041096\n",
       "close_ret                                        0.015068\n",
       "number_of_shares                                   1000.0\n",
       "market_cap                                        1482000\n",
       "bid_price_4                                        1436.0\n",
       "bid_vol_4                                           100.0\n",
       "ask_price_4                                        1588.0\n",
       "ask_vol_4                                             9.0\n",
       "bid_price_3                                        1437.0\n",
       "bid_vol_3                                            50.0\n",
       "ask_price_3                                        1575.0\n",
       "ask_vol_3                                            10.0\n",
       "bid_price_5                                        1434.0\n",
       "bid_vol_5                                           100.0\n",
       "ask_price_5                                        1660.0\n",
       "ask_vol_5                                            10.0\n",
       "bid_price_1                                    1454.49659\n",
       "bid_vol_1                                            10.0\n",
       "ask_price_1                                    1542.40968\n",
       "ask_vol_1                                            11.0\n",
       "bid_price_2                                        1438.0\n",
       "bid_vol_2                                            10.0\n",
       "ask_price_2                                        1566.0\n",
       "ask_vol_2                                             8.0\n",
       "ask_value_1                                       16984.0\n",
       "ask_value_2                                       12528.0\n",
       "ask_value_3                                       15750.0\n",
       "ask_value_4                                       14292.0\n",
       "ask_value_5                                       16600.0\n",
       "bid_value_1                                       14530.0\n",
       "bid_value_2                                       14380.0\n",
       "bid_value_3                                       71850.0\n",
       "bid_value_4                                      143600.0\n",
       "bid_value_5                                      143400.0\n",
       "time                           2023-05-02 19:36:07.780825\n",
       "date                                           2023-05-02\n",
       "jalali_date                                    1402-02-12\n",
       "base_symbol                                        وتجارت\n",
       "jalali_due_date                       1402-06-14 00:00:00\n",
       "days_until_due                                        125\n",
       "miladi_due_date                       2023-09-05 00:00:00\n",
       "due_date_price                                       1500\n",
       "last_trade_base                                    2684.0\n",
       "symbol_base                                        وتجارت\n",
       "id_base                                 63917421733088077\n",
       "isin_base                                    IRO1BTEJ0001\n",
       "min_allowed_price_base                             2400.0\n",
       "in_the_money_percentage                          0.441133\n",
       "ask_price_1_w_o_c                                  1544.0\n",
       "bid_price_1_w_o_c                                  1453.0\n",
       "leverage_ask_price_1                             1.740134\n",
       "leverage_bid_price_1                             1.845312\n",
       "leverage_last_trade                              1.765789\n",
       "interest_rate_last_trade                         1.097026\n",
       "interest_rate_ask_price_1                        1.219507\n",
       "interest_rate_bid_price_1                         0.78721\n",
       "spread_pct                                       6.044228\n",
       "IV                                               1.474936\n",
       "call_bs                                       1549.551477\n",
       "diff                                           -29.551477"
      ]
     },
     "execution_count": 13,
     "metadata": {},
     "output_type": "execute_result"
    }
   ],
   "source": [
    "pd.options.display.max_rows = 100\n",
    "\n",
    "options_selected[options_selected['symbol_option']=='ضجار6000'].T"
   ]
  },
  {
   "cell_type": "code",
   "execution_count": 14,
   "metadata": {},
   "outputs": [
    {
     "data": {
      "text/plain": [
       "1174.5177300541886"
      ]
     },
     "execution_count": 14,
     "metadata": {},
     "output_type": "execute_result"
    }
   ],
   "source": [
    "black_scholes_call(2114,1500,135/365 , 0.75, 1.5)"
   ]
  },
  {
   "cell_type": "code",
   "execution_count": 15,
   "metadata": {},
   "outputs": [
    {
     "ename": "KeyError",
     "evalue": "'ITM'",
     "output_type": "error",
     "traceback": [
      "\u001b[1;31m---------------------------------------------------------------------------\u001b[0m",
      "\u001b[1;31mKeyError\u001b[0m                                  Traceback (most recent call last)",
      "File \u001b[1;32mc:\\Users\\herme\\miniconda3\\envs\\mynewEnv\\lib\\site-packages\\pandas\\core\\indexes\\base.py:3802\u001b[0m, in \u001b[0;36mIndex.get_loc\u001b[1;34m(self, key, method, tolerance)\u001b[0m\n\u001b[0;32m   3801\u001b[0m \u001b[39mtry\u001b[39;00m:\n\u001b[1;32m-> 3802\u001b[0m     \u001b[39mreturn\u001b[39;00m \u001b[39mself\u001b[39;49m\u001b[39m.\u001b[39;49m_engine\u001b[39m.\u001b[39;49mget_loc(casted_key)\n\u001b[0;32m   3803\u001b[0m \u001b[39mexcept\u001b[39;00m \u001b[39mKeyError\u001b[39;00m \u001b[39mas\u001b[39;00m err:\n",
      "File \u001b[1;32mc:\\Users\\herme\\miniconda3\\envs\\mynewEnv\\lib\\site-packages\\pandas\\_libs\\index.pyx:138\u001b[0m, in \u001b[0;36mpandas._libs.index.IndexEngine.get_loc\u001b[1;34m()\u001b[0m\n",
      "File \u001b[1;32mc:\\Users\\herme\\miniconda3\\envs\\mynewEnv\\lib\\site-packages\\pandas\\_libs\\index.pyx:165\u001b[0m, in \u001b[0;36mpandas._libs.index.IndexEngine.get_loc\u001b[1;34m()\u001b[0m\n",
      "File \u001b[1;32mpandas\\_libs\\hashtable_class_helper.pxi:5745\u001b[0m, in \u001b[0;36mpandas._libs.hashtable.PyObjectHashTable.get_item\u001b[1;34m()\u001b[0m\n",
      "File \u001b[1;32mpandas\\_libs\\hashtable_class_helper.pxi:5753\u001b[0m, in \u001b[0;36mpandas._libs.hashtable.PyObjectHashTable.get_item\u001b[1;34m()\u001b[0m\n",
      "\u001b[1;31mKeyError\u001b[0m: 'ITM'",
      "\nThe above exception was the direct cause of the following exception:\n",
      "\u001b[1;31mKeyError\u001b[0m                                  Traceback (most recent call last)",
      "Cell \u001b[1;32mIn[15], line 1\u001b[0m\n\u001b[1;32m----> 1\u001b[0m options_selected[\u001b[39m'\u001b[39m\u001b[39mITM\u001b[39m\u001b[39m'\u001b[39m] \u001b[39m=\u001b[39m options_selected[\u001b[39m'\u001b[39;49m\u001b[39mITM\u001b[39;49m\u001b[39m'\u001b[39;49m]\u001b[39m.\u001b[39mastype(\u001b[39mstr\u001b[39m)\n\u001b[0;32m      2\u001b[0m px\u001b[39m.\u001b[39mscatter_3d(options_selected , x\u001b[39m=\u001b[39m\u001b[39m'\u001b[39m\u001b[39mdays_until_due\u001b[39m\u001b[39m'\u001b[39m , y\u001b[39m=\u001b[39m\u001b[39m'\u001b[39m\u001b[39minterest_rate_last_trade\u001b[39m\u001b[39m'\u001b[39m,z\u001b[39m=\u001b[39m\u001b[39m'\u001b[39m\u001b[39min_the_money_percentage\u001b[39m\u001b[39m'\u001b[39m,\n\u001b[0;32m      3\u001b[0m            hover_data\u001b[39m=\u001b[39m[\u001b[39m'\u001b[39m\u001b[39msymbol_option\u001b[39m\u001b[39m'\u001b[39m,\u001b[39m'\u001b[39m\u001b[39mdiff\u001b[39m\u001b[39m'\u001b[39m] ,color\u001b[39m=\u001b[39m\u001b[39m'\u001b[39m\u001b[39mITM\u001b[39m\u001b[39m'\u001b[39m)\n",
      "File \u001b[1;32mc:\\Users\\herme\\miniconda3\\envs\\mynewEnv\\lib\\site-packages\\pandas\\core\\frame.py:3807\u001b[0m, in \u001b[0;36mDataFrame.__getitem__\u001b[1;34m(self, key)\u001b[0m\n\u001b[0;32m   3805\u001b[0m \u001b[39mif\u001b[39;00m \u001b[39mself\u001b[39m\u001b[39m.\u001b[39mcolumns\u001b[39m.\u001b[39mnlevels \u001b[39m>\u001b[39m \u001b[39m1\u001b[39m:\n\u001b[0;32m   3806\u001b[0m     \u001b[39mreturn\u001b[39;00m \u001b[39mself\u001b[39m\u001b[39m.\u001b[39m_getitem_multilevel(key)\n\u001b[1;32m-> 3807\u001b[0m indexer \u001b[39m=\u001b[39m \u001b[39mself\u001b[39;49m\u001b[39m.\u001b[39;49mcolumns\u001b[39m.\u001b[39;49mget_loc(key)\n\u001b[0;32m   3808\u001b[0m \u001b[39mif\u001b[39;00m is_integer(indexer):\n\u001b[0;32m   3809\u001b[0m     indexer \u001b[39m=\u001b[39m [indexer]\n",
      "File \u001b[1;32mc:\\Users\\herme\\miniconda3\\envs\\mynewEnv\\lib\\site-packages\\pandas\\core\\indexes\\base.py:3804\u001b[0m, in \u001b[0;36mIndex.get_loc\u001b[1;34m(self, key, method, tolerance)\u001b[0m\n\u001b[0;32m   3802\u001b[0m     \u001b[39mreturn\u001b[39;00m \u001b[39mself\u001b[39m\u001b[39m.\u001b[39m_engine\u001b[39m.\u001b[39mget_loc(casted_key)\n\u001b[0;32m   3803\u001b[0m \u001b[39mexcept\u001b[39;00m \u001b[39mKeyError\u001b[39;00m \u001b[39mas\u001b[39;00m err:\n\u001b[1;32m-> 3804\u001b[0m     \u001b[39mraise\u001b[39;00m \u001b[39mKeyError\u001b[39;00m(key) \u001b[39mfrom\u001b[39;00m \u001b[39merr\u001b[39;00m\n\u001b[0;32m   3805\u001b[0m \u001b[39mexcept\u001b[39;00m \u001b[39mTypeError\u001b[39;00m:\n\u001b[0;32m   3806\u001b[0m     \u001b[39m# If we have a listlike key, _check_indexing_error will raise\u001b[39;00m\n\u001b[0;32m   3807\u001b[0m     \u001b[39m#  InvalidIndexError. Otherwise we fall through and re-raise\u001b[39;00m\n\u001b[0;32m   3808\u001b[0m     \u001b[39m#  the TypeError.\u001b[39;00m\n\u001b[0;32m   3809\u001b[0m     \u001b[39mself\u001b[39m\u001b[39m.\u001b[39m_check_indexing_error(key)\n",
      "\u001b[1;31mKeyError\u001b[0m: 'ITM'"
     ]
    }
   ],
   "source": [
    "options_selected['ITM'] = options_selected['ITM'].astype(str)\n",
    "px.scatter_3d(options_selected , x='days_until_due' , y='interest_rate_last_trade',z='in_the_money_percentage',\n",
    "           hover_data=['symbol_option','diff'] ,color='ITM')"
   ]
  },
  {
   "cell_type": "code",
   "execution_count": 16,
   "metadata": {},
   "outputs": [],
   "source": [
    "options_selected['ITM'] = 1"
   ]
  },
  {
   "cell_type": "code",
   "execution_count": 17,
   "metadata": {},
   "outputs": [],
   "source": [
    "options_selected['ITM'][options_selected['due_date_price'] > options_selected['last_trade_option'] ] = 0"
   ]
  },
  {
   "cell_type": "code",
   "execution_count": 18,
   "metadata": {},
   "outputs": [
    {
     "data": {
      "text/plain": [
       "2771.980627857295"
      ]
     },
     "execution_count": 18,
     "metadata": {},
     "output_type": "execute_result"
    }
   ],
   "source": [
    "options_selected['interest_rate_last_trade'][options_selected['ITM']==1].mean()"
   ]
  },
  {
   "cell_type": "code",
   "execution_count": 19,
   "metadata": {},
   "outputs": [
    {
     "data": {
      "text/plain": [
       "3.046115164546379"
      ]
     },
     "execution_count": 19,
     "metadata": {},
     "output_type": "execute_result"
    }
   ],
   "source": [
    "options_selected['interest_rate_last_trade'][(options_selected['ITM']==0 )& (options_selected['interest_rate_last_trade']<np.inf)].mean()"
   ]
  },
  {
   "cell_type": "code",
   "execution_count": 20,
   "metadata": {},
   "outputs": [],
   "source": [
    "class BlackScholes:\n",
    "    \"\"\" \n",
    "    Class to calculate (European) call and put option prices through the Black-Scholes formula \n",
    "    without dividends\n",
    "    \n",
    "    :param S: Price of underlying stock\n",
    "    :param K: Strike price\n",
    "    :param T: Time till expiration (in years)\n",
    "    :param r: Risk-free interest rate (0.05 indicates 5%)\n",
    "    :param sigma: Volatility (standard deviation) of stock (0.15 indicates 15%)\n",
    "    \"\"\"\n",
    "    @staticmethod\n",
    "    def _d1(S, K, T, r, sigma):\n",
    "        return (1 / (sigma * np.sqrt(T))) * (np.log(S/K) + (r + sigma**2 / 2) * T)\n",
    "    \n",
    "    def _d2(self, S, K, T, r, sigma):\n",
    "        return self._d1(S, K, T, r, sigma) - sigma * np.sqrt(T)\n",
    "    \n",
    "    def call_price(self, S, K, T, r, sigma):\n",
    "        \"\"\" Main method for calculating price of a call option \"\"\"\n",
    "        d1 = self._d1(S, K, T, r, sigma)\n",
    "        d2 = self._d2(S, K, T, r, sigma)\n",
    "        return norm.cdf(d1) * S - norm.cdf(d2) * K * np.exp(-r*T)\n",
    "    \n",
    "    def put_price(self, S, K, T, r, sigma):\n",
    "        \"\"\" Main method for calculating price of a put option \"\"\"\n",
    "        d1 = self._d1(S, K, T, r, sigma)\n",
    "        d2 = self._d2(S, K, T, r, sigma)\n",
    "        return norm.cdf(-d2) * K * np.exp(-r*T) - norm.cdf(-d1) * S\n",
    "    \n",
    "    def call_in_the_money(self, S, K, T, r, sigma):\n",
    "        \"\"\" \n",
    "        Calculate probability that call option will be in the money at\n",
    "        maturity according to Black-Scholes.\n",
    "        \"\"\"\n",
    "        d2 = self._d2(S, K, T, r, sigma)\n",
    "        return norm.cdf(d2)\n",
    "    \n",
    "    def put_in_the_money(self, S, K, T, r, sigma):\n",
    "        \"\"\" \n",
    "        Calculate probability that put option will be in the money at\n",
    "        maturity according to Black-Scholes.\n",
    "        \"\"\"\n",
    "        d2 = self._d2(S, K, T, r, sigma)\n",
    "        return 1 - norm.cdf(d2)"
   ]
  },
  {
   "cell_type": "code",
   "execution_count": 21,
   "metadata": {},
   "outputs": [],
   "source": [
    "def call_implied_volatility(price, S, K, T, r):\n",
    "    \"\"\" Calculate implied volatility of a call option up to 2 decimals of precision. \"\"\"\n",
    "    sigma = 0.0001\n",
    "    while sigma < 1:\n",
    "        d1 = BlackScholes()._d1(S, K, T, r, sigma)\n",
    "        d2 = BlackScholes()._d2(S, K, T, r, sigma)\n",
    "        price_implied = S * norm.cdf(d1) - K * np.exp(-r*T) * norm.cdf(d2)\n",
    "        if price - price_implied < 0.0001:\n",
    "            return sigma\n",
    "        sigma += 0.0001\n",
    "    return \"Not Found\"\n",
    "\n",
    "def put_implied_volatility(price, S, K, T, r):\n",
    "    \"\"\" Calculate implied volatility of a put option up to 2 decimals of precision. \"\"\"\n",
    "    sigma = 0.0001\n",
    "    while sigma < 1:\n",
    "        call = BlackScholes().call_price(S, K, T, r, sigma)\n",
    "        price_implied = K * np.exp(-r*T) - S + call\n",
    "        if price - price_implied < 0.0001:\n",
    "            return sigma\n",
    "        sigma += 0.0001\n",
    "    return \"Not Found\""
   ]
  },
  {
   "cell_type": "code",
   "execution_count": 22,
   "metadata": {},
   "outputs": [],
   "source": [
    "class OptionStrategies:\n",
    "    @staticmethod\n",
    "    def short_straddle(S, K, T, r, sigma):\n",
    "        call = BlackScholes().call_price(S, K, T, r, sigma)\n",
    "        put = BlackScholes().put_price(S, K, T, r, sigma)\n",
    "        return - put - call\n",
    "    \n",
    "    @staticmethod\n",
    "    def long_straddle(S, K, T, r, sigma):\n",
    "        call = BlackScholes().call_price(S, K, T, r, sigma)\n",
    "        put = BlackScholes().put_price(S, K, T, r, sigma)\n",
    "        return put + call\n",
    "    \n",
    "    @staticmethod\n",
    "    def short_strangle(S, K1, K2, T, r, sigma):\n",
    "        assert K1 < K2, f\"Please make sure that K1 < K2. Now K1={K1}, K2={K2}\"\n",
    "        put = BlackScholes().put_price(S, K1, T, r, sigma)\n",
    "        call = BlackScholes().call_price(S, K2, T, r, sigma)\n",
    "        return - put - call\n",
    "    \n",
    "    @staticmethod\n",
    "    def long_strangle(S, K1, K2, T, r, sigma):\n",
    "        assert K1 < K2, f\"Please make sure that K1 < K2. Now K1={K1}, K2={K2}\"\n",
    "        put = BlackScholes().put_price(S, K1, T, r, sigma)\n",
    "        call = BlackScholes().call_price(S, K2, T, r, sigma)\n",
    "        return put + call\n",
    "    \n",
    "    @staticmethod\n",
    "    def short_put_butterfly(S, K1, K2, K3, T, r, sigma):\n",
    "        assert K1 < K2 < K3, f\"Please make sure that K1 < K2 < K3. Now K1={K1}, K2={K2}, K3={K3}\"\n",
    "        put1 = BlackScholes().put_price(S, K1, T, r, sigma)\n",
    "        put2 = BlackScholes().put_price(S, K2, T, r, sigma)\n",
    "        put3 = BlackScholes().put_price(S, K3, T, r, sigma)\n",
    "        return - put1 + 2 * put2 - put3\n",
    "    \n",
    "    @staticmethod\n",
    "    def long_call_butterfly(S, K1, K2, K3, T, r, sigma):\n",
    "        assert K1 < K2 < K3, f\"Please make sure that K1 < K2 < K3. Now K1={K1}, K2={K2}, K3={K3}\"\n",
    "        call1 = BlackScholes().call_price(S, K1, T, r, sigma)\n",
    "        call2 = BlackScholes().call_price(S, K2, T, r, sigma)\n",
    "        call3 = BlackScholes().call_price(S, K3, T, r, sigma)\n",
    "        return call1 - 2 * call2 + call3\n",
    "    \n",
    "    @staticmethod\n",
    "    def short_iron_condor(S, K1, K2, K3, K4, T, r, sigma):\n",
    "        assert K1 < K2 < K3 < K4, f\"Please make sure that K1 < K2 < K3 < K4. Now K1={K1}, K2={K2}, K3={K3}, K4={K4}\"\n",
    "        put1 = BlackScholes().put_price(S, K1, T, r, sigma)\n",
    "        put2 = BlackScholes().put_price(S, K2, T, r, sigma)\n",
    "        call1 = BlackScholes().call_price(S, K3, T, r, sigma)\n",
    "        call2 = BlackScholes().call_price(S, K4, T, r, sigma)\n",
    "        return put1 - put2 - call1 + call2\n",
    "    \n",
    "    @staticmethod\n",
    "    def long_iron_condor(S, K1, K2, K3, K4, T, r, sigma):\n",
    "        assert K1 < K2 < K3 < K4, f\"Please make sure that K1 < K2 < K3 < K4. Now K1={K1}, K2={K2}, K3={K3}, K4={K4}\"\n",
    "        put1 = BlackScholes().put_price(S, K1, T, r, sigma)\n",
    "        put2 = BlackScholes().put_price(S, K2, T, r, sigma)\n",
    "        call1 = BlackScholes().call_price(S, K3, T, r, sigma)\n",
    "        call2 = BlackScholes().call_price(S, K4, T, r, sigma)\n",
    "\n",
    "        return - put1 + put2 + call1 - call2"
   ]
  },
  {
   "cell_type": "code",
   "execution_count": 24,
   "metadata": {},
   "outputs": [],
   "source": []
  },
  {
   "cell_type": "code",
   "execution_count": null,
   "metadata": {},
   "outputs": [],
   "source": []
  },
  {
   "cell_type": "code",
   "execution_count": null,
   "metadata": {},
   "outputs": [],
   "source": []
  },
  {
   "cell_type": "code",
   "execution_count": null,
   "metadata": {},
   "outputs": [],
   "source": []
  },
  {
   "cell_type": "code",
   "execution_count": null,
   "metadata": {},
   "outputs": [],
   "source": []
  }
 ],
 "metadata": {
  "kernelspec": {
   "display_name": "mynewEnv",
   "language": "python",
   "name": "python3"
  },
  "language_info": {
   "codemirror_mode": {
    "name": "ipython",
    "version": 3
   },
   "file_extension": ".py",
   "mimetype": "text/x-python",
   "name": "python",
   "nbconvert_exporter": "python",
   "pygments_lexer": "ipython3",
   "version": "3.8.16"
  },
  "orig_nbformat": 4
 },
 "nbformat": 4,
 "nbformat_minor": 2
}
